{
 "cells": [
  {
   "cell_type": "markdown",
   "id": "fb461670",
   "metadata": {},
   "source": [
    "1.Mailing Address\n",
    "Create a program that displays your name and complete mailing address formatted in the manner that you would usually see it on the outside of an envolope. Your program does not need to read any input from the user.\n"
   ]
  },
  {
   "cell_type": "code",
   "execution_count": 2,
   "id": "4e14ded7",
   "metadata": {},
   "outputs": [
    {
     "name": "stdout",
     "output_type": "stream",
     "text": [
      "Vishnuvardhan S.\n",
      "29, Sharmila Avenue,\n",
      "Vibeeshnapuram,\n",
      "Chidambaram\n"
     ]
    }
   ],
   "source": [
    "print(\"Vishnuvardhan S.\")\n",
    "print(\"29, Sharmila Avenue,\")\n",
    "print(\"Vibeeshnapuram,\")\n",
    "print(\"Chidambaram\")"
   ]
  },
  {
   "cell_type": "code",
   "execution_count": 3,
   "id": "2f99e2ea",
   "metadata": {},
   "outputs": [
    {
     "name": "stdout",
     "output_type": "stream",
     "text": [
      "Enter your name:vishnu\n",
      "vishnu\n"
     ]
    }
   ],
   "source": [
    "name=input(\"Enter your name:\")\n",
    "print(name)"
   ]
  },
  {
   "cell_type": "markdown",
   "id": "890b12a7",
   "metadata": {},
   "source": [
    "2.Hello\n",
    "Write a program that asks the user to enter his or her name. The program should respond with a message that says hello to the user, usind his or her name."
   ]
  },
  {
   "cell_type": "code",
   "execution_count": 4,
   "id": "99aa73ad",
   "metadata": {},
   "outputs": [
    {
     "name": "stdout",
     "output_type": "stream",
     "text": [
      "Enter your name:Vishnu\n",
      "hello Vishnu\n"
     ]
    }
   ],
   "source": [
    "name=input(\"Enter your name:\")\n",
    "print(\"hello\",name)"
   ]
  },
  {
   "cell_type": "markdown",
   "id": "6538703c",
   "metadata": {},
   "source": [
    "3.Area of a room:\n",
    "Write a program that asks the user to enter the width and length oa a room. once the values have been read, your program should compute and display the area of the room. the length and th width will be entered as floating point nnumbers. Include units in your prompt and output message;either feet or meters, depending on which unit you are more comfortable working with."
   ]
  },
  {
   "cell_type": "code",
   "execution_count": 12,
   "id": "6d262bad",
   "metadata": {},
   "outputs": [
    {
     "name": "stdout",
     "output_type": "stream",
     "text": [
      "Enter the length of the room:20.5\n",
      "Enter the breadth of the room:33.5\n",
      "686.75 meters\n"
     ]
    }
   ],
   "source": [
    "length=float(input(\"Enter the length of the room:\"))\n",
    "breadth=float(input(\"Enter the breadth of the room:\"))\n",
    "area=length*breadth\n",
    "print(area,\"meters\")"
   ]
  },
  {
   "cell_type": "markdown",
   "id": "c5e7102e",
   "metadata": {},
   "source": [
    "4.Area of a Field:\n",
    "Create a program that reads the length and width of a farmer's field from the user in feet. Display the area of the field in acres."
   ]
  },
  {
   "cell_type": "code",
   "execution_count": 24,
   "id": "4b4a3f0f",
   "metadata": {},
   "outputs": [
    {
     "name": "stdout",
     "output_type": "stream",
     "text": [
      "enter the length of the field in feet:10000\n",
      "enter the width of the field in feet:5000\n",
      "1147.84 acres\n"
     ]
    }
   ],
   "source": [
    "length=float(input(\"enter the length of the field in feet:\"))\n",
    "width=float(input(\"enter the width of the field in feet:\"))\n",
    "area=(length*width)/43560\n",
    "print(area,\"acres\")"
   ]
  },
  {
   "cell_type": "markdown",
   "id": "eace8d6d",
   "metadata": {},
   "source": [
    "5.Bottle Deposits:\n",
    "In many jurisdictions a small deposit is added to drink containers to encourage people to recycle them. In one particular jurisdiction, drink containers holding one liter or less have a $0.10 deposit, and drink containers holding more than one liter have a $0.25 deposit. Write a program that reads the number of containers of each size from the user. Your program should continue by computing and displaying the refund that will be recieved for returning those containers. Format the output so that it includes a dollar sign and always displays tro dedcimal places"
   ]
  },
  {
   "cell_type": "code",
   "execution_count": 25,
   "id": "488683af",
   "metadata": {},
   "outputs": [
    {
     "name": "stdout",
     "output_type": "stream",
     "text": [
      "enter the no. of one liter containers:20\n",
      "enter the no. of containers holding more than 1 liter:33\n",
      "the total refund amount:$ 10.25\n"
     ]
    }
   ],
   "source": [
    "one_liter=float(input(\"enter the no. of one liter containers:\"))\n",
    "more_liter=float(input(\"enter the no. of containers holding more than 1 liter:\"))\n",
    "one_dep=one_liter*0.10\n",
    "more_dep=more_liter*0.25\n",
    "total=one_dep+more_dep\n",
    "print(\"the total refund amount:$\",round(total,2))"
   ]
  },
  {
   "cell_type": "markdown",
   "id": "67d394a6",
   "metadata": {},
   "source": [
    "6.Tax and tip:\n",
    "The program that you create for this exercise will begin by reading the cost of a meal ordered at a restaurant from the user. Then your program will compute the tax and tip for the meal. Use your local tax rate when computing the amount of tax owing. Compute the tip as 18 percent of the meal amount(without the tax). The output from your program should include tax amount, the tip amount, and the grand total for the meal including both the tax and the tip. Format the input so that all of the values are displayed using two decimal places."
   ]
  },
  {
   "cell_type": "code",
   "execution_count": 29,
   "id": "31988afb",
   "metadata": {},
   "outputs": [
    {
     "name": "stdout",
     "output_type": "stream",
     "text": [
      "enter the cost of the meal:1234.5678\n",
      "the tax amount: 61.73 \n",
      " the tip amount: 222.22 \n",
      " the total amount: 1518.52\n"
     ]
    }
   ],
   "source": [
    "rate=float(input(\"enter the cost of the meal:\"))\n",
    "tax=5*rate/100\n",
    "tip=18*rate/100\n",
    "total=rate+tax+tip\n",
    "print(\"the tax amount:\",round(tax,2),\"\\n the tip amount:\",round(tip,2),\"\\n the total amount:\",round(total,2))"
   ]
  },
  {
   "cell_type": "markdown",
   "id": "43b64e0e",
   "metadata": {},
   "source": [
    "7.Sum of the first n positive integers:\n",
    "Write a program that reads a positive integer, n, from the user and then displays the sum of all the integers from 1 to n. The sum of the first n positive integers can be computed using the formula:\n",
    "sum=(n)(n+1)/2"
   ]
  },
  {
   "cell_type": "markdown",
   "id": "ba5c855e",
   "metadata": {},
   "source": []
  },
  {
   "cell_type": "code",
   "execution_count": 35,
   "id": "70cbc3fa",
   "metadata": {},
   "outputs": [
    {
     "name": "stdout",
     "output_type": "stream",
     "text": [
      "enter the no. of integers for which the sum must be computed:5\n",
      "the sum of the integers: 15.0\n"
     ]
    }
   ],
   "source": [
    "n=float(input(\"enter the no. of integers for which the sum must be computed:\"))\n",
    "sum=(n)*(n+1)/2\n",
    "print(\"the sum of the integers:\",sum)"
   ]
  },
  {
   "cell_type": "markdown",
   "id": "7196d146",
   "metadata": {},
   "source": [
    "8.Widgets and gizmos:\n",
    "    an onlineretailer sells two products:  widgets and gizmos. Each widget weighs 75 grams. Each gizmos weighs 112 grams. Write a program that reads the no. of widgets and the number of gizmos in order from the user. Then your program should compute and display the total weight of the order."
   ]
  },
  {
   "cell_type": "code",
   "execution_count": 1,
   "id": "b79d4aea",
   "metadata": {},
   "outputs": [
    {
     "name": "stdout",
     "output_type": "stream",
     "text": [
      "enter the no. of widgets:2\n",
      "enter the no. of gizmos5\n",
      "the total weight of the order= 710.0\n"
     ]
    }
   ],
   "source": [
    "widget=float(input(\"enter the no. of widgets:\"))\n",
    "gizmos=float(input(\"enter the no. of gizmos\"))\n",
    "w1=widget*75\n",
    "w2=gizmos*112\n",
    "total=w1+w2\n",
    "print(\"the total weight of the order=\",total)"
   ]
  },
  {
   "cell_type": "markdown",
   "id": "073aa573",
   "metadata": {},
   "source": [
    "9.Compound interest:\n",
    "    pretend that you have just opened a new savings account that earns 4 percent interest per year. The interest that you earn is paid at the end of the year, and is added to the balance of the savings account. Write a program that begins by reading the amount of money deposited into the account from the user. Then your program should compute and display the amount in the savings account after 1,2 and 3 years. Display each amount so that it is rounded to 2 decimal places"
   ]
  },
  {
   "cell_type": "code",
   "execution_count": null,
   "id": "f74a2490",
   "metadata": {},
   "outputs": [],
   "source": []
  },
  {
   "cell_type": "markdown",
   "id": "21a2a269",
   "metadata": {},
   "source": [
    "10.Arithmetic: Create a program that reads two integers, a and b, from the user. Your program should compute and display:\n",
    "i.The sum of a and b\n",
    "ii.The difference when b is subtracted from a\n",
    "iii.The product of a and b\n",
    "iv. The quotient when a is divided by b\n",
    "v.The remainder when a is divided by b\n",
    "vi.The result of log10a\n",
    "vii.the result of a^b"
   ]
  },
  {
   "cell_type": "code",
   "execution_count": 5,
   "id": "cf7bcee1",
   "metadata": {},
   "outputs": [
    {
     "name": "stdout",
     "output_type": "stream",
     "text": [
      "enter that 1st integer, a:10\n",
      "enter that 2nd integer, b:5\n",
      "the sum is: 15.0 \n",
      "the difference is: 5.0 \n",
      "the product is: 50.0 \n",
      "the quotient: 2.0 \n",
      "the remainder: 0.0 \n",
      "log10(a): 1.0 \n",
      "a^b: 100000.0\n"
     ]
    }
   ],
   "source": [
    "import math\n",
    "a=float(input(\"enter that 1st integer, a:\"))\n",
    "b=float(input(\"enter that 2nd integer, b:\"))\n",
    "c=a+b\n",
    "d=a-b\n",
    "e=a*b\n",
    "f=a/b\n",
    "g=a%b\n",
    "h=math.log10(a)\n",
    "i=a**b\n",
    "print(\"the sum is:\",c,\"\\nthe difference is:\",d,\"\\nthe product is:\",e,\"\\nthe quotient:\",f,\"\\nthe remainder:\",g,\"\\nlog10(a):\",h,\"\\na^b:\",i)"
   ]
  },
  {
   "cell_type": "markdown",
   "id": "246b3938",
   "metadata": {},
   "source": [
    "11.Fuel Efficiency:\n",
    "In the US, fuel efficiency for vehicles is normally expressed in miles per gallon(MPG). In Canada, fuel efficiency is expressed in liters per hundred kilometers(L/100km). Use your research skills to determine how to convert from MPG to L/100km. Then create a program thatt reads a value from the user in american units and displays the equivalent fuel efficiency in canadian units.\n",
    "1MPG=235.215L/100km"
   ]
  },
  {
   "cell_type": "code",
   "execution_count": 6,
   "id": "2450363c",
   "metadata": {},
   "outputs": [
    {
     "name": "stdout",
     "output_type": "stream",
     "text": [
      "enter the efficiency in MPG:50\n",
      "the efficiency in canadian unit: 11760.75 L/100km\n"
     ]
    }
   ],
   "source": [
    "us=float(input(\"enter the efficiency in MPG:\"))\n",
    "can=us*235.215\n",
    "print(\"the efficiency in canadian unit:\",can,\"L/100km\")"
   ]
  },
  {
   "cell_type": "markdown",
   "id": "87bf4b40",
   "metadata": {},
   "source": [
    "12.Distance between two points on earth:\n",
    "The surface of the Earth is curved, and the distance between degrees of longitude\n",
    "varies with latitude. As a result, nding the distance between two points on the surface\n",
    "of the Earth is more complicated than simply using the Pythagorean theorem.\n",
    "Let (t1, g1) and (t2, g2) be the latitude and longitude of two points on the Earth’s\n",
    "surface. The distance between these points, following the surface of the Earth, in\n",
    "kilometers is:\n",
    "distance = 6371.01 × arccos(sin(t1) × sin(t2) + cos(t1) × cos(t2) × cos(g1 − g2))\n",
    "The value 6371.01 in the previous equation wasn’t selected at random. It is\n",
    "the average radius of the Earth in kilometers.\n",
    "Create a program that allows the user to enter the latitude and longitude of two\n",
    "points on the Earth in degrees. Your program should display the distance between\n",
    "the points, following the surface of the earth, in kilometers."
   ]
  },
  {
   "cell_type": "code",
   "execution_count": null,
   "id": "37eb0e5b",
   "metadata": {},
   "outputs": [],
   "source": []
  },
  {
   "cell_type": "code",
   "execution_count": 1,
   "id": "632c55eb",
   "metadata": {},
   "outputs": [
    {
     "name": "stdout",
     "output_type": "stream",
     "text": [
      "Enter the latitude and longitude of the 1st point:22 33\n",
      "Enter the latitude and longitude of the 2nd point:44 55\n"
     ]
    },
    {
     "ename": "TypeError",
     "evalue": "must be real number, not str",
     "output_type": "error",
     "traceback": [
      "\u001b[1;31m---------------------------------------------------------------------------\u001b[0m",
      "\u001b[1;31mTypeError\u001b[0m                                 Traceback (most recent call last)",
      "\u001b[1;32m~\\AppData\\Local\\Temp\\ipykernel_9116\\325336619.py\u001b[0m in \u001b[0;36m<module>\u001b[1;34m\u001b[0m\n\u001b[0;32m      2\u001b[0m \u001b[0mt1\u001b[0m\u001b[1;33m,\u001b[0m \u001b[0mg1\u001b[0m\u001b[1;33m=\u001b[0m\u001b[0minput\u001b[0m\u001b[1;33m(\u001b[0m\u001b[1;34m\"Enter the latitude and longitude of the 1st point:\"\u001b[0m\u001b[1;33m)\u001b[0m\u001b[1;33m.\u001b[0m\u001b[0msplit\u001b[0m\u001b[1;33m(\u001b[0m\u001b[1;33m)\u001b[0m\u001b[1;33m\u001b[0m\u001b[1;33m\u001b[0m\u001b[0m\n\u001b[0;32m      3\u001b[0m \u001b[0mt2\u001b[0m\u001b[1;33m,\u001b[0m \u001b[0mg2\u001b[0m\u001b[1;33m=\u001b[0m\u001b[0minput\u001b[0m\u001b[1;33m(\u001b[0m\u001b[1;34m\"Enter the latitude and longitude of the 2nd point:\"\u001b[0m\u001b[1;33m)\u001b[0m\u001b[1;33m.\u001b[0m\u001b[0msplit\u001b[0m\u001b[1;33m(\u001b[0m\u001b[1;33m)\u001b[0m\u001b[1;33m\u001b[0m\u001b[1;33m\u001b[0m\u001b[0m\n\u001b[1;32m----> 4\u001b[1;33m \u001b[0mdis\u001b[0m\u001b[1;33m=\u001b[0m \u001b[1;36m6371.01\u001b[0m\u001b[1;33m*\u001b[0m\u001b[0mmath\u001b[0m\u001b[1;33m.\u001b[0m\u001b[0mcos\u001b[0m\u001b[1;33m(\u001b[0m\u001b[0mmath\u001b[0m\u001b[1;33m.\u001b[0m\u001b[0msin\u001b[0m\u001b[1;33m(\u001b[0m\u001b[0mt1\u001b[0m\u001b[1;33m)\u001b[0m\u001b[1;33m*\u001b[0m\u001b[0mmath\u001b[0m\u001b[1;33m.\u001b[0m\u001b[0msin\u001b[0m\u001b[1;33m(\u001b[0m\u001b[0mt2\u001b[0m\u001b[1;33m)\u001b[0m\u001b[1;33m+\u001b[0m\u001b[0mmath\u001b[0m\u001b[1;33m.\u001b[0m\u001b[0mcos\u001b[0m\u001b[1;33m(\u001b[0m\u001b[0mt1\u001b[0m\u001b[1;33m)\u001b[0m\u001b[1;33m*\u001b[0m\u001b[0mmath\u001b[0m\u001b[1;33m.\u001b[0m\u001b[0mcos\u001b[0m\u001b[1;33m(\u001b[0m\u001b[0mt2\u001b[0m\u001b[1;33m)\u001b[0m\u001b[1;33m*\u001b[0m\u001b[0mmath\u001b[0m\u001b[1;33m.\u001b[0m\u001b[0mcos\u001b[0m\u001b[1;33m(\u001b[0m\u001b[0mg1\u001b[0m\u001b[1;33m-\u001b[0m\u001b[0mg2\u001b[0m\u001b[1;33m)\u001b[0m\u001b[1;33m)\u001b[0m\u001b[1;33m\u001b[0m\u001b[1;33m\u001b[0m\u001b[0m\n\u001b[0m\u001b[0;32m      5\u001b[0m \u001b[0mprint\u001b[0m\u001b[1;33m(\u001b[0m\u001b[1;34m\"the distance between the two points is:\"\u001b[0m\u001b[1;33m,\u001b[0m\u001b[0mdis\u001b[0m\u001b[1;33m)\u001b[0m\u001b[1;33m\u001b[0m\u001b[1;33m\u001b[0m\u001b[0m\n",
      "\u001b[1;31mTypeError\u001b[0m: must be real number, not str"
     ]
    }
   ],
   "source": [
    "import math\n",
    "t1, g1=input(\"Enter the latitude and longitude of the 1st point:\").split()\n",
    "t2, g2=input(\"Enter the latitude and longitude of the 2nd point:\").split()\n",
    "dis= 6371.01*math.cos(math.sin(t1)*math.sin(t2)+math.cos(t1)*math.cos(t2)*math.cos(g1-g2))\n",
    "print(\"the distance between the two points is:\",dis)"
   ]
  },
  {
   "cell_type": "markdown",
   "id": "a032604a",
   "metadata": {},
   "source": [
    "13.Making change:\n",
    "Consider the software that runs on a self-checkout machine. One task that it must be\n",
    "able to perform is to determine how much change to provide when the shopper pays\n",
    "for a purchase with cash.\n",
    "Write a program that begins by reading a number of cents from the user as an\n",
    "integer. Then your program should compute and display the denominations of the\n",
    "coins that should be used to give that amount of change to the shopper. The change\n",
    "should be given using as few coins as possible. Assume that the machine is loaded\n",
    "with pennies, nickels, dimes, quarters, loonies and toonies."
   ]
  },
  {
   "cell_type": "code",
   "execution_count": null,
   "id": "cc3d571a",
   "metadata": {},
   "outputs": [],
   "source": [
    "cent=int(input(\"enter the no. of cents:\"))\n"
   ]
  },
  {
   "cell_type": "markdown",
   "id": "2f77e3d9",
   "metadata": {},
   "source": [
    "14.Height units:\n",
    "Many people think about their height in feet and inches, even in some countries that primarily use the metric system. write a program that reads a number of feet from the user, followed by a number of inches. Once these values are read, your program should compute and display the equivalent number of centimeters"
   ]
  },
  {
   "cell_type": "code",
   "execution_count": 7,
   "id": "1dea4ed6",
   "metadata": {},
   "outputs": [
    {
     "name": "stdout",
     "output_type": "stream",
     "text": [
      "enter your height in feet and inches:15.5 16\n",
      "the height in centimeters: 513.08\n"
     ]
    }
   ],
   "source": [
    "feet,inch=input(\"enter your height in feet and inches:\").split( )\n",
    "feet=eval(feet)\n",
    "inch=eval(inch)\n",
    "cen=(feet*12+inch)*2.54\n",
    "print(\"the height in centimeters:\",cen)"
   ]
  },
  {
   "cell_type": "markdown",
   "id": "467cc517",
   "metadata": {},
   "source": [
    " 15.Distance units:\n",
    " In this exercise, you will create a program that begins by reading a measurement\n",
    "in feet from the user. Then your program should display the equivalent distance in\n",
    "inches, yards and miles. Use the Internet to look up the necessary conversion factors\n",
    "if you don’t have them memorized."
   ]
  },
  {
   "cell_type": "code",
   "execution_count": 2,
   "id": "6839740c",
   "metadata": {},
   "outputs": [
    {
     "name": "stdout",
     "output_type": "stream",
     "text": [
      "enter the distance in feet20\n",
      "the distance in: \n",
      "inches= 240.0 \n",
      "yards= 6.66 \n",
      "miles= 0.0037800000000000004\n"
     ]
    }
   ],
   "source": [
    "feet=float(input(\"enter the distance in feet\"))\n",
    "inch=feet*12\n",
    "yard=feet*0.333\n",
    "mile=feet*0.000189\n",
    "print(\"the distance in: \\ninches=\",inch,\"\\nyards=\",yard,\"\\nmiles=\",mile)"
   ]
  },
  {
   "cell_type": "markdown",
   "id": "9d3a2c5e",
   "metadata": {},
   "source": [
    "16.Area and Volume:\n",
    "Write a program that begins by reading a radius, r, from the user. The program will\n",
    "continue by computing and displaying the area of a circle with radius r and the\n",
    "volume of a sphere with radius r. Use the pi constant in the math module in your\n",
    "calculations."
   ]
  },
  {
   "cell_type": "code",
   "execution_count": 5,
   "id": "ea7b2e9e",
   "metadata": {},
   "outputs": [
    {
     "name": "stdout",
     "output_type": "stream",
     "text": [
      "enter the radius:5\n",
      "the area of the circle= 78.53981633974483 \n",
      "the volume of the sphere is: 523.5987755982989\n"
     ]
    }
   ],
   "source": [
    "import math\n",
    "r=float(input(\"enter the radius:\"))\n",
    "area=math.pi*r**2\n",
    "volume=(4*math.pi*r**3)/3\n",
    "print(\"the area of the circle=\",area,\"\\nthe volume of the sphere is:\",volume)"
   ]
  },
  {
   "cell_type": "markdown",
   "id": "6744450f",
   "metadata": {},
   "source": [
    "17.Heat capacity:\n",
    "The amount of energy required to increase the temperature of one gram of a material\n",
    "by one degree Celsius is the material’s specic heat capacity, C. The total amount\n",
    "of energy required to raise m grams of a material by ΔT degrees Celsius can be\n",
    "computed using the formula:\n",
    "q = mCΔT.\n",
    "Write a program that reads the mass of some water and the temperature change\n",
    "from the user. Your program should display the total amount of energy that must be\n",
    "added or removed to achieve the desired temperature change.\n",
    "Extend your program so that it also computes the cost of heating the water. Electricity is normally billed using units of kilowatt hours rather than Joules. In this\n",
    "exercise, you should assume that electricity costs 8.9 cents per kilowatt-hour. Use\n",
    "your program to compute the cost of boiling water for a cup of coffee."
   ]
  },
  {
   "cell_type": "code",
   "execution_count": 9,
   "id": "ab2d55da",
   "metadata": {},
   "outputs": [
    {
     "name": "stdout",
     "output_type": "stream",
     "text": [
      "enter the mass of water:10\n",
      "enter the temp. change:-5\n",
      "the energy that must be removed is: 209.3\n",
      "the cost: 0.0005174361111111111 cents\n"
     ]
    }
   ],
   "source": [
    "m=eval(input(\"enter the mass of water:\"))\n",
    "t=eval(input(\"enter the temp. change:\"))\n",
    "c=4.186\n",
    "q=m*c*t\n",
    "if q<0:\n",
    "    print(\"the energy that must be removed is:\",-q)\n",
    "else:\n",
    "    print(\"the energy that must be added is:\",q)\n",
    "kwh=q/3600000\n",
    "cost=kwh*8.9\n",
    "if cost<0:\n",
    "    cost=-(cost)\n",
    "print(\"the cost:\",cost,\"cents\")\n"
   ]
  },
  {
   "cell_type": "markdown",
   "id": "b8580a30",
   "metadata": {},
   "source": [
    "18.Volume of the cylinder:\n",
    "The volume of a cylinder can be computed by multiplying the area of its circular\n",
    "base by its height. Write a program that reads the radius of the cylinder, along with\n",
    "its height, from the user and computes its volume. Display the result rounded to one\n",
    "decimal place.\n"
   ]
  },
  {
   "cell_type": "code",
   "execution_count": 14,
   "id": "293028af",
   "metadata": {},
   "outputs": [
    {
     "name": "stdout",
     "output_type": "stream",
     "text": [
      "enter the radius of base:5\n",
      "enter the height of cylinder:10\n",
      "the volume of cylinder= 785.4\n"
     ]
    }
   ],
   "source": [
    "import math\n",
    "r=float(input(\"enter the radius of base:\"))\n",
    "h=float(input(\"enter the height of cylinder:\"))\n",
    "v=math.pi*r**2*h\n",
    "print(\"the volume of cylinder=\",round(v,1))"
   ]
  },
  {
   "cell_type": "markdown",
   "id": "14d98eac",
   "metadata": {},
   "source": [
    "19.Free fall:\n",
    "Create a program that determines how quickly an object is traveling when it hits the\n",
    "ground. The user will enter the height from which the object is dropped in meters (m).\n",
    "Because the object is dropped its initial speed is 0 m/s. Assume that the acceleration\n",
    "due to gravity is 9.8 m/s2. You can use the formula vf =root(vi^2+2ad) to compute the\n",
    "nal speed, vf , when the initial speed, vi , acceleration, a, and distance, d, are known."
   ]
  },
  {
   "cell_type": "code",
   "execution_count": 2,
   "id": "35890421",
   "metadata": {},
   "outputs": [
    {
     "name": "stdout",
     "output_type": "stream",
     "text": [
      "enter the height from which it is dropped:40\n",
      "the final speed is: 28.0 m/s^2\n"
     ]
    }
   ],
   "source": [
    "import math\n",
    "d=eval(input(\"enter the height from which it is dropped:\"))\n",
    "vf=math.sqrt(0**2+2*9.8*d)\n",
    "print(\"the final speed is:\",vf,\"m/s^2\")"
   ]
  },
  {
   "cell_type": "markdown",
   "id": "e4228215",
   "metadata": {},
   "source": [
    "34.Even or odd:\n",
    "Write a program that reads an integer from the user. Then your program should\n",
    "display a message indicating whether the integer is even or odd."
   ]
  },
  {
   "cell_type": "code",
   "execution_count": 20,
   "id": "f4b649ea",
   "metadata": {},
   "outputs": [
    {
     "name": "stdout",
     "output_type": "stream",
     "text": [
      "enter the no.:7\n",
      "7 is odd\n"
     ]
    }
   ],
   "source": [
    "a=int(input(\"enter the no.:\"))\n",
    "if a%2==0:\n",
    "    print(a,\"is even\")\n",
    "else:\n",
    "    print(a,\"is odd\")"
   ]
  },
  {
   "cell_type": "raw",
   "id": "d7b0cd29",
   "metadata": {},
   "source": [
    "35.Dog years:\n",
    "It is commonly said that one human year is equivalent to 7 dog years. However this\n",
    "simple conversion fails to recognize that dogs reach adulthood in approximately two\n",
    "years. As a result, some people believe that it is better to count each of the rst two\n",
    "human years as 10.5 dog years, and then count each additional human year as 4 dog\n",
    "years.Write a program that implements the conversion from human years to dog years\n",
    "described in the previous paragraph. Ensure that your program works correctly for\n",
    "conversions of less than two human years and for conversions of two or more human\n",
    "years. Your program should display an appropriate error message if the user enters\n",
    "a negative number.\n"
   ]
  },
  {
   "cell_type": "code",
   "execution_count": null,
   "id": "36bc32c1",
   "metadata": {},
   "outputs": [],
   "source": []
  },
  {
   "cell_type": "markdown",
   "id": "5e934263",
   "metadata": {},
   "source": [
    "36.Vowel or consonant:\n",
    "In this exercise you will create a program that reads a letter of the alphabet from the\n",
    "user. If the user enters a, e, i, o or u then your program should display a message\n",
    "indicating that the entered letter is a vowel. If the user enters y then your program\n",
    "should display a message indicating that sometimes y is a vowel, and sometimes y is\n",
    "a consonant. Otherwise your program should display a message indicating that the\n",
    "letter is a consonant."
   ]
  },
  {
   "cell_type": "code",
   "execution_count": 8,
   "id": "10dde65f",
   "metadata": {},
   "outputs": [
    {
     "name": "stdout",
     "output_type": "stream",
     "text": [
      "enter a letter:e\n",
      "e is a vowel\n"
     ]
    }
   ],
   "source": [
    "letter=input(\"enter a letter:\")\n",
    "if letter==\"a\" or letter==\"e\" or letter==\"i\" or letter==\"o\" or letter==\"u\":\n",
    "    print(letter,\"is a vowel\")\n",
    "elif letter==\"y\":\n",
    "    print(letter,\"is a vowel sometimes and is a consonant sometimes\")\n",
    "else:\n",
    "    print(letter,\"is a consonant\")"
   ]
  },
  {
   "cell_type": "code",
   "execution_count": null,
   "id": "43be53d9",
   "metadata": {},
   "outputs": [],
   "source": []
  },
  {
   "cell_type": "markdown",
   "id": "43b0733d",
   "metadata": {},
   "source": [
    "37.name that shape:\n",
    "Write a program that determines the name of a shape from its number of sides. Read\n",
    "the number of sides from the user and then report the appropriate name as part of\n",
    "a meaningful message. Your program should support shapes with anywhere from 3\n",
    "up to (and including) 10 sides. If a number of sides outside of this range is entered\n",
    "then your program should display an appropriate error message."
   ]
  },
  {
   "cell_type": "code",
   "execution_count": 10,
   "id": "88cd1ae0",
   "metadata": {},
   "outputs": [
    {
     "name": "stdout",
     "output_type": "stream",
     "text": [
      "enter the no. of sides:10\n",
      "it is a decagon\n"
     ]
    }
   ],
   "source": [
    "s=eval(input(\"enter the no. of sides:\"))\n",
    "if s==3:\n",
    "    print(\"it is a triangle\")\n",
    "elif s==4:\n",
    "    print(\"it is a quadrilateral\")\n",
    "elif s==5:\n",
    "    print(\"it is a pentagon\")\n",
    "elif s==6:\n",
    "    print(\"it is a hexagon\")\n",
    "elif s==7:\n",
    "    print(\"it is a heptagon\")\n",
    "elif s==8:\n",
    "    print(\"it is a octagon\")\n",
    "elif s==9:\n",
    "    print(\"it is a nonagon\")\n",
    "elif s==10:\n",
    "    print(\"it is a decagon\")\n",
    "elif s==1 or s==2:\n",
    "    print(\"there is no shape with that no. of sides\")\n",
    "else:\n",
    "    print(\"limit exceeded\")"
   ]
  },
  {
   "cell_type": "markdown",
   "id": "be346031",
   "metadata": {},
   "source": [
    "38.Month name to no. of days:\n",
    "The length of a month varies from 28 to 31 days. In this exercise you will create\n",
    "a program that reads the name of a month from the user as a string. Then your\n",
    "program should display the number of days in that month. Display “28 or 29 days”\n",
    "for February so that leap years are addressed."
   ]
  },
  {
   "cell_type": "code",
   "execution_count": 16,
   "id": "391ad2af",
   "metadata": {},
   "outputs": [
    {
     "name": "stdout",
     "output_type": "stream",
     "text": [
      "enter the name of the month:january\n",
      "january has 31 days\n"
     ]
    }
   ],
   "source": [
    "mnth=input(\"enter the name of the month:\")\n",
    "if mnth==\"january\" or mnth==\"march\" or mnth==\"may\" or mnth==\"july\" or mnth==\"august\" or mnth==\"october\" or mnth==\"december\":\n",
    "    print(mnth,\"has 31 days\")\n",
    "elif mnth==\"april\" or mnth==\"june\" or mnth==\"september\" or mnth==\"november\":\n",
    "    print(mnth,\"has 30 days\")\n",
    "elif mnth==\"february\":\n",
    "    print(mnth,\"has 28 or 29 days\")"
   ]
  },
  {
   "cell_type": "markdown",
   "id": "dac58313",
   "metadata": {},
   "source": [
    "39.sound levels:\n",
    "The following table lists the sound level in decibels for several common noises.\n",
    "Noise Decibel level (dB)\n",
    "Jackhammer 130\n",
    "Gas lawnmower 106\n",
    "Alarm clock 70\n",
    "Quiet room 40\n",
    "Write a program that reads a sound level in decibels from the user. If the user\n",
    "enters a decibel level that matches one of the noises in the table then your program\n",
    "should display a message containing only that noise. If the user enters a number\n",
    "of decibels between the noises listed then your program should display a message\n",
    "indicating which noises the level is between. Ensure that your program also generates\n",
    "reasonable output for a value smaller than the quietest noise in the table, and for a\n",
    "value larger than the loudest noise in the table.\n",
    "    "
   ]
  },
  {
   "cell_type": "code",
   "execution_count": 10,
   "id": "3765d7d8",
   "metadata": {},
   "outputs": [
    {
     "name": "stdout",
     "output_type": "stream",
     "text": [
      "enter the sound level in decibel:54\n",
      "the sound level falls between quite room and alarm clock\n"
     ]
    }
   ],
   "source": [
    "db=int(input(\"enter the sound level in decibel:\"))\n",
    "if db==130:\n",
    "    print(\"the sound level equals jackhammer\")\n",
    "if db==106:\n",
    "    print(\"the sound level equals gas lawnmower\")\n",
    "if db==70:\n",
    "    print(\"the sound level equals alarm clock\")\n",
    "if db==40:\n",
    "    print(\"the sound level equals quit room\")\n",
    "if db>40 and db<70:\n",
    "    print(\"the sound level falls between quite room and alarm clock\")\n",
    "if db>70 and db<106:\n",
    "    print(\"the sound level falls between alarm clock and gas lawnmower\")\n",
    "if db>106 and db<130:\n",
    "    print(\"the sound level falls between gas lawnmower and jackhammer\")\n",
    "if db>130:\n",
    "    print(\"the sound level is quite large\")\n",
    "if db<40:\n",
    "    print(\"the sound level is very small\")"
   ]
  },
  {
   "cell_type": "markdown",
   "id": "3e1ee4ec",
   "metadata": {},
   "source": [
    "40.Name that triangle:\n",
    "A triangle can be classied based on the lengths of its sides as equilateral, isosceles\n",
    "or scalene. All 3 sides of an equilateral triangle have the same length. An isosceles\n",
    "triangle has two sides that are the same length, and a third side that is a different\n",
    "length. If all of the sides have different lengths then the triangle is scalene.\n",
    "Write a program that reads the lengths of 3 sides of a triangle from the user.\n",
    "Display a message indicating the type of the triangle."
   ]
  },
  {
   "cell_type": "code",
   "execution_count": 15,
   "id": "35f3210c",
   "metadata": {},
   "outputs": [
    {
     "name": "stdout",
     "output_type": "stream",
     "text": [
      "enter the 1st side of the triangle:4\n",
      "enter the 2nd side of the triangle:4\n",
      "enter the 3rd side of the triangle:5\n",
      "the triangle is an isoceles triangle\n"
     ]
    }
   ],
   "source": [
    "a=eval(input(\"enter the 1st side of the triangle:\"))\n",
    "b=eval(input(\"enter the 2nd side of the triangle:\"))\n",
    "c=eval(input(\"enter the 3rd side of the triangle:\"))\n",
    "if a==b and b==c:\n",
    "    print(\"the triangle is an equilateral triangle\")\n",
    "elif a==b or a==c or b==c:\n",
    "    print(\"the triangle is an isoceles triangle\")\n",
    "else:\n",
    "    print(\"the triangle is a scalene triangle\")"
   ]
  },
  {
   "cell_type": "markdown",
   "id": "658026ee",
   "metadata": {},
   "source": [
    "41.Note To Frequency:\n",
    "The following table lists an octave of music notes, beginning with middle C, along\n",
    "with their frequencies.\n",
    "Note Frequency (Hz)\n",
    "C4 261.63\n",
    "D4 293.66\n",
    "E4 329.63\n",
    "F4 349.23\n",
    "G4 392.00\n",
    "A4 440.00\n",
    "B4 493.88\n",
    "Begin by writing a program that reads the name of a note from the user and\n",
    "displays the note’s frequency. Your program should support all of the notes listed\n",
    "previously.\n",
    "Once you have your program working correctly for the notes listed previously you\n",
    "should add support for all of the notes from C0 to C8. While this could be done by\n",
    "adding many additional cases to your if statement, such a solution is cumbersome,\n",
    "inelegant and unacceptable for the purposes of this exercise. Instead, you should\n",
    "exploit the relationship between notes in adjacent octaves. In particular, the frequency\n",
    "of any note in octave n is half the frequency of the corresponding note in octave n+1.\n",
    "By using this relationship, you should be able to add support for the additional notes\n",
    "without adding additional cases to your if statement.\n"
   ]
  },
  {
   "cell_type": "code",
   "execution_count": null,
   "id": "3698069e",
   "metadata": {},
   "outputs": [],
   "source": []
  },
  {
   "cell_type": "markdown",
   "id": "7e3a0c71",
   "metadata": {},
   "source": [
    "42: Frequency To Note:\n",
    "In the previous question you converted from note name to frequency. In this question\n",
    "you will write a program that reverses that process. Begin by reading a frequency\n",
    "from the user. If the frequency is within one Hertz of a value listed in the table in\n",
    "the previous question then report the name of the note. Otherwise report that the\n",
    "frequency does not correspond to a known note. In this exercise you only need to\n",
    "consider the notes listed in the table. There is no need to consider notes from other\n",
    "octaves."
   ]
  },
  {
   "cell_type": "code",
   "execution_count": null,
   "id": "00dfea9d",
   "metadata": {},
   "outputs": [],
   "source": []
  },
  {
   "cell_type": "markdown",
   "id": "fc8b272f",
   "metadata": {},
   "source": [
    "43: Faces on Money:\n",
    "It is common for images of a country’s previous leaders, or other individuals of historical signicance, to appear on its money. The individuals that appear on banknotes\n",
    "in the United States are listed in Table 2.1.\n",
    "Write a program that begins by reading the denomination of a banknote from the\n",
    "user. Then your program should display the name of the individual that appears on the banknote of the entered amount. An appropriate error message should be displayed\n",
    "if no such note exists.\n",
    "Table 2.1 Individuals that\n",
    "appear on Banknotes\n",
    "Individual Amount\n",
    "George Washington $1\n",
    "Thomas Jefferson $2\n",
    "Abraham Lincoln $5\n",
    "Alexander Hamilton $10\n",
    "Andrew Jackson $20\n",
    "Ulysses S. Grant $50\n",
    "Benjamin Franklin $100\n"
   ]
  },
  {
   "cell_type": "code",
   "execution_count": 17,
   "id": "104a858f",
   "metadata": {},
   "outputs": [
    {
     "name": "stdout",
     "output_type": "stream",
     "text": [
      "enter the denomination of the banknote:10\n",
      "Alexander Hamilton\n"
     ]
    }
   ],
   "source": [
    "amt=eval(input(\"enter the denomination of the banknote:\"))\n",
    "if amt==1:\n",
    "    print(\"George Washington\")\n",
    "elif amt==2:\n",
    "    print(\"Thomas Jefferson\")\n",
    "elif amt==5:\n",
    "    print(\"Abraham Lincoln\")\n",
    "elif amt==10:\n",
    "    print(\"Alexander Hamilton\")\n",
    "elif amt==20:\n",
    "    print(\"Andrew Jackson\")\n",
    "elif amt==50:\n",
    "    print(\"gUlysses S. Grant\")\n",
    "elif amt==100:\n",
    "    print(\"Benjamin Franklin\")\n",
    "else:\n",
    "    print(\"no such note exists\")"
   ]
  },
  {
   "cell_type": "markdown",
   "id": "91a29065",
   "metadata": {},
   "source": [
    "44: Date to Holiday Name:\n",
    "Canada has three national holidays which fall on the same dates each year.\n",
    "Holiday Date\n",
    "New year’s day January 1\n",
    "Canada day July 1\n",
    "Christmas day December 25\n",
    "Write a program that reads a month and day from the user. If the month and day\n",
    "match one of the holidays listed previously then your program should display the\n",
    "holiday’s name. Otherwise your program should indicate that the entered month and\n",
    "day do not correspond to a xed-date holiday."
   ]
  },
  {
   "cell_type": "code",
   "execution_count": 21,
   "id": "6974a91f",
   "metadata": {},
   "outputs": [
    {
     "name": "stdout",
     "output_type": "stream",
     "text": [
      "Enter the month:july\n",
      "Enter the day:1\n",
      "It's Canada day\n"
     ]
    }
   ],
   "source": [
    "mnth=input(\"Enter the month:\")\n",
    "day=int(input(\"Enter the day:\"))\n",
    "if mnth==\"january\" and day==1:\n",
    "    print(\"It's New year's day\")\n",
    "elif mnth==\"july\" and day==1:\n",
    "    print(\"It's Canada day\")\n",
    "elif mnth==\"december\" and day==25:\n",
    "    print(\"It's Christmas day\")\n",
    "else:\n",
    "    print(\"The entered month and day does not correspond to a fixed-date holiday\")"
   ]
  },
  {
   "cell_type": "markdown",
   "id": "d8aa36a7",
   "metadata": {},
   "source": [
    "45:What Color is that Square?\n",
    "Positions on a chess board are identied by a letter and a number. The letter identies\n",
    "the column, while the number identies the row, as shown below:\n",
    "Write a program that reads a position from the user. Use an if statement to determine if the column begins with a black square or a white square. Then use modular\n",
    "arithmetic to report the color of the square in that row. For example, if the user enters\n",
    "a1 then your program should report that the square is black. If the user enters d5\n",
    "then your program should report that the square is white. Your program may assume\n",
    "that a valid position will always be entered. It does not need to perform any error\n",
    "checking."
   ]
  },
  {
   "cell_type": "code",
   "execution_count": null,
   "id": "9d6c617e",
   "metadata": {},
   "outputs": [],
   "source": [
    "pos=input(\"Enter the position:\")\n"
   ]
  },
  {
   "cell_type": "markdown",
   "id": "35d5a46b",
   "metadata": {},
   "source": [
    "46: Season from Month and Day\n",
    "The year is divided into four seasons: spring, summer, fall and winter. While the\n",
    "exact dates that the seasons change vary a little bit from year to year because of the\n",
    "way that the calendar is constructed, we will use the following dates for this exercise:\n",
    "Season First day\n",
    "Spring March 20\n",
    "Summer June 21\n",
    "Fall September 22\n",
    "Winter December 21\n",
    "Create a program that reads a month and day from the user. The user will enter\n",
    "the name of the month as a string, followed by the day within the month as an\n",
    "integer. Then your program should display the season associated with the date that\n",
    "was entered."
   ]
  },
  {
   "cell_type": "code",
   "execution_count": 26,
   "id": "83d5e2ba",
   "metadata": {},
   "outputs": [
    {
     "name": "stdout",
     "output_type": "stream",
     "text": [
      "enter the month:march\n",
      "enter the day:1\n",
      "the season is winter\n"
     ]
    }
   ],
   "source": [
    "mnth=input(\"enter the month:\")\n",
    "day=int(input(\"enter the day:\"))\n",
    "if (mnth==\"april\" and day<=30) or (mnth==\"may\" and day<=31) or (mnth==\"june\" and day<=20) or (mnth==\"march\" and day>20 and day<=31):\n",
    "    print(\"the season is spring\")\n",
    "elif (mnth==\"july\" and day<=31) or (mnth==\"august\" and day<=31) or (mnth==\"september\" and day<=21) or (mnth==\"june\" and day>21 and day<=30):\n",
    "    print(\"the season is summer\")\n",
    "elif (mnth==\"october\" and day<=31) or (mnth==\"november\" and day<=30) or (mnth==\"december\" and day<=20) or (mnth==\"september\" and day>22 and day<=30):\n",
    "    print(\"the season is fall\")\n",
    "elif (mnth==\"january\" and day<=31) or (mnth==\"february\" and day<=29) or (mnth==\"march\" and day<20) or (mnth==\"december\" and day>21 and day<=31):\n",
    "    print(\"the season is winter\")\n"
   ]
  },
  {
   "cell_type": "markdown",
   "id": "eb06af63",
   "metadata": {},
   "source": [
    "47: Birth Date to Astrological Sign:\n",
    "The horoscopes commonly reported in newspapers use the position of the sun at the\n",
    "time of one’s birth to try and predict the future. This system of astrology divides the\n",
    "year into twelve zodiac signs, as outline in the table below:\n",
    "Zodiac sign Date range\n",
    "Capricorn December 22 to January 19\n",
    "Aquarius January 20 to February 18\n",
    "Pisces February 19 to March 20\n",
    "Aries March 21 to April 19\n",
    "Taurus April 20 to May 20\n",
    "Gemini May 21 to June 20\n",
    "Cancer June 21 to July 22\n",
    "Leo July 23 to August 22\n",
    "Virgo August 23 to September 22\n",
    "Libra September 23 to October 22\n",
    "Scorpio October 23 to November 21\n",
    "Sagittarius November 22 to December 21\n",
    "Write a program that asks the user to enter his or her month and day of birth. Then\n",
    "your program should report the user’s zodiac sign as part of an appropriate output\n",
    "message."
   ]
  },
  {
   "cell_type": "code",
   "execution_count": 27,
   "id": "c0e5c43c",
   "metadata": {},
   "outputs": [
    {
     "name": "stdout",
     "output_type": "stream",
     "text": [
      "enter the month:January\n",
      "enter the day:13\n",
      "your zodiac sign is Capricon\n"
     ]
    }
   ],
   "source": [
    "mnth=input(\"enter the month:\")\n",
    "day=int(input(\"enter the day:\"))\n",
    "if (mnth==\"December\" and day>=22 and day<=31) or (mnth==\"January\" and day>=0 and day<=19):\n",
    "    print(\"your zodiac sign is Capricon\")\n",
    "elif (mnth==\"January\" and day>=20 and day<=31) or (mnth==\"February\" and day>=0 and day<=18):\n",
    "    print(\"your zodiac sign is Aquarius\")\n",
    "elif (mnth==\"February\" and day>=19 and day<=29) or (mnth==\"March\" and day>=0 and day<=20):\n",
    "    print(\"your zodiac sign is Pisces\")\n",
    "elif (mnth==\"March\" and day>=21 and day<=31) or (mnth==\"April\" and day>=0 and day<=19):\n",
    "    print(\"your zodiac sign is Aries\")\n",
    "elif (mnth==\"April\" and day>=20 and day<=30) or (mnth==\"May\" and day>=0 and day<=20):\n",
    "    print(\"your zodiac sign is Taurus\")\n",
    "elif (mnth==\"May\" and day>=21 and day<=31) or (mnth==\"June\" and day>=0 and day<=20):\n",
    "    print(\"your zodiac sign is Gemini\")\n",
    "elif (mnth==\"June\" and day>=21 and day<=30) or (mnth==\"July\" and day>=0 and day<=22):\n",
    "    print(\"your zodiac sign is Cancer\")\n",
    "elif (mnth==\"July\" and day>=23 and day<=31) or (mnth==\"August\" and day>=0 and day<=22):\n",
    "    print(\"your zodiac sign is Leo\")\n",
    "elif (mnth==\"August\" and day>=23 and day<=31) or (mnth==\"September\" and day>=0 and day<=22):\n",
    "    print(\"your zodiac sign is Virgo\")\n",
    "elif (mnth==\"September\" and day>=23 and day<=30) or (mnth==\"October\" and day>=0 and day<=22):\n",
    "    print(\"your zodiac sign is Libra\")\n",
    "elif (mnth==\"October\" and day>=23 and day<=31) or (mnth==\"November\" and day>=0 and day<=21):\n",
    "    print(\"your zodiac sign is Scorpio\")\n",
    "elif (mnth==\"November\" and day>=22 and day<=30) or (mnth==\"December\" and day>=0 and day<=21):\n",
    "    print(\"your zodiac sign is Sagittarius\")"
   ]
  },
  {
   "cell_type": "markdown",
   "id": "80dd4df9",
   "metadata": {},
   "source": [
    "****48: Chinese Zodiac:\n",
    "The Chinese zodiac assigns animals to years in a 12 year cycle. One 12 year cycle is\n",
    "shown in the table below. The pattern repeats from there, with 2012 being another\n",
    "year of the dragon, and 1999 being another year of the hare\n",
    "Year Animal\n",
    "2000 Dragon\n",
    "2001 Snake\n",
    "2002 Horse\n",
    "2003 Sheep\n",
    "2004 Monkey\n",
    "2005 Rooster\n",
    "2006 Dog\n",
    "2007 Pig\n",
    "2008 Rat\n",
    "2009 Ox\n",
    "2010 Tiger\n",
    "2011 Hare\n",
    "Write a program that reads a year from the user and displays the animal associated\n",
    "with that year. Your program should work correctly for any year greater than or equal\n",
    "to zero, not just the ones listed in the table."
   ]
  },
  {
   "cell_type": "code",
   "execution_count": 34,
   "id": "f920c66d",
   "metadata": {},
   "outputs": [
    {
     "name": "stdout",
     "output_type": "stream",
     "text": [
      "Enter the year2000\n",
      "the zodiac associated with 2000 is dragon\n"
     ]
    }
   ],
   "source": [
    "yr=int(input(\"Enter the year:\"))\n",
    "ani=[\"monkey\",\"rooster\",\"dog\",\"pig\",\"rat\",\"ox\",\"tiger\",\"hare\",\"dragon\",\"snake\",\"horse\",\"sheep\"]\n",
    "a=yr%12\n",
    "animal=ani[a]\n",
    "print(f\"the zodiac associated with {yr} is {animal}\")"
   ]
  },
  {
   "cell_type": "markdown",
   "id": "e1d71654",
   "metadata": {},
   "source": [
    "49: Richter Scale:\n",
    "The following table contains earthquake magnitude ranges on the Richter scale and\n",
    "their descriptors:\n",
    "Magnitude Descriptor\n",
    "Less than 2.0 Micro\n",
    "2.0 to less than 3.0 Very minor\n",
    "3.0 to less than 4.0 Minor\n",
    "4.0 to less than 5.0 Light\n",
    "5.0 to less than 6.0 Moderate\n",
    "6.0 to less than 7.0 Strong\n",
    "7.0 to less than 8.0 Major\n",
    "8.0 to less than 10.0 Great\n",
    "10.0 or more Meteoric\n",
    "Write a program that reads a magnitude from the user and displays the appropriate\n",
    "descriptor as part of a meaningful message. For example, if the user enters 5.5 then\n",
    "your program should indicate that a magnitude 5.5 earthquake is considered to be a\n",
    "moderate earthquake."
   ]
  },
  {
   "cell_type": "code",
   "execution_count": 36,
   "id": "7e245015",
   "metadata": {},
   "outputs": [
    {
     "name": "stdout",
     "output_type": "stream",
     "text": [
      "enter the magnitude of the earthquake:4.5\n",
      "it is a Light earthquake\n"
     ]
    }
   ],
   "source": [
    "mag=eval(input(\"enter the magnitude of the earthquake:\"))\n",
    "if mag<2.0:\n",
    "    print(\"it is a micro earthquake\")\n",
    "if mag>=2.0 and mag<3.0:\n",
    "    print(\"it is a very minor earthquake\")\n",
    "if mag>=3.0 and mag<4.0:\n",
    "    print(\"it is a Minor earthquake\")\n",
    "if mag>=4.0 and mag<5.0:\n",
    "    print(\"it is a Light earthquake\")\n",
    "if mag>=5.0 and mag<6.0:\n",
    "    print(\"it is a Moderate earthquake\")\n",
    "if mag>=6.0 and mag<7.0:\n",
    "    print(\"it is a Strong earthquake\")\n",
    "if mag>=7.0 and mag<8.0:\n",
    "    print(\"it is a Major earthquake\")\n",
    "if mag>=8.0 and mag<10.0:\n",
    "    print(\"it is a Great earthquake\")\n",
    "if mag>=10:\n",
    "    print(\"it is a very meteoric earthquake\")"
   ]
  },
  {
   "cell_type": "markdown",
   "id": "d57da2eb",
   "metadata": {},
   "source": [
    "50: Roots of a Quadratic Function:\n",
    "A univariate quadratic function has the form f (x) = ax2 + bx + c, where a, b and\n",
    "c are constants, and a is non-zero. The roots of a quadratic function can be found\n",
    "by nding the values of x that satisfy the quadratic equation ax2 + bx + c = 0. A\n",
    "quadratic function may have 0, 1 or 2 real roots. These roots can be computed using\n",
    "the quadratic formula, shown below:\n",
    "root = −b ± √\n",
    "b2 − 4ac\n",
    "2a\n",
    "The portion of the expression under the square root sign is called the discriminant.\n",
    "If the discriminant is negative then the quadratic equation does not have any real roots.\n",
    "If the discriminant is 0, then the equation has one real root. Otherwise the equation\n",
    "has two real roots, and the expression must be evaluated twice, once using a plus\n",
    "sign, and once using a minus sign, when computing the numerator.\n",
    "Write a program that computes the real roots of a quadratic function. Your program\n",
    "should begin by prompting the user for the values of a, b and c. Then it should display\n",
    "a message indicating the number of real roots, along with the values of the real roots\n",
    "(if any).\n",
    "        "
   ]
  },
  {
   "cell_type": "code",
   "execution_count": null,
   "id": "e5778c88",
   "metadata": {},
   "outputs": [],
   "source": []
  },
  {
   "cell_type": "markdown",
   "id": "2f60fcd1",
   "metadata": {},
   "source": [
    "51: Letter Grade to Grade Points:\n",
    "At a particular university, letter grades are mapped to grade points in the following\n",
    "manner:\n",
    "Letter Grade points\n",
    "A+ 4.0\n",
    "A 4.0\n",
    "A− 3.7\n",
    "B+ 3.3\n",
    "B 3.0\n",
    "B− 2.7\n",
    "C+ 2.3\n",
    "C 2.0\n",
    "C− 1.7\n",
    "D+ 1.3\n",
    "D 1.0\n",
    "F 0\n",
    "Write a program that begins by reading a letter grade from the user. Then your\n",
    "program should compute and display the equivalent number of grade points. Ensure that your program generates an appropriate error message if the user enters an invalid\n",
    "letter grade."
   ]
  },
  {
   "cell_type": "code",
   "execution_count": 41,
   "id": "d6f06595",
   "metadata": {},
   "outputs": [
    {
     "name": "stdout",
     "output_type": "stream",
     "text": [
      "enter the gradeD-\n",
      "No such grade\n"
     ]
    }
   ],
   "source": [
    "grade=input(\"enter the grade\")\n",
    "if grade==\"A+\" or grade==\"A\":\n",
    "    print(f\"the grade point for the grade {grade} is 4.0\")\n",
    "elif grade==\"A-\":\n",
    "    print(f\"the grade point for the grade {grade} is 3.7\")\n",
    "elif grade==\"B+\":\n",
    "    print(f\"the grade point for the grade {grade} is 3.3\")\n",
    "elif grade==\"B\":\n",
    "    print(f\"the grade point for the grade {grade} is 3.0\")\n",
    "elif grade==\"B-\":\n",
    "    print(f\"the grade point for the grade {grade} is 2.7\")\n",
    "elif grade==\"C+\":\n",
    "    print(f\"the grade point for the grade {grade} is 2.3\")\n",
    "elif grade==\"C\":\n",
    "    print(f\"the grade point for the grade {grade} is 2.0\")\n",
    "elif grade==\"C-\":\n",
    "    print(f\"the grade point for the grade {grade} is 1.7\")\n",
    "elif grade==\"D+\":\n",
    "    print(f\"the grade point for the grade {grade} is 1.3\")\n",
    "elif grade==\"D\":\n",
    "    print(f\"the grade point for the grade {grade} is 1.0\")\n",
    "elif grade==\"F\":\n",
    "    print(f\"the grade point for the grade {grade} is 0\")\n",
    "else:\n",
    "    print(\"No such grade\")"
   ]
  },
  {
   "cell_type": "markdown",
   "id": "4723ea95",
   "metadata": {},
   "source": [
    "52: Grade Points to Letter Grade:\n",
    "In the previous exercise you created a program that converts a letter grade into the\n",
    "equivalent number of grade points. In this exercise you will create a program that\n",
    "reverses the process and converts from a grade point value entered by the user to a\n",
    "letter grade. Ensure that your program handles grade point values that fall between\n",
    "letter grades. These should be rounded to the closest letter grade. Your program\n",
    "should report A+ for a 4.0 (or greater) grade point average."
   ]
  },
  {
   "cell_type": "code",
   "execution_count": 47,
   "id": "5a45cd96",
   "metadata": {},
   "outputs": [
    {
     "name": "stdout",
     "output_type": "stream",
     "text": [
      "enter the grade points:5\n",
      "A+\n"
     ]
    }
   ],
   "source": [
    "grade=eval(input(\"enter the grade points:\"))\n",
    "if grade>4.0:\n",
    "    print(\"A+\")\n",
    "if grade==4.0:\n",
    "    print(\"A\")\n",
    "if grade<4.0 and grade>3.7:\n",
    "    print(\"A-\")\n",
    "if grade<=3.7 and grade>3.3:\n",
    "    print(\"B+\")\n",
    "if grade<=3.3 and grade>3.0:\n",
    "    print(\"B\")\n",
    "if grade<=3.0 and grade>2.7:\n",
    "    print(\"B-\")\n",
    "if grade<=2.7 and grade>2.3:\n",
    "    print(\"C+\")\n",
    "if grade<=2.3 and grade>2.0:\n",
    "    print(\"C\")\n",
    "if grade<=2.0 and grade>1.7:\n",
    "    print(\"C-\")\n",
    "if grade<=1.7 and grade>1.3:\n",
    "    print(\"D+\")\n",
    "if grade<=1.3 and grade>1.0:\n",
    "    print(\"D\")\n",
    "if grade<=1.0 and grade>=0:\n",
    "    print(\"F\")"
   ]
  },
  {
   "cell_type": "markdown",
   "id": "3432e770",
   "metadata": {},
   "source": [
    "53: Assessing Employees:\n",
    "At a particular company, employees are rated at the end of each year. The rating scale\n",
    "begins at 0.0, with higher values indicating better performance and resulting in larger\n",
    "raises. The value awarded to an employee is either 0.0, 0.4, or 0.6 or more. Values\n",
    "between 0.0 and 0.4, and between 0.4 and 0.6 are never used. The meaning associated\n",
    "with each rating is shown in the following table. The amount of an employee’s raise\n",
    "is $2400.00 multiplied by their rating.\n",
    "Rating Meaning\n",
    "0.0 Unacceptable performance\n",
    "0.4 Acceptable performance\n",
    "0.6 or more Meritorious performance\n",
    "Write a program that reads a rating from the user and indicates whether the performance was unacceptable, acceptable or meritorious. The amount of the employee’s\n",
    "raise should also be reported. Your program should display an appropriate error\n",
    "message if an invalid rating is entered."
   ]
  },
  {
   "cell_type": "code",
   "execution_count": null,
   "id": "5bbb95a6",
   "metadata": {},
   "outputs": [],
   "source": []
  },
  {
   "cell_type": "code",
   "execution_count": null,
   "id": "4b75b88e",
   "metadata": {},
   "outputs": [],
   "source": []
  },
  {
   "cell_type": "code",
   "execution_count": null,
   "id": "2803168a",
   "metadata": {},
   "outputs": [],
   "source": []
  },
  {
   "cell_type": "code",
   "execution_count": null,
   "id": "bc5c33cf",
   "metadata": {},
   "outputs": [],
   "source": []
  }
 ],
 "metadata": {
  "kernelspec": {
   "display_name": "Python 3 (ipykernel)",
   "language": "python",
   "name": "python3"
  },
  "language_info": {
   "codemirror_mode": {
    "name": "ipython",
    "version": 3
   },
   "file_extension": ".py",
   "mimetype": "text/x-python",
   "name": "python",
   "nbconvert_exporter": "python",
   "pygments_lexer": "ipython3",
   "version": "3.9.13"
  }
 },
 "nbformat": 4,
 "nbformat_minor": 5
}
