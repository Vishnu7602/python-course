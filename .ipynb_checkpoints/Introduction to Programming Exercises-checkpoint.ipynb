{
 "cells": [
  {
   "cell_type": "markdown",
   "id": "fb461670",
   "metadata": {},
   "source": [
    "1.Mailing Address\n",
    "Create a program that displays your name and complete mailing address formatted in the manner that you would usually see it on the outside of an envolope. Your program does not need to read any input from the user.\n"
   ]
  },
  {
   "cell_type": "code",
   "execution_count": null,
   "id": "4e14ded7",
   "metadata": {},
   "outputs": [],
   "source": [
    "print(\"Vishnuvardhan S.\")\n",
    "print(\"29, Sharmila Avenue,\")\n",
    "print(\"Vibeeshnapuram,\")\n",
    "print(\"Chidambaram\")"
   ]
  },
  {
   "cell_type": "code",
   "execution_count": null,
   "id": "2f99e2ea",
   "metadata": {},
   "outputs": [],
   "source": [
    "name=input(\"Enter your name:\")\n",
    "print(name)"
   ]
  },
  {
   "cell_type": "markdown",
   "id": "890b12a7",
   "metadata": {},
   "source": [
    "2.Hello\n",
    "Write a program that asks the user to enter his or her name. The program should respond with a message that says hello to the user, usind his or her name."
   ]
  },
  {
   "cell_type": "code",
   "execution_count": null,
   "id": "99aa73ad",
   "metadata": {},
   "outputs": [],
   "source": [
    "name=input(\"Enter your name:\")\n",
    "print(\"hello\",name)"
   ]
  },
  {
   "cell_type": "markdown",
   "id": "6538703c",
   "metadata": {},
   "source": [
    "3.Area of a room:\n",
    "Write a program that asks the user to enter the width and length oa a room. once the values have been read, your program should compute and display the area of the room. the length and th width will be entered as floating point nnumbers. Include units in your prompt and output message;either feet or meters, depending on which unit you are more comfortable working with."
   ]
  },
  {
   "cell_type": "code",
   "execution_count": null,
   "id": "6d262bad",
   "metadata": {},
   "outputs": [],
   "source": [
    "length=float(input(\"Enter the length of the room:\"))\n",
    "breadth=float(input(\"Enter the breadth of the room:\"))\n",
    "area=length*breadth\n",
    "print(area,\"meters\")"
   ]
  },
  {
   "cell_type": "markdown",
   "id": "c5e7102e",
   "metadata": {},
   "source": [
    "4.Area of a Field:\n",
    "Create a program that reads the length and width of a farmer's field from the user in feet. Display the area of the field in acres."
   ]
  },
  {
   "cell_type": "code",
   "execution_count": null,
   "id": "4b4a3f0f",
   "metadata": {},
   "outputs": [],
   "source": [
    "length=float(input(\"enter the length of the field in feet:\"))\n",
    "width=float(input(\"enter the width of the field in feet:\"))\n",
    "area=(length*width)/43560\n",
    "print(area,\"acres\")"
   ]
  },
  {
   "cell_type": "markdown",
   "id": "eace8d6d",
   "metadata": {},
   "source": [
    "5.Bottle Deposits:\n",
    "In many jurisdictions a small deposit is added to drink containers to encourage people to recycle them. In one particular jurisdiction, drink containers holding one liter or less have a $0.10 deposit, and drink containers holding more than one liter have a $0.25 deposit. Write a program that reads the number of containers of each size from the user. Your program should continue by computing and displaying the refund that will be recieved for returning those containers. Format the output so that it includes a dollar sign and always displays tro dedcimal places"
   ]
  },
  {
   "cell_type": "code",
   "execution_count": null,
   "id": "488683af",
   "metadata": {},
   "outputs": [],
   "source": [
    "one_liter=float(input(\"enter the no. of one liter containers:\"))\n",
    "more_liter=float(input(\"enter the no. of containers holding more than 1 liter:\"))\n",
    "one_dep=one_liter*0.10\n",
    "more_dep=more_liter*0.25\n",
    "total=one_dep+more_dep\n",
    "print(\"the total refund amount:$\",round(total,2))"
   ]
  },
  {
   "cell_type": "markdown",
   "id": "67d394a6",
   "metadata": {},
   "source": [
    "6.Tax and tip:\n",
    "The program that you create for this exercise will begin by reading the cost of a meal ordered at a restaurant from the user. Then your program will compute the tax and tip for the meal. Use your local tax rate when computing the amount of tax owing. Compute the tip as 18 percent of the meal amount(without the tax). The output from your program should include tax amount, the tip amount, and the grand total for the meal including both the tax and the tip. Format the input so that all of the values are displayed using two decimal places."
   ]
  },
  {
   "cell_type": "code",
   "execution_count": null,
   "id": "31988afb",
   "metadata": {},
   "outputs": [],
   "source": [
    "rate=float(input(\"enter the cost of the meal:\"))\n",
    "tax=5*rate/100\n",
    "tip=18*rate/100\n",
    "total=rate+tax+tip\n",
    "print(\"the tax amount:\",round(tax,2),\"\\n the tip amount:\",round(tip,2),\"\\n the total amount:\",round(total,2))"
   ]
  },
  {
   "cell_type": "markdown",
   "id": "43b64e0e",
   "metadata": {},
   "source": [
    "7.Sum of the first n positive integers:\n",
    "Write a program that reads a positive integer, n, from the user and then displays the sum of all the integers from 1 to n. The sum of the first n positive integers can be computed using the formula:\n",
    "sum=(n)(n+1)/2"
   ]
  },
  {
   "cell_type": "markdown",
   "id": "ba5c855e",
   "metadata": {},
   "source": []
  },
  {
   "cell_type": "code",
   "execution_count": null,
   "id": "70cbc3fa",
   "metadata": {},
   "outputs": [],
   "source": [
    "n=float(input(\"enter the no. of integers for which the sum must be computed:\"))\n",
    "sum=(n)*(n+1)/2\n",
    "print(\"the sum of the integers:\",sum)"
   ]
  },
  {
   "cell_type": "markdown",
   "id": "7196d146",
   "metadata": {},
   "source": [
    "8.Widgets and gizmos:\n",
    "    an onlineretailer sells two products:  widgets and gizmos. Each widget weighs 75 grams. Each gizmos weighs 112 grams. Write a program that reads the no. of widgets and the number of gizmos in order from the user. Then your program should compute and display the total weight of the order."
   ]
  },
  {
   "cell_type": "code",
   "execution_count": null,
   "id": "b79d4aea",
   "metadata": {},
   "outputs": [],
   "source": [
    "widget=float(input(\"enter the no. of widgets:\"))\n",
    "gizmos=float(input(\"enter the no. of gizmos\"))\n",
    "w1=widget*75\n",
    "w2=gizmos*112\n",
    "total=w1+w2\n",
    "print(\"the total weight of the order=\",total)"
   ]
  },
  {
   "cell_type": "markdown",
   "id": "073aa573",
   "metadata": {},
   "source": [
    "9.Compound interest:\n",
    "    pretend that you have just opened a new savings account that earns 4 percent interest per year. The interest that you earn is paid at the end of the year, and is added to the balance of the savings account. Write a program that begins by reading the amount of money deposited into the account from the user. Then your program should compute and display the amount in the savings account after 1,2 and 3 years. Display each amount so that it is rounded to 2 decimal places"
   ]
  },
  {
   "cell_type": "code",
   "execution_count": null,
   "id": "f74a2490",
   "metadata": {},
   "outputs": [],
   "source": []
  },
  {
   "cell_type": "markdown",
   "id": "21a2a269",
   "metadata": {},
   "source": [
    "10.Arithmetic: Create a program that reads two integers, a and b, from the user. Your program should compute and display:\n",
    "i.The sum of a and b\n",
    "ii.The difference when b is subtracted from a\n",
    "iii.The product of a and b\n",
    "iv. The quotient when a is divided by b\n",
    "v.The remainder when a is divided by b\n",
    "vi.The result of log10a\n",
    "vii.the result of a^b"
   ]
  },
  {
   "cell_type": "code",
   "execution_count": null,
   "id": "cf7bcee1",
   "metadata": {},
   "outputs": [],
   "source": [
    "import math\n",
    "a=float(input(\"enter that 1st integer, a:\"))\n",
    "b=float(input(\"enter that 2nd integer, b:\"))\n",
    "c=a+b\n",
    "d=a-b\n",
    "e=a*b\n",
    "f=a/b\n",
    "g=a%b\n",
    "h=math.log10(a)\n",
    "i=a**b\n",
    "print(\"the sum is:\",c,\"\\nthe difference is:\",d,\"\\nthe product is:\",e,\"\\nthe quotient:\",f,\"\\nthe remainder:\",g,\"\\nlog10(a):\",h,\"\\na^b:\",i)"
   ]
  },
  {
   "cell_type": "markdown",
   "id": "246b3938",
   "metadata": {},
   "source": [
    "11.Fuel Efficiency:\n",
    "In the US, fuel efficiency for vehicles is normally expressed in miles per gallon(MPG). In Canada, fuel efficiency is expressed in liters per hundred kilometers(L/100km). Use your research skills to determine how to convert from MPG to L/100km. Then create a program thatt reads a value from the user in american units and displays the equivalent fuel efficiency in canadian units.\n",
    "1MPG=235.215L/100km"
   ]
  },
  {
   "cell_type": "code",
   "execution_count": null,
   "id": "2450363c",
   "metadata": {},
   "outputs": [],
   "source": [
    "us=float(input(\"enter the efficiency in MPG:\"))\n",
    "can=us*235.215\n",
    "print(\"the efficiency in canadian unit:\",can,\"L/100km\")"
   ]
  },
  {
   "cell_type": "markdown",
   "id": "87bf4b40",
   "metadata": {},
   "source": [
    "12.Distance between two points on earth:\n",
    "The surface of the Earth is curved, and the distance between degrees of longitude\n",
    "varies with latitude. As a result, nding the distance between two points on the surface\n",
    "of the Earth is more complicated than simply using the Pythagorean theorem.\n",
    "Let (t1, g1) and (t2, g2) be the latitude and longitude of two points on the Earth’s\n",
    "surface. The distance between these points, following the surface of the Earth, in\n",
    "kilometers is:\n",
    "distance = 6371.01 × arccos(sin(t1) × sin(t2) + cos(t1) × cos(t2) × cos(g1 − g2))\n",
    "The value 6371.01 in the previous equation wasn’t selected at random. It is\n",
    "the average radius of the Earth in kilometers.\n",
    "Create a program that allows the user to enter the latitude and longitude of two\n",
    "points on the Earth in degrees. Your program should display the distance between\n",
    "the points, following the surface of the earth, in kilometers."
   ]
  },
  {
   "cell_type": "code",
   "execution_count": null,
   "id": "37eb0e5b",
   "metadata": {},
   "outputs": [],
   "source": []
  },
  {
   "cell_type": "code",
   "execution_count": null,
   "id": "632c55eb",
   "metadata": {},
   "outputs": [],
   "source": [
    "import math\n",
    "t1, g1=input(\"Enter the latitude and longitude of the 1st point:\").split()\n",
    "t2, g2=input(\"Enter the latitude and longitude of the 2nd point:\").split()\n",
    "dis= 6371.01*math.cos(math.sin(t1)*math.sin(t2)+math.cos(t1)*math.cos(t2)*math.cos(g1-g2))\n",
    "print(\"the distance between the two points is:\",dis)"
   ]
  },
  {
   "cell_type": "markdown",
   "id": "a032604a",
   "metadata": {},
   "source": [
    "13.Making change:\n",
    "Consider the software that runs on a self-checkout machine. One task that it must be\n",
    "able to perform is to determine how much change to provide when the shopper pays\n",
    "for a purchase with cash.\n",
    "Write a program that begins by reading a number of cents from the user as an\n",
    "integer. Then your program should compute and display the denominations of the\n",
    "coins that should be used to give that amount of change to the shopper. The change\n",
    "should be given using as few coins as possible. Assume that the machine is loaded\n",
    "with pennies, nickels, dimes, quarters, loonies and toonies."
   ]
  },
  {
   "cell_type": "code",
   "execution_count": null,
   "id": "cc3d571a",
   "metadata": {},
   "outputs": [],
   "source": [
    "cent=int(input(\"enter the no. of cents:\"))\n"
   ]
  },
  {
   "cell_type": "markdown",
   "id": "2f77e3d9",
   "metadata": {},
   "source": [
    "14.Height units:\n",
    "Many people think about their height in feet and inches, even in some countries that primarily use the metric system. write a program that reads a number of feet from the user, followed by a number of inches. Once these values are read, your program should compute and display the equivalent number of centimeters"
   ]
  },
  {
   "cell_type": "code",
   "execution_count": null,
   "id": "1dea4ed6",
   "metadata": {},
   "outputs": [],
   "source": [
    "feet,inch=input(\"enter your height in feet and inches:\").split( )\n",
    "feet=eval(feet)\n",
    "inch=eval(inch)\n",
    "cen=(feet*12+inch)*2.54\n",
    "print(\"the height in centimeters:\",cen)"
   ]
  },
  {
   "cell_type": "markdown",
   "id": "467cc517",
   "metadata": {},
   "source": [
    " 15.Distance units:\n",
    " In this exercise, you will create a program that begins by reading a measurement\n",
    "in feet from the user. Then your program should display the equivalent distance in\n",
    "inches, yards and miles. Use the Internet to look up the necessary conversion factors\n",
    "if you don’t have them memorized."
   ]
  },
  {
   "cell_type": "code",
   "execution_count": null,
   "id": "6839740c",
   "metadata": {},
   "outputs": [],
   "source": [
    "feet=float(input(\"enter the distance in feet\"))\n",
    "inch=feet*12\n",
    "yard=feet*0.333\n",
    "mile=feet*0.000189\n",
    "print(\"the distance in: \\ninches=\",inch,\"\\nyards=\",yard,\"\\nmiles=\",mile)"
   ]
  },
  {
   "cell_type": "markdown",
   "id": "9d3a2c5e",
   "metadata": {},
   "source": [
    "16.Area and Volume:\n",
    "Write a program that begins by reading a radius, r, from the user. The program will\n",
    "continue by computing and displaying the area of a circle with radius r and the\n",
    "volume of a sphere with radius r. Use the pi constant in the math module in your\n",
    "calculations."
   ]
  },
  {
   "cell_type": "code",
   "execution_count": null,
   "id": "ea7b2e9e",
   "metadata": {},
   "outputs": [],
   "source": [
    "import math\n",
    "r=float(input(\"enter the radius:\"))\n",
    "area=math.pi*r**2\n",
    "volume=(4*math.pi*r**3)/3\n",
    "print(\"the area of the circle=\",area,\"\\nthe volume of the sphere is:\",volume)"
   ]
  },
  {
   "cell_type": "markdown",
   "id": "6744450f",
   "metadata": {},
   "source": [
    "17.Heat capacity:\n",
    "The amount of energy required to increase the temperature of one gram of a material\n",
    "by one degree Celsius is the material’s specic heat capacity, C. The total amount\n",
    "of energy required to raise m grams of a material by ΔT degrees Celsius can be\n",
    "computed using the formula:\n",
    "q = mCΔT.\n",
    "Write a program that reads the mass of some water and the temperature change\n",
    "from the user. Your program should display the total amount of energy that must be\n",
    "added or removed to achieve the desired temperature change.\n",
    "Extend your program so that it also computes the cost of heating the water. Electricity is normally billed using units of kilowatt hours rather than Joules. In this\n",
    "exercise, you should assume that electricity costs 8.9 cents per kilowatt-hour. Use\n",
    "your program to compute the cost of boiling water for a cup of coffee."
   ]
  },
  {
   "cell_type": "code",
   "execution_count": null,
   "id": "ab2d55da",
   "metadata": {},
   "outputs": [],
   "source": [
    "m=eval(input(\"enter the mass of water:\"))\n",
    "t=eval(input(\"enter the temp. change:\"))\n",
    "c=4.186\n",
    "q=m*c*t\n",
    "if q<0:\n",
    "    print(\"the energy that must be removed is:\",-q)\n",
    "else:\n",
    "    print(\"the energy that must be added is:\",q)\n",
    "kwh=q/3600000\n",
    "cost=kwh*8.9\n",
    "if cost<0:\n",
    "    cost=-(cost)\n",
    "print(\"the cost:\",cost,\"cents\")\n"
   ]
  },
  {
   "cell_type": "markdown",
   "id": "b8580a30",
   "metadata": {},
   "source": [
    "18.Volume of the cylinder:\n",
    "The volume of a cylinder can be computed by multiplying the area of its circular\n",
    "base by its height. Write a program that reads the radius of the cylinder, along with\n",
    "its height, from the user and computes its volume. Display the result rounded to one\n",
    "decimal place.\n"
   ]
  },
  {
   "cell_type": "code",
   "execution_count": null,
   "id": "293028af",
   "metadata": {},
   "outputs": [],
   "source": [
    "import math\n",
    "r=float(input(\"enter the radius of base:\"))\n",
    "h=float(input(\"enter the height of cylinder:\"))\n",
    "v=math.pi*r**2*h\n",
    "print(\"the volume of cylinder=\",round(v,1))"
   ]
  },
  {
   "cell_type": "markdown",
   "id": "14d98eac",
   "metadata": {},
   "source": [
    "19.Free fall:\n",
    "Create a program that determines how quickly an object is traveling when it hits the\n",
    "ground. The user will enter the height from which the object is dropped in meters (m).\n",
    "Because the object is dropped its initial speed is 0 m/s. Assume that the acceleration\n",
    "due to gravity is 9.8 m/s2. You can use the formula vf =root(vi^2+2ad) to compute the\n",
    "nal speed, vf , when the initial speed, vi , acceleration, a, and distance, d, are known."
   ]
  },
  {
   "cell_type": "code",
   "execution_count": null,
   "id": "35890421",
   "metadata": {},
   "outputs": [],
   "source": [
    "import math\n",
    "d=eval(input(\"enter the height from which it is dropped:\"))\n",
    "vf=math.sqrt(0**2+2*9.8*d)\n",
    "print(\"the final speed is:\",vf,\"m/s^2\")"
   ]
  },
  {
   "cell_type": "markdown",
   "id": "e4228215",
   "metadata": {},
   "source": [
    "34.Even or odd:\n",
    "Write a program that reads an integer from the user. Then your program should\n",
    "display a message indicating whether the integer is even or odd."
   ]
  },
  {
   "cell_type": "code",
   "execution_count": null,
   "id": "f4b649ea",
   "metadata": {},
   "outputs": [],
   "source": [
    "a=int(input(\"enter the no.:\"))\n",
    "if a%2==0:\n",
    "    print(a,\"is even\")\n",
    "else:\n",
    "    print(a,\"is odd\")"
   ]
  },
  {
   "cell_type": "raw",
   "id": "d7b0cd29",
   "metadata": {},
   "source": [
    "35.Dog years:\n",
    "It is commonly said that one human year is equivalent to 7 dog years. However this\n",
    "simple conversion fails to recognize that dogs reach adulthood in approximately two\n",
    "years. As a result, some people believe that it is better to count each of the rst two\n",
    "human years as 10.5 dog years, and then count each additional human year as 4 dog\n",
    "years.Write a program that implements the conversion from human years to dog years\n",
    "described in the previous paragraph. Ensure that your program works correctly for\n",
    "conversions of less than two human years and for conversions of two or more human\n",
    "years. Your program should display an appropriate error message if the user enters\n",
    "a negative number.\n"
   ]
  },
  {
   "cell_type": "code",
   "execution_count": null,
   "id": "36bc32c1",
   "metadata": {},
   "outputs": [],
   "source": []
  },
  {
   "cell_type": "markdown",
   "id": "5e934263",
   "metadata": {},
   "source": [
    "36.Vowel or consonant:\n",
    "In this exercise you will create a program that reads a letter of the alphabet from the\n",
    "user. If the user enters a, e, i, o or u then your program should display a message\n",
    "indicating that the entered letter is a vowel. If the user enters y then your program\n",
    "should display a message indicating that sometimes y is a vowel, and sometimes y is\n",
    "a consonant. Otherwise your program should display a message indicating that the\n",
    "letter is a consonant."
   ]
  },
  {
   "cell_type": "code",
   "execution_count": null,
   "id": "10dde65f",
   "metadata": {},
   "outputs": [],
   "source": [
    "letter=input(\"enter a letter:\")\n",
    "if letter==\"a\" or letter==\"e\" or letter==\"i\" or letter==\"o\" or letter==\"u\":\n",
    "    print(letter,\"is a vowel\")\n",
    "elif letter==\"y\":\n",
    "    print(letter,\"is a vowel sometimes and is a consonant sometimes\")\n",
    "else:\n",
    "    print(letter,\"is a consonant\")"
   ]
  },
  {
   "cell_type": "code",
   "execution_count": null,
   "id": "43be53d9",
   "metadata": {},
   "outputs": [],
   "source": []
  },
  {
   "cell_type": "markdown",
   "id": "43b0733d",
   "metadata": {},
   "source": [
    "37.name that shape:\n",
    "Write a program that determines the name of a shape from its number of sides. Read\n",
    "the number of sides from the user and then report the appropriate name as part of\n",
    "a meaningful message. Your program should support shapes with anywhere from 3\n",
    "up to (and including) 10 sides. If a number of sides outside of this range is entered\n",
    "then your program should display an appropriate error message."
   ]
  },
  {
   "cell_type": "code",
   "execution_count": null,
   "id": "88cd1ae0",
   "metadata": {},
   "outputs": [],
   "source": [
    "s=eval(input(\"enter the no. of sides:\"))\n",
    "if s==3:\n",
    "    print(\"it is a triangle\")\n",
    "elif s==4:\n",
    "    print(\"it is a quadrilateral\")\n",
    "elif s==5:\n",
    "    print(\"it is a pentagon\")\n",
    "elif s==6:\n",
    "    print(\"it is a hexagon\")\n",
    "elif s==7:\n",
    "    print(\"it is a heptagon\")\n",
    "elif s==8:\n",
    "    print(\"it is a octagon\")\n",
    "elif s==9:\n",
    "    print(\"it is a nonagon\")\n",
    "elif s==10:\n",
    "    print(\"it is a decagon\")\n",
    "elif s==1 or s==2:\n",
    "    print(\"there is no shape with that no. of sides\")\n",
    "else:\n",
    "    print(\"limit exceeded\")"
   ]
  },
  {
   "cell_type": "markdown",
   "id": "be346031",
   "metadata": {},
   "source": [
    "38.Month name to no. of days:\n",
    "The length of a month varies from 28 to 31 days. In this exercise you will create\n",
    "a program that reads the name of a month from the user as a string. Then your\n",
    "program should display the number of days in that month. Display “28 or 29 days”\n",
    "for February so that leap years are addressed."
   ]
  },
  {
   "cell_type": "code",
   "execution_count": null,
   "id": "391ad2af",
   "metadata": {},
   "outputs": [],
   "source": [
    "mnth=input(\"enter the name of the month:\")\n",
    "if mnth==\"january\" or mnth==\"march\" or mnth==\"may\" or mnth==\"july\" or mnth==\"august\" or mnth==\"october\" or mnth==\"december\":\n",
    "    print(mnth,\"has 31 days\")\n",
    "elif mnth==\"april\" or mnth==\"june\" or mnth==\"september\" or mnth==\"november\":\n",
    "    print(mnth,\"has 30 days\")\n",
    "elif mnth==\"february\":\n",
    "    print(mnth,\"has 28 or 29 days\")"
   ]
  },
  {
   "cell_type": "markdown",
   "id": "dac58313",
   "metadata": {},
   "source": [
    "39.sound levels:\n",
    "The following table lists the sound level in decibels for several common noises.\n",
    "Noise Decibel level (dB)\n",
    "Jackhammer 130\n",
    "Gas lawnmower 106\n",
    "Alarm clock 70\n",
    "Quiet room 40\n",
    "Write a program that reads a sound level in decibels from the user. If the user\n",
    "enters a decibel level that matches one of the noises in the table then your program\n",
    "should display a message containing only that noise. If the user enters a number\n",
    "of decibels between the noises listed then your program should display a message\n",
    "indicating which noises the level is between. Ensure that your program also generates\n",
    "reasonable output for a value smaller than the quietest noise in the table, and for a\n",
    "value larger than the loudest noise in the table.\n",
    "    "
   ]
  },
  {
   "cell_type": "code",
   "execution_count": null,
   "id": "3765d7d8",
   "metadata": {},
   "outputs": [],
   "source": [
    "db=int(input(\"enter the sound level in decibel:\"))\n",
    "if db==130:\n",
    "    print(\"the sound level equals jackhammer\")\n",
    "if db==106:\n",
    "    print(\"the sound level equals gas lawnmower\")\n",
    "if db==70:\n",
    "    print(\"the sound level equals alarm clock\")\n",
    "if db==40:\n",
    "    print(\"the sound level equals quit room\")\n",
    "if db>40 and db<70:\n",
    "    print(\"the sound level falls between quite room and alarm clock\")\n",
    "if db>70 and db<106:\n",
    "    print(\"the sound level falls between alarm clock and gas lawnmower\")\n",
    "if db>106 and db<130:\n",
    "    print(\"the sound level falls between gas lawnmower and jackhammer\")\n",
    "if db>130:\n",
    "    print(\"the sound level is quite large\")\n",
    "if db<40:\n",
    "    print(\"the sound level is very small\")"
   ]
  },
  {
   "cell_type": "markdown",
   "id": "3e1ee4ec",
   "metadata": {},
   "source": [
    "40.Name that triangle:\n",
    "A triangle can be classied based on the lengths of its sides as equilateral, isosceles\n",
    "or scalene. All 3 sides of an equilateral triangle have the same length. An isosceles\n",
    "triangle has two sides that are the same length, and a third side that is a different\n",
    "length. If all of the sides have different lengths then the triangle is scalene.\n",
    "Write a program that reads the lengths of 3 sides of a triangle from the user.\n",
    "Display a message indicating the type of the triangle."
   ]
  },
  {
   "cell_type": "code",
   "execution_count": null,
   "id": "35f3210c",
   "metadata": {},
   "outputs": [],
   "source": [
    "a=eval(input(\"enter the 1st side of the triangle:\"))\n",
    "b=eval(input(\"enter the 2nd side of the triangle:\"))\n",
    "c=eval(input(\"enter the 3rd side of the triangle:\"))\n",
    "if a==b and b==c:\n",
    "    print(\"the triangle is an equilateral triangle\")\n",
    "elif a==b or a==c or b==c:\n",
    "    print(\"the triangle is an isoceles triangle\")\n",
    "else:\n",
    "    print(\"the triangle is a scalene triangle\")"
   ]
  },
  {
   "cell_type": "markdown",
   "id": "658026ee",
   "metadata": {},
   "source": [
    "41.Note To Frequency:\n",
    "The following table lists an octave of music notes, beginning with middle C, along\n",
    "with their frequencies.\n",
    "Note Frequency (Hz)\n",
    "C4 261.63\n",
    "D4 293.66\n",
    "E4 329.63\n",
    "F4 349.23\n",
    "G4 392.00\n",
    "A4 440.00\n",
    "B4 493.88\n",
    "Begin by writing a program that reads the name of a note from the user and\n",
    "displays the note’s frequency. Your program should support all of the notes listed\n",
    "previously.\n",
    "Once you have your program working correctly for the notes listed previously you\n",
    "should add support for all of the notes from C0 to C8. While this could be done by\n",
    "adding many additional cases to your if statement, such a solution is cumbersome,\n",
    "inelegant and unacceptable for the purposes of this exercise. Instead, you should\n",
    "exploit the relationship between notes in adjacent octaves. In particular, the frequency\n",
    "of any note in octave n is half the frequency of the corresponding note in octave n+1.\n",
    "By using this relationship, you should be able to add support for the additional notes\n",
    "without adding additional cases to your if statement.\n"
   ]
  },
  {
   "cell_type": "code",
   "execution_count": null,
   "id": "3698069e",
   "metadata": {},
   "outputs": [],
   "source": []
  },
  {
   "cell_type": "markdown",
   "id": "7e3a0c71",
   "metadata": {},
   "source": [
    "42: Frequency To Note:\n",
    "In the previous question you converted from note name to frequency. In this question\n",
    "you will write a program that reverses that process. Begin by reading a frequency\n",
    "from the user. If the frequency is within one Hertz of a value listed in the table in\n",
    "the previous question then report the name of the note. Otherwise report that the\n",
    "frequency does not correspond to a known note. In this exercise you only need to\n",
    "consider the notes listed in the table. There is no need to consider notes from other\n",
    "octaves."
   ]
  },
  {
   "cell_type": "code",
   "execution_count": null,
   "id": "00dfea9d",
   "metadata": {},
   "outputs": [],
   "source": []
  },
  {
   "cell_type": "markdown",
   "id": "fc8b272f",
   "metadata": {},
   "source": [
    "43: Faces on Money:\n",
    "It is common for images of a country’s previous leaders, or other individuals of historical signicance, to appear on its money. The individuals that appear on banknotes\n",
    "in the United States are listed in Table 2.1.\n",
    "Write a program that begins by reading the denomination of a banknote from the\n",
    "user. Then your program should display the name of the individual that appears on the banknote of the entered amount. An appropriate error message should be displayed\n",
    "if no such note exists.\n",
    "Table 2.1 Individuals that\n",
    "appear on Banknotes\n",
    "Individual Amount\n",
    "George Washington $1\n",
    "Thomas Jefferson $2\n",
    "Abraham Lincoln $5\n",
    "Alexander Hamilton $10\n",
    "Andrew Jackson $20\n",
    "Ulysses S. Grant $50\n",
    "Benjamin Franklin $100\n"
   ]
  },
  {
   "cell_type": "code",
   "execution_count": null,
   "id": "104a858f",
   "metadata": {},
   "outputs": [],
   "source": [
    "amt=eval(input(\"enter the denomination of the banknote:\"))\n",
    "if amt==1:\n",
    "    print(\"George Washington\")\n",
    "elif amt==2:\n",
    "    print(\"Thomas Jefferson\")\n",
    "elif amt==5:\n",
    "    print(\"Abraham Lincoln\")\n",
    "elif amt==10:\n",
    "    print(\"Alexander Hamilton\")\n",
    "elif amt==20:\n",
    "    print(\"Andrew Jackson\")\n",
    "elif amt==50:\n",
    "    print(\"gUlysses S. Grant\")\n",
    "elif amt==100:\n",
    "    print(\"Benjamin Franklin\")\n",
    "else:\n",
    "    print(\"no such note exists\")"
   ]
  },
  {
   "cell_type": "markdown",
   "id": "91a29065",
   "metadata": {},
   "source": [
    "44: Date to Holiday Name:\n",
    "Canada has three national holidays which fall on the same dates each year.\n",
    "Holiday Date\n",
    "New year’s day January 1\n",
    "Canada day July 1\n",
    "Christmas day December 25\n",
    "Write a program that reads a month and day from the user. If the month and day\n",
    "match one of the holidays listed previously then your program should display the\n",
    "holiday’s name. Otherwise your program should indicate that the entered month and\n",
    "day do not correspond to a xed-date holiday."
   ]
  },
  {
   "cell_type": "code",
   "execution_count": null,
   "id": "6974a91f",
   "metadata": {},
   "outputs": [],
   "source": [
    "mnth=input(\"Enter the month:\")\n",
    "day=int(input(\"Enter the day:\"))\n",
    "if mnth==\"january\" and day==1:\n",
    "    print(\"It's New year's day\")\n",
    "elif mnth==\"july\" and day==1:\n",
    "    print(\"It's Canada day\")\n",
    "elif mnth==\"december\" and day==25:\n",
    "    print(\"It's Christmas day\")\n",
    "else:\n",
    "    print(\"The entered month and day does not correspond to a fixed-date holiday\")"
   ]
  },
  {
   "cell_type": "markdown",
   "id": "d8aa36a7",
   "metadata": {},
   "source": [
    "45:What Color is that Square?\n",
    "Positions on a chess board are identied by a letter and a number. The letter identies\n",
    "the column, while the number identies the row, as shown below:\n",
    "Write a program that reads a position from the user. Use an if statement to determine if the column begins with a black square or a white square. Then use modular\n",
    "arithmetic to report the color of the square in that row. For example, if the user enters\n",
    "a1 then your program should report that the square is black. If the user enters d5\n",
    "then your program should report that the square is white. Your program may assume\n",
    "that a valid position will always be entered. It does not need to perform any error\n",
    "checking."
   ]
  },
  {
   "cell_type": "code",
   "execution_count": null,
   "id": "9d6c617e",
   "metadata": {},
   "outputs": [],
   "source": [
    "pos=input(\"Enter the position:\")\n"
   ]
  },
  {
   "cell_type": "markdown",
   "id": "35d5a46b",
   "metadata": {},
   "source": [
    "46: Season from Month and Day\n",
    "The year is divided into four seasons: spring, summer, fall and winter. While the\n",
    "exact dates that the seasons change vary a little bit from year to year because of the\n",
    "way that the calendar is constructed, we will use the following dates for this exercise:\n",
    "Season First day\n",
    "Spring March 20\n",
    "Summer June 21\n",
    "Fall September 22\n",
    "Winter December 21\n",
    "Create a program that reads a month and day from the user. The user will enter\n",
    "the name of the month as a string, followed by the day within the month as an\n",
    "integer. Then your program should display the season associated with the date that\n",
    "was entered."
   ]
  },
  {
   "cell_type": "code",
   "execution_count": null,
   "id": "83d5e2ba",
   "metadata": {},
   "outputs": [],
   "source": [
    "mnth=input(\"enter the month:\")\n",
    "day=int(input(\"enter the day:\"))\n",
    "if (mnth==\"april\" and day<=30) or (mnth==\"may\" and day<=31) or (mnth==\"june\" and day<=20) or (mnth==\"march\" and day>20 and day<=31):\n",
    "    print(\"the season is spring\")\n",
    "elif (mnth==\"july\" and day<=31) or (mnth==\"august\" and day<=31) or (mnth==\"september\" and day<=21) or (mnth==\"june\" and day>21 and day<=30):\n",
    "    print(\"the season is summer\")\n",
    "elif (mnth==\"october\" and day<=31) or (mnth==\"november\" and day<=30) or (mnth==\"december\" and day<=20) or (mnth==\"september\" and day>22 and day<=30):\n",
    "    print(\"the season is fall\")\n",
    "elif (mnth==\"january\" and day<=31) or (mnth==\"february\" and day<=29) or (mnth==\"march\" and day<20) or (mnth==\"december\" and day>21 and day<=31):\n",
    "    print(\"the season is winter\")\n"
   ]
  },
  {
   "cell_type": "markdown",
   "id": "eb06af63",
   "metadata": {},
   "source": [
    "47: Birth Date to Astrological Sign:\n",
    "The horoscopes commonly reported in newspapers use the position of the sun at the\n",
    "time of one’s birth to try and predict the future. This system of astrology divides the\n",
    "year into twelve zodiac signs, as outline in the table below:\n",
    "Zodiac sign Date range\n",
    "Capricorn December 22 to January 19\n",
    "Aquarius January 20 to February 18\n",
    "Pisces February 19 to March 20\n",
    "Aries March 21 to April 19\n",
    "Taurus April 20 to May 20\n",
    "Gemini May 21 to June 20\n",
    "Cancer June 21 to July 22\n",
    "Leo July 23 to August 22\n",
    "Virgo August 23 to September 22\n",
    "Libra September 23 to October 22\n",
    "Scorpio October 23 to November 21\n",
    "Sagittarius November 22 to December 21\n",
    "Write a program that asks the user to enter his or her month and day of birth. Then\n",
    "your program should report the user’s zodiac sign as part of an appropriate output\n",
    "message."
   ]
  },
  {
   "cell_type": "code",
   "execution_count": null,
   "id": "c0e5c43c",
   "metadata": {},
   "outputs": [],
   "source": [
    "mnth=input(\"enter the month:\")\n",
    "day=int(input(\"enter the day:\"))\n",
    "if (mnth==\"December\" and day>=22 and day<=31) or (mnth==\"January\" and day>=0 and day<=19):\n",
    "    print(\"your zodiac sign is Capricon\")\n",
    "elif (mnth==\"January\" and day>=20 and day<=31) or (mnth==\"February\" and day>=0 and day<=18):\n",
    "    print(\"your zodiac sign is Aquarius\")\n",
    "elif (mnth==\"February\" and day>=19 and day<=29) or (mnth==\"March\" and day>=0 and day<=20):\n",
    "    print(\"your zodiac sign is Pisces\")\n",
    "elif (mnth==\"March\" and day>=21 and day<=31) or (mnth==\"April\" and day>=0 and day<=19):\n",
    "    print(\"your zodiac sign is Aries\")\n",
    "elif (mnth==\"April\" and day>=20 and day<=30) or (mnth==\"May\" and day>=0 and day<=20):\n",
    "    print(\"your zodiac sign is Taurus\")\n",
    "elif (mnth==\"May\" and day>=21 and day<=31) or (mnth==\"June\" and day>=0 and day<=20):\n",
    "    print(\"your zodiac sign is Gemini\")\n",
    "elif (mnth==\"June\" and day>=21 and day<=30) or (mnth==\"July\" and day>=0 and day<=22):\n",
    "    print(\"your zodiac sign is Cancer\")\n",
    "elif (mnth==\"July\" and day>=23 and day<=31) or (mnth==\"August\" and day>=0 and day<=22):\n",
    "    print(\"your zodiac sign is Leo\")\n",
    "elif (mnth==\"August\" and day>=23 and day<=31) or (mnth==\"September\" and day>=0 and day<=22):\n",
    "    print(\"your zodiac sign is Virgo\")\n",
    "elif (mnth==\"September\" and day>=23 and day<=30) or (mnth==\"October\" and day>=0 and day<=22):\n",
    "    print(\"your zodiac sign is Libra\")\n",
    "elif (mnth==\"October\" and day>=23 and day<=31) or (mnth==\"November\" and day>=0 and day<=21):\n",
    "    print(\"your zodiac sign is Scorpio\")\n",
    "elif (mnth==\"November\" and day>=22 and day<=30) or (mnth==\"December\" and day>=0 and day<=21):\n",
    "    print(\"your zodiac sign is Sagittarius\")"
   ]
  },
  {
   "cell_type": "markdown",
   "id": "80dd4df9",
   "metadata": {},
   "source": [
    "****48: Chinese Zodiac:\n",
    "The Chinese zodiac assigns animals to years in a 12 year cycle. One 12 year cycle is\n",
    "shown in the table below. The pattern repeats from there, with 2012 being another\n",
    "year of the dragon, and 1999 being another year of the hare\n",
    "Year Animal\n",
    "2000 Dragon\n",
    "2001 Snake\n",
    "2002 Horse\n",
    "2003 Sheep\n",
    "2004 Monkey\n",
    "2005 Rooster\n",
    "2006 Dog\n",
    "2007 Pig\n",
    "2008 Rat\n",
    "2009 Ox\n",
    "2010 Tiger\n",
    "2011 Hare\n",
    "Write a program that reads a year from the user and displays the animal associated\n",
    "with that year. Your program should work correctly for any year greater than or equal\n",
    "to zero, not just the ones listed in the table."
   ]
  },
  {
   "cell_type": "code",
   "execution_count": null,
   "id": "f920c66d",
   "metadata": {},
   "outputs": [],
   "source": [
    "yr=int(input(\"Enter the year:\"))\n",
    "ani=[\"monkey\",\"rooster\",\"dog\",\"pig\",\"rat\",\"ox\",\"tiger\",\"hare\",\"dragon\",\"snake\",\"horse\",\"sheep\"]\n",
    "a=yr%12\n",
    "animal=ani[a]\n",
    "print(f\"the zodiac associated with {yr} is {animal}\")"
   ]
  },
  {
   "cell_type": "markdown",
   "id": "e1d71654",
   "metadata": {},
   "source": [
    "49: Richter Scale:\n",
    "The following table contains earthquake magnitude ranges on the Richter scale and\n",
    "their descriptors:\n",
    "Magnitude Descriptor\n",
    "Less than 2.0 Micro\n",
    "2.0 to less than 3.0 Very minor\n",
    "3.0 to less than 4.0 Minor\n",
    "4.0 to less than 5.0 Light\n",
    "5.0 to less than 6.0 Moderate\n",
    "6.0 to less than 7.0 Strong\n",
    "7.0 to less than 8.0 Major\n",
    "8.0 to less than 10.0 Great\n",
    "10.0 or more Meteoric\n",
    "Write a program that reads a magnitude from the user and displays the appropriate\n",
    "descriptor as part of a meaningful message. For example, if the user enters 5.5 then\n",
    "your program should indicate that a magnitude 5.5 earthquake is considered to be a\n",
    "moderate earthquake."
   ]
  },
  {
   "cell_type": "code",
   "execution_count": null,
   "id": "7e245015",
   "metadata": {},
   "outputs": [],
   "source": [
    "mag=eval(input(\"enter the magnitude of the earthquake:\"))\n",
    "if mag<2.0:\n",
    "    print(\"it is a micro earthquake\")\n",
    "if mag>=2.0 and mag<3.0:\n",
    "    print(\"it is a very minor earthquake\")\n",
    "if mag>=3.0 and mag<4.0:\n",
    "    print(\"it is a Minor earthquake\")\n",
    "if mag>=4.0 and mag<5.0:\n",
    "    print(\"it is a Light earthquake\")\n",
    "if mag>=5.0 and mag<6.0:\n",
    "    print(\"it is a Moderate earthquake\")\n",
    "if mag>=6.0 and mag<7.0:\n",
    "    print(\"it is a Strong earthquake\")\n",
    "if mag>=7.0 and mag<8.0:\n",
    "    print(\"it is a Major earthquake\")\n",
    "if mag>=8.0 and mag<10.0:\n",
    "    print(\"it is a Great earthquake\")\n",
    "if mag>=10:\n",
    "    print(\"it is a very meteoric earthquake\")"
   ]
  },
  {
   "cell_type": "markdown",
   "id": "d57da2eb",
   "metadata": {},
   "source": [
    "50: Roots of a Quadratic Function:\n",
    "A univariate quadratic function has the form f (x) = ax2 + bx + c, where a, b and\n",
    "c are constants, and a is non-zero. The roots of a quadratic function can be found\n",
    "by nding the values of x that satisfy the quadratic equation ax2 + bx + c = 0. A\n",
    "quadratic function may have 0, 1 or 2 real roots. These roots can be computed using\n",
    "the quadratic formula, shown below:\n",
    "root = −b ± √\n",
    "b2 − 4ac\n",
    "2a\n",
    "The portion of the expression under the square root sign is called the discriminant.\n",
    "If the discriminant is negative then the quadratic equation does not have any real roots.\n",
    "If the discriminant is 0, then the equation has one real root. Otherwise the equation\n",
    "has two real roots, and the expression must be evaluated twice, once using a plus\n",
    "sign, and once using a minus sign, when computing the numerator.\n",
    "Write a program that computes the real roots of a quadratic function. Your program\n",
    "should begin by prompting the user for the values of a, b and c. Then it should display\n",
    "a message indicating the number of real roots, along with the values of the real roots\n",
    "(if any).\n",
    "        "
   ]
  },
  {
   "cell_type": "code",
   "execution_count": null,
   "id": "e5778c88",
   "metadata": {},
   "outputs": [],
   "source": []
  },
  {
   "cell_type": "markdown",
   "id": "2f60fcd1",
   "metadata": {},
   "source": [
    "51: Letter Grade to Grade Points:\n",
    "At a particular university, letter grades are mapped to grade points in the following\n",
    "manner:\n",
    "Letter Grade points\n",
    "A+ 4.0\n",
    "A 4.0\n",
    "A− 3.7\n",
    "B+ 3.3\n",
    "B 3.0\n",
    "B− 2.7\n",
    "C+ 2.3\n",
    "C 2.0\n",
    "C− 1.7\n",
    "D+ 1.3\n",
    "D 1.0\n",
    "F 0\n",
    "Write a program that begins by reading a letter grade from the user. Then your\n",
    "program should compute and display the equivalent number of grade points. Ensure that your program generates an appropriate error message if the user enters an invalid\n",
    "letter grade."
   ]
  },
  {
   "cell_type": "code",
   "execution_count": null,
   "id": "d6f06595",
   "metadata": {},
   "outputs": [],
   "source": [
    "grade=input(\"enter the grade\")\n",
    "if grade==\"A+\" or grade==\"A\":\n",
    "    print(f\"the grade point for the grade {grade} is 4.0\")\n",
    "elif grade==\"A-\":\n",
    "    print(f\"the grade point for the grade {grade} is 3.7\")\n",
    "elif grade==\"B+\":\n",
    "    print(f\"the grade point for the grade {grade} is 3.3\")\n",
    "elif grade==\"B\":\n",
    "    print(f\"the grade point for the grade {grade} is 3.0\")\n",
    "elif grade==\"B-\":\n",
    "    print(f\"the grade point for the grade {grade} is 2.7\")\n",
    "elif grade==\"C+\":\n",
    "    print(f\"the grade point for the grade {grade} is 2.3\")\n",
    "elif grade==\"C\":\n",
    "    print(f\"the grade point for the grade {grade} is 2.0\")\n",
    "elif grade==\"C-\":\n",
    "    print(f\"the grade point for the grade {grade} is 1.7\")\n",
    "elif grade==\"D+\":\n",
    "    print(f\"the grade point for the grade {grade} is 1.3\")\n",
    "elif grade==\"D\":\n",
    "    print(f\"the grade point for the grade {grade} is 1.0\")\n",
    "elif grade==\"F\":\n",
    "    print(f\"the grade point for the grade {grade} is 0\")\n",
    "else:\n",
    "    print(\"No such grade\")"
   ]
  },
  {
   "cell_type": "markdown",
   "id": "4723ea95",
   "metadata": {},
   "source": [
    "52: Grade Points to Letter Grade:\n",
    "In the previous exercise you created a program that converts a letter grade into the\n",
    "equivalent number of grade points. In this exercise you will create a program that\n",
    "reverses the process and converts from a grade point value entered by the user to a\n",
    "letter grade. Ensure that your program handles grade point values that fall between\n",
    "letter grades. These should be rounded to the closest letter grade. Your program\n",
    "should report A+ for a 4.0 (or greater) grade point average."
   ]
  },
  {
   "cell_type": "code",
   "execution_count": null,
   "id": "5a45cd96",
   "metadata": {},
   "outputs": [],
   "source": [
    "grade=eval(input(\"enter the grade points:\"))\n",
    "if grade>4.0:\n",
    "    print(\"A+\")\n",
    "if grade==4.0:\n",
    "    print(\"A\")\n",
    "if grade<4.0 and grade>3.7:\n",
    "    print(\"A-\")\n",
    "if grade<=3.7 and grade>3.3:\n",
    "    print(\"B+\")\n",
    "if grade<=3.3 and grade>3.0:\n",
    "    print(\"B\")\n",
    "if grade<=3.0 and grade>2.7:\n",
    "    print(\"B-\")\n",
    "if grade<=2.7 and grade>2.3:\n",
    "    print(\"C+\")\n",
    "if grade<=2.3 and grade>2.0:\n",
    "    print(\"C\")\n",
    "if grade<=2.0 and grade>1.7:\n",
    "    print(\"C-\")\n",
    "if grade<=1.7 and grade>1.3:\n",
    "    print(\"D+\")\n",
    "if grade<=1.3 and grade>1.0:\n",
    "    print(\"D\")\n",
    "if grade<=1.0 and grade>=0:\n",
    "    print(\"F\")"
   ]
  },
  {
   "cell_type": "markdown",
   "id": "3432e770",
   "metadata": {},
   "source": [
    "53: Assessing Employees:\n",
    "At a particular company, employees are rated at the end of each year. The rating scale\n",
    "begins at 0.0, with higher values indicating better performance and resulting in larger\n",
    "raises. The value awarded to an employee is either 0.0, 0.4, or 0.6 or more. Values\n",
    "between 0.0 and 0.4, and between 0.4 and 0.6 are never used. The meaning associated\n",
    "with each rating is shown in the following table. The amount of an employee’s raise\n",
    "is $2400.00 multiplied by their rating.\n",
    "Rating Meaning\n",
    "0.0 Unacceptable performance\n",
    "0.4 Acceptable performance\n",
    "0.6 or more Meritorious performance\n",
    "Write a program that reads a rating from the user and indicates whether the performance was unacceptable, acceptable or meritorious. The amount of the employee’s\n",
    "raise should also be reported. Your program should display an appropriate error\n",
    "message if an invalid rating is entered."
   ]
  },
  {
   "cell_type": "code",
   "execution_count": null,
   "id": "5bbb95a6",
   "metadata": {},
   "outputs": [],
   "source": [
    "rat=eval(input(\"enter the rating:\"))\n",
    "if rat==0.0:\n",
    "    rai=rat*2400\n",
    "    print(f\"Unacceptable performance and the empolyee's raise is ${rai}\")\n",
    "elif rat==0.4:\n",
    "    rai=rat*2400\n",
    "    print(f\"Acceptable performance and the empolyee's raise is ${rai}\")\n",
    "elif rat>=0.6:\n",
    "    rai=rat*2400\n",
    "    print(f\"Meritorious performance and the empolyee's raise is ${rai}\")\n",
    "else:\n",
    "    print(\"invalid rating\")"
   ]
  },
  {
   "cell_type": "markdown",
   "id": "f29402de",
   "metadata": {},
   "source": [
    "54:Wavelengths of Visible Light:\n",
    "The wavelength of visible light ranges from 380 to 750 nanometers (nm). While the\n",
    "spectrum is continuous, it is often divided into 6 colors as shown below:\n",
    "Color Wavelength (nm)\n",
    "Violet 380 to less than 450\n",
    "Blue 450 to less than 495\n",
    "Green 495 to less than 570\n",
    "Yellow 570 to less than 590\n",
    "Orange 590 to less than 620\n",
    "Red 620 to 750\n",
    "Write a program that reads awavelength from the user and reports its color. Display\n",
    "an appropriate error message if the wavelength entered by the user is outside of the\n",
    "visible spectrum."
   ]
  },
  {
   "cell_type": "code",
   "execution_count": null,
   "id": "2803168a",
   "metadata": {},
   "outputs": [],
   "source": [
    "wav=eval(input(\"enter the wavelength in nm:\"))\n",
    "if wav>=380 and wav<450:\n",
    "    print(\"violet\")\n",
    "elif wav>=450 and wav<495:\n",
    "    print(\"blue\")\n",
    "elif wav>=495 and wav<570:\n",
    "    print(\"green\")\n",
    "elif wav>=570 and wav<590:\n",
    "    print(\"yellow\")\n",
    "elif wav>=590 and wav<620:\n",
    "    print(\"orange\")\n",
    "elif wav>=620 and wav<=750:\n",
    "    print(\"red\")\n",
    "else:\n",
    "    print(\"invalid wavelength\")"
   ]
  },
  {
   "cell_type": "markdown",
   "id": "c821bd2c",
   "metadata": {},
   "source": [
    "55: Frequency to Name:\n",
    "Electromagnetic radiation can be classied into one of 7 categories according to its\n",
    "frequency, as shown in the table below:\n",
    "Name Frequency range (Hz)\n",
    "Radio waves Less than 3 × 109\n",
    "Microwaves 3 × 109 to less than 3 × 1012\n",
    "Infrared light 3 × 1012 to less than 4.3 × 1014\n",
    "Visible light 4.3 × 1014 to less than 7.5 × 1014\n",
    "Ultraviolet light 7.5 × 1014 to less than 3 × 1017\n",
    "X-rays 3 × 1017 to less than 3 × 1019\n",
    "Gamma rays 3 × 1019 or more\n",
    "Write a program that reads the frequency of the radiation from the user and displays\n",
    "the appropriate name."
   ]
  },
  {
   "cell_type": "code",
   "execution_count": null,
   "id": "92c7c1b5",
   "metadata": {},
   "outputs": [],
   "source": [
    "freq=eval(input(\"enter the frequency:\"))\n",
    "if freq<3*10**9:\n",
    "    print(\"radio waves\")\n",
    "elif freq>=3*10**9 and freq<3*10**12:\n",
    "    print(\"Microwaves\")\n",
    "elif freq>=3*10**12 and freq<4.3*10**14:\n",
    "    print(\"Infrared light\")\n",
    "elif freq>=4.3*10**14 and freq<7.5*10**14:\n",
    "    print(\"Visible light\")\n",
    "elif freq>=7.5*10**14 and freq<3*10**17:\n",
    "    print(\"Ultraviolet light\")\n",
    "elif freq>=3*10**17 and freq<3*10**19:\n",
    "    print(\"X-rays\")\n",
    "elif freq>=3*10**9:\n",
    "    print(\"Gamma rays\")\n",
    "else:\n",
    "    print(\"invalid frequency\")"
   ]
  },
  {
   "cell_type": "markdown",
   "id": "9b6f2421",
   "metadata": {},
   "source": [
    "56: Cell Phone Bill:\n",
    "A particular cell phone plan includes 50 minutes of air time and 50 text messages\n",
    "for $15.00 a month. Each additional minute of air time costs $0.25, while additional\n",
    "text messages cost $0.15 each. All cell phone bills include an additional charge of\n",
    "$0.44 to support 911 call centers, and the entire bill (including the 911 charge) is\n",
    "subject to 5 percent sales tax.\n",
    "Write a program that reads the number of minutes and text messages used in a\n",
    "month from the user. Display the base charge, additional minutes charge (if any),\n",
    "additional text message charge (if any), the 911 fee, tax and total bill amount. Only\n",
    "display the additional minute and text message charges if the user incurred costs in\n",
    "these categories. Ensure that all of the charges are displayed using 2 decimal places."
   ]
  },
  {
   "cell_type": "code",
   "execution_count": null,
   "id": "dea23c82",
   "metadata": {},
   "outputs": [],
   "source": [
    "mins=eval(input(\"enter the no. of minutes of air time:\"))\n",
    "mes=eval(input(\"enter the no. of messages\"))\n",
    "basic=15.00\n",
    "if mins<50 and mes<50:\n",
    "    notax=basic+0.44    \n",
    "else:\n",
    "    time=mins%50\n",
    "    m=mes%50\n",
    "    addt=time*0.25+m*0.15\n",
    "    notax=15.00+addt+0.44\n",
    "tax=5*notax/100\n",
    "total=notax+tax\n",
    "print(f\"the basic charge is:{basic}\")\n",
    "print(f\"the additional minutes charges:{time*0.25}\")\n",
    "print(f\"the additional message charges:{time*0.15}\")\n",
    "print(f\"the tax:{tax}\")\n",
    "print(\"the 911 fee is:$0.44\")\n",
    "print(f\"the total bill:{total}\")"
   ]
  },
  {
   "cell_type": "markdown",
   "id": "8a6a41ed",
   "metadata": {},
   "source": [
    "57: Is it a Leap Year?:\n",
    "Most years have 365 days. However, the time required for the Earth to orbit the Sun\n",
    "is actually slightly more than that. As a result, an extra day, February 29, is included\n",
    "in some years to correct for this difference. Such years are referred to as leap years.\n",
    "The rules for determining whether or not a year is a leap year follow:\n",
    "• Any year that is divisible by 400 is a leap year.\n",
    "• Of the remaining years, any year that is divisible by 100 is not a leap year.\n",
    "• Of the remaining years, any year that is divisible by 4 is a leap year.\n",
    "• All other years are not leap years.\n",
    "Write a program that reads a year from the user and displays a message indicating\n",
    "whether or not it is a leap year."
   ]
  },
  {
   "cell_type": "code",
   "execution_count": null,
   "id": "6d0d753f",
   "metadata": {},
   "outputs": [],
   "source": [
    "year=int(input(\"enter the year:\"))\n",
    "if year%400==0:\n",
    "    print(f\"the year {year} is a leap year\")\n",
    "elif year%100!=0 and year%4==0:\n",
    "    print(f\"the year {year} is a leap year\")\n",
    "else:\n",
    "    print(f\"the year {year} is not a leap year\")"
   ]
  },
  {
   "cell_type": "markdown",
   "id": "0c43d3d5",
   "metadata": {},
   "source": [
    "58: Next Day\n",
    "Write a program that reads a date from the user and computes its immediate successor.\n",
    "For example, if the user enters values that represent 2013-11-18 then your program\n",
    "should display a message indicating that the day immediately after 2013-11-18 is\n",
    "2013-11-19. If the user enters values that represent 2013-11-30 then the program\n",
    "should indicate that the next day is 2013-12-01. If the user enters values that represent\n",
    "2013-12-31 then the program should indicate that the next day is 2014-01-01. The\n",
    "date will be entered in numeric form with three separate input statements; one for\n",
    "the year, one for the month, and one for the day. Ensure that your program works\n",
    "correctly for leap years."
   ]
  },
  {
   "cell_type": "code",
   "execution_count": null,
   "id": "761af233",
   "metadata": {},
   "outputs": [],
   "source": [
    "day=int(input(\"enter the day:\"))\n",
    "mnth=int(input(\"enter the month:\"))\n",
    "year=int(input(\"enter the year:\"))\n",
    "if mnth==1 or mnth==3 or mnth==5 or mnth==7 or mnth==8 or mnth==10 or mnth==12:\n",
    "    days=31\n",
    "elif mnth==4 or mnth==6 or mnth==9 or mnth==11:\n",
    "    days=30\n",
    "if year%400==0 or (year%100!=0 and year%4==0):\n",
    "    leap= True\n",
    "else:\n",
    "    leap= False\n",
    "if mnth==2:\n",
    "    if leap:\n",
    "        days=29\n",
    "    else:\n",
    "        days=28\n",
    "if day<1 or mnth<1 or mnth>12 or (not leap and day>28):\n",
    "    print(\"invalid date\")\n",
    "else:\n",
    "    if day==days:\n",
    "        if mnth<12:\n",
    "            mnth+=1\n",
    "            day=1\n",
    "        elif mnth==12:\n",
    "            year+=1\n",
    "            day=1\n",
    "            mnth=1\n",
    "    else:\n",
    "        day+=1\n",
    "    print(f\"the next day is-{day}:{mnth}:{year}\")\n",
    "\n",
    "    "
   ]
  },
  {
   "cell_type": "markdown",
   "id": "dccf16f9",
   "metadata": {},
   "source": [
    "59: Is a License Plate Valid?\n",
    "In a particular jurisdiction, older license plates consist of three uppercase letters\n",
    "followed by three numbers. When all of the license plates following that pattern had been used, the format was changed to four numbers followed by three uppercase\n",
    "letters.\n",
    "Write a program that begins by reading a string of characters from the user. Then\n",
    "your program should display a message indicating whether the characters are valid\n",
    "for an older style license plate or a newer style license plate. Your program should\n",
    "display an appropriate message if the string entered by the user is not valid for either\n",
    "style of license plate."
   ]
  },
  {
   "cell_type": "code",
   "execution_count": null,
   "id": "efef39a2",
   "metadata": {},
   "outputs": [],
   "source": [
    "str=[]\n",
    "alph=[\"A\",\"B\",\"C\",\"D\",\"E\",\"F\",\"G\",\"H\",\"I\",\"J\",\"K\",\"L\",\"M\",\"N\",\"O\",\"P\",\"Q\",\"R\",\"S\",\"T\",\"U\",\"V\",\"W\",\"X\",\"Y\",\"Z\"]\n",
    "num=[\"1\",\"2\",\"3\",\"4\",\"5\",\"6\",\"7\",\"8\",\"9\"]\n",
    "str=input(\"enter the licence plate number:\")\n",
    "if len(str)==6:\n",
    "    if str[0] in alph and str[1] in alph and str[2] in alph and str[3] in num and str[4] in num and str[5] in num:\n",
    "        print(\"the numberplate is of old style\")\n",
    "    else:\n",
    "        print(\"invalid licence plate number\")\n",
    "elif len(str)==7:\n",
    "    if str[0] in num and str[1] in num and str[2] in num and str[3] in num and str[4] in alph and str[5] in alph and str[6] in alph:\n",
    "        print(\"the numberplate is of new style\")\n",
    "    else:\n",
    "        print(\"invalid licence plate number\")\n",
    "else:\n",
    "    print(\"invalid licence plate number\")"
   ]
  },
  {
   "cell_type": "markdown",
   "id": "7d6632a0",
   "metadata": {},
   "source": [
    "60: Roulette Payouts\n",
    "Aroulette wheel has 38 spaces on it. Of these spaces, 18 are black, 18 are red, and two\n",
    "are green. The green spaces are numbered 0 and 00. The red spaces are numbered 1,\n",
    "3, 5, 7, 9, 12, 14, 16, 18, 19, 21, 23, 25, 27, 30 32, 34 and 36. The remaining integers\n",
    "between 1 and 36 are used to number the black spaces.\n",
    "Many different bets can be placed in roulette.We will only consider the following\n",
    "subset of them in this exercise:\n",
    "• Single number (1 to 36, 0, or 00)\n",
    "• Red versus Black\n",
    "• Odd versus Even (Note that 0 and 00 do not pay out for even)\n",
    "• 1 to 18 versus 19 to 36\n",
    "Write a program that simulates a spin of a roulette wheel by using Python’s random\n",
    "number generator. Display the number that was selected and all of the bets that must\n",
    "be payed. For example, if 13 is selected then your program should display:\n",
    "The spin resulted in 13...\n",
    "Pay 13\n",
    "Pay Black\n",
    "Pay Odd\n",
    "Pay 1 to 18\n",
    "If the simulation results in 0 or 00 then your program should display Pay 0 or\n",
    "Pay 00 without any further output."
   ]
  },
  {
   "cell_type": "code",
   "execution_count": null,
   "id": "3cb5dc86",
   "metadata": {},
   "outputs": [],
   "source": []
  },
  {
   "cell_type": "markdown",
   "id": "8ab7b799",
   "metadata": {},
   "source": [
    "61:Average\n",
    "In this exercise you will create a program that computes the average of a collection\n",
    "of values entered by the user. The user will enter 0 as a sentinel value to indicate\n",
    "that no further values will be provided. Your program should display an appropriate\n",
    "error message if the rst value entered by the user is 0."
   ]
  },
  {
   "cell_type": "code",
   "execution_count": null,
   "id": "26f7a0d1",
   "metadata": {},
   "outputs": [],
   "source": [
    "num=eval(input(\"enter the number(0 to terminate):\"))\n",
    "value=0\n",
    "count=0\n",
    "while num!=0:\n",
    "    if count==0 and num ==0:\n",
    "        print(\"0 cannot be given as the 1st number\")\n",
    "        break\n",
    "    else:\n",
    "        value+=num\n",
    "        count+=1\n",
    "        num=eval(input(\"enter the number(0 to terminate):\"))\n",
    "if count>0:\n",
    "    average=value/count\n",
    "    print(f\"the average is:{average}\")\n",
    "else:\n",
    "    print(\"0 cannot be given as the 1st number\")"
   ]
  },
  {
   "cell_type": "markdown",
   "id": "6c967b35",
   "metadata": {},
   "source": [
    "62: Discount Table\n",
    "    A particular retailer is having a 60 percent off sale on a variety of discontinued\n",
    "products. The retailer would like to help its customers determine the reduced price\n",
    "of the merchandise by having a printed discount table on the shelf that shows the original prices and the prices after the discount has been applied. Write a program that\n",
    "uses a loop to generate this table, showing the original price, the discount amount,\n",
    "and the new price for purchases of $4.95, $9.95, $14.95, $19.95 and $24.95. Ensure\n",
    "that the discount amounts and the new prices are rounded to 2 decimal places when\n",
    "they are displayed."
   ]
  },
  {
   "cell_type": "code",
   "execution_count": null,
   "id": "45a6451a",
   "metadata": {},
   "outputs": [],
   "source": [
    "original=[4.95,9.95,14.95,19.95,24.95]\n",
    "for price in original:\n",
    "    discount=price*60/100\n",
    "    new_price=price-discount\n",
    "    print(f\"${round(price,2)}\\t\\t${round(discount,2)}\\t\\t${round(new_price,2)}\")"
   ]
  },
  {
   "cell_type": "markdown",
   "id": "4b434e64",
   "metadata": {},
   "source": [
    "63:Temperature Conversion Table\n",
    "Write a program that displays a temperature conversion table for degrees Celsius and\n",
    "degrees Fahrenheit. The table should include rows for all temperatures between 0\n",
    "and 100 degrees Celsius that are multiples of 10 degrees Celsius. Include appropriate\n",
    "headings on your columns. The formula for converting between degrees Celsius and\n",
    "degrees Fahrenheit can be found on the internet."
   ]
  },
  {
   "cell_type": "code",
   "execution_count": null,
   "id": "4b79118e",
   "metadata": {},
   "outputs": [],
   "source": [
    "celc=[0,10,20,30,40,50,60,70,80,90,100]\n",
    "print(\"celcius\\t\\tfahrenheit\")\n",
    "for temp in celc:\n",
    "    fah=temp*1.8+32\n",
    "    print(f\"{temp}\\t\\t{fah}\")\n",
    "    "
   ]
  },
  {
   "cell_type": "markdown",
   "id": "c17d98b5",
   "metadata": {},
   "source": [
    "64:No More Pennies\n",
    "February 4, 2013was the last day that pennies were distributed by the Royal Canadian\n",
    "Mint. Now that pennies have been phased out retailers must adjust totals so that they\n",
    "are multiples of 5 cents when they are paid for with cash (credit card and debit card\n",
    "transactions continue to be charged to the penny). While retailers have some freedom\n",
    "in how they do this, most choose to round to the closest nickel.\n",
    "Write a program that reads prices from the user until a blank line is entered.\n",
    "Display the total cost of all the entered items on one line, followed by the amount\n",
    "due if the customer pays with cash on a second line. The amount due for a cash\n",
    "payment should be rounded to the nearest nickel. One way to compute the cash\n",
    "payment amount is to begin by determining how many pennies would be needed to\n",
    "pay the total. Then compute the remainder when this number of pennies is divided\n",
    "by 5. Finally, adjust the total down if the remainder is less than 2.5. Otherwise adjust\n",
    "the total up."
   ]
  },
  {
   "cell_type": "code",
   "execution_count": null,
   "id": "c4bf9450",
   "metadata": {},
   "outputs": [],
   "source": [
    "def round_to_nearest_nickel(amount):\n",
    "    # Round amount to nearest nickel\n",
    "    pennies = round(amount * 100)\n",
    "    remainder = pennies % 5\n",
    "    if remainder < 2.5:\n",
    "        pennies -= remainder\n",
    "    else:\n",
    "        pennies += (5 - remainder)\n",
    "    return pennies / 100\n",
    "\n",
    "total_cost = 0\n",
    "while True:\n",
    "    price_str = input(\"Enter the price of an item (blank to quit): \")\n",
    "    if price_str == \"\":\n",
    "        break\n",
    "    price = float(price_str)\n",
    "    total_cost += price\n",
    "\n",
    "print(\"Total cost: ${:.2f}\".format(total_cost))\n",
    "cash_due = round_to_nearest_nickel(total_cost)\n",
    "cash=eval(input(\"enter the cash amount:\"))\n",
    "cash_due=cash-cash_due\n",
    "print(\"Amount due (cash payment): ${:.2f}\".format(cash_due))\n"
   ]
  },
  {
   "cell_type": "markdown",
   "id": "2f492e80",
   "metadata": {},
   "source": [
    "72:Is a String a Palindrome?\n",
    "A string is a palindrome if it is identical forward and backward. For example “anna”,\n",
    "“civic”, “level” and “hannah” are all examples of palindromicwords. Write a program\n",
    "that reads a string from the user and uses a loop to determines whether or not it is a\n",
    "palindrome. Display the result, including a meaningful output message."
   ]
  },
  {
   "cell_type": "code",
   "execution_count": null,
   "id": "bd8b2321",
   "metadata": {},
   "outputs": [],
   "source": [
    "strg=input(\"enter the word:\")\n",
    "length=len(strg)\n",
    "palindrome=True\n",
    "for i in range(length//2):\n",
    "    if strg[i]!=strg[length-i-1]:\n",
    "        palindrome=False\n",
    "        break\n",
    "if palindrome:\n",
    "    print(f\"{strg} is a palindrome\")\n",
    "else:\n",
    "    print(f\"{strg} is not a palindrome\")\n",
    "\n"
   ]
  },
  {
   "cell_type": "markdown",
   "id": "52534a0a",
   "metadata": {},
   "source": [
    "73: MultipleWord Palindromes\n",
    "There are numerous phrases that are palindromes when spacing is ignored. Examples\n",
    "include “go dog”, “ee to me remote elf” and “some men interpret nine memos”,\n",
    "among many others. Extend your solution to Exercise 72 so that it ignores spacing\n",
    "while determining whether or not a string is a palindrome. For an additional challenge,\n",
    "extend your solution so that is also ignores punctuation marks and treats uppercase\n",
    "and lowercase letters as equivalent."
   ]
  },
  {
   "cell_type": "code",
   "execution_count": null,
   "id": "1f4b746f",
   "metadata": {},
   "outputs": [],
   "source": [
    "strg=input(\"enter the word:\")\n",
    "strg.strip()\n",
    "print(strg)\n",
    "length=len(strg)\n",
    "palindrome=True\n",
    "for i in range(length//2):\n",
    "    if strg[i]!=strg[length-i-1]:\n",
    "        palindrome=False\n",
    "        break\n",
    "if palindrome:\n",
    "    print(f\"{strg} is a palindrome\")\n",
    "else:\n",
    "    print(f\"{strg} is not a palindrome\")"
   ]
  },
  {
   "cell_type": "markdown",
   "id": "599abdc4",
   "metadata": {},
   "source": [
    "74: Multiplication Table\n",
    "In this exercise you will create a program that displays a multiplication table that\n",
    "shows the products of all combinations of integers from 1 times 1 up to and including\n",
    "10 times 10. Your multiplication table should include a row of labels across the top\n",
    "of it containing the numbers 1 through 10. It should also include labels down the left\n",
    "side consisting of the numbers 1 through 10. The expected output from the program\n",
    "is shown below:When completing this exercise you will probably nd it helpful to be able to\n",
    "print out a value without moving down to the next line. This can be accomplished\n",
    "by added end=\"\" as the last parameter to your print statement. For example,\n",
    "print(\"A\") will display the letter A and then move down to the next line. The\n",
    "statement print(\"A\", end=\"\") will display the letter A without moving down\n",
    "to the next line, causing the next print statement to display its result on the same line\n",
    "as the letter A."
   ]
  },
  {
   "cell_type": "code",
   "execution_count": null,
   "id": "7dc65d44",
   "metadata": {},
   "outputs": [],
   "source": [
    "print(\"\\t1\\t2\\t3\\t4\\t5\\t6\\t7\\t8\\t9\\t10\")\n",
    "num=[1,2,3,4,5,6,7,8,9,10]\n",
    "m=0\n",
    "n=0\n",
    "for i in num:\n",
    "    pro=num[m]*num[n]\n",
    "    print(f\"{pro}\\t\")\n",
    "    n+=1\n",
    "    if n>10:\n",
    "        m+=1\n",
    "    \n",
    "    \n",
    "\n",
    "    "
   ]
  },
  {
   "cell_type": "markdown",
   "id": "15a0946a",
   "metadata": {},
   "source": [
    "75: Greatest Common Divisor\n",
    "The greatest common divisor of two positive integers, n and m, is the largest number,\n",
    "d, which divides evenly into both n and m. There are several algorithms that can be\n",
    "used to solve this problem, including:\n",
    "Initialize d to the smaller of m and n.\n",
    "While d does not evenly divide m or d does not evenly divide n do\n",
    "Decrease the value of d by 1\n",
    "Report d as the greatest common divisor of n and m\n",
    "Write a program that reads two positive integers from the user and uses this algorithm\n",
    "to determine and report their greatest common divisor."
   ]
  },
  {
   "cell_type": "code",
   "execution_count": null,
   "id": "f74d5038",
   "metadata": {},
   "outputs": [],
   "source": [
    "m=eval(input(\"enter the 1st no.:\"))\n",
    "n=eval(input(\"enter the 2nd no.:\"))\n",
    "if m<n:\n",
    "    d=m\n",
    "else:\n",
    "    d=n\n",
    "while m%d!=0 or n%d!=0:\n",
    "    d-=1\n",
    "print(f\"{d} is the greatest common divisor of {m} and {n}\")"
   ]
  },
  {
   "cell_type": "markdown",
   "id": "4e982f3c",
   "metadata": {},
   "source": [
    "76: Prime Factors\n",
    "The prime factorization of an integer, n, can be determined using the following steps:\n",
    "Initialize factor to two\n",
    "While factor is less than or equal to n do\n",
    "If n is evenly divisible by factor then\n",
    "Conclude that factor is a factor of n\n",
    "Divide n by factor using integer division\n",
    "Else\n",
    "Increase factor by one\n",
    "Write a program that reads an integer from the user. If the value entered by the\n",
    "user is less than 2 then your program should display an appropriate error message.\n",
    "Otherwise your program should display the prime numbers that can be multiplied\n",
    "together to compute n, with one factor appearing on each line. For example:"
   ]
  },
  {
   "cell_type": "code",
   "execution_count": null,
   "id": "66db37c6",
   "metadata": {},
   "outputs": [],
   "source": [
    "n=eval(input(\"enter the number:\"))\n",
    "factor=2\n",
    "print(f\"the prime factors of {n} are:\")\n",
    "while factor<=n:\n",
    "    if n%factor==0:\n",
    "        print(f\"{factor}\")\n",
    "        n//=factor\n",
    "    else:\n",
    "        factor+=1\n"
   ]
  },
  {
   "cell_type": "markdown",
   "id": "7efbb3d6",
   "metadata": {},
   "source": [
    "77: Binary to Decimal\n",
    "Write a program that converts a binary (base 2) number to decimal (base 10). Your\n",
    "program should begin by reading the binary number from the user as a string. Then\n",
    "it should compute the equivalent decimal number by processing each digit in the\n",
    "binary number. Finally, your program should display the equivalent decimal number\n",
    "with an appropriate message."
   ]
  },
  {
   "cell_type": "code",
   "execution_count": null,
   "id": "58d6876e",
   "metadata": {},
   "outputs": [],
   "source": [
    "bnry=input(\"enter the binary number:\")\n",
    "dec=0\n",
    "power=len(bnry)-1\n",
    "for i in bnry:\n",
    "    dec+=int(i)*2**power\n",
    "    power-=1\n",
    "print(f\"the decimal equivalent is:{dec}\")"
   ]
  },
  {
   "cell_type": "markdown",
   "id": "e9422927",
   "metadata": {},
   "source": [
    "78: Decimal to Binary\n",
    "Write a program that converts a decimal (base 10) number to binary (base 2). Read the\n",
    "decimal number from the user as an integer and then use the division algorithm shown\n",
    "below to perform the conversion. When the algorithm completes, result contains the\n",
    "binary representation of the number. Display the result, along with an appropriate\n",
    "message.\n",
    "Let result be an empty string\n",
    "Let q represent the number to convert\n",
    "repeat\n",
    "Set r equal to the remainder when q is divided by 2\n",
    "Convert r to a string and add it to the beginning of result\n",
    "Divide q by 2, discarding any remainder, and store the result back into q\n",
    "until q is 0"
   ]
  },
  {
   "cell_type": "code",
   "execution_count": null,
   "id": "2a27ad65",
   "metadata": {},
   "outputs": [],
   "source": [
    "dec=int(input(\"enter the decimal no.:\"))\n",
    "result=[]\n",
    "for i in result:\n",
    "    q%2==r\n",
    "    str(r)\n"
   ]
  },
  {
   "cell_type": "markdown",
   "id": "c4dd9664",
   "metadata": {},
   "source": [
    "81: Compute the Hypotenuse\n",
    "Write a function that takes the lengths of the two shorter sides of a right triangle as\n",
    "its parameters. Return the hypotenuse of the triangle, computed using Pythagorean\n",
    "theorem, as the function’s result. Include a main program that reads the lengths of\n",
    "the shorter sides of a right triangle from the user, uses your function to compute the\n",
    "length of the hypotenuse, and displays the result."
   ]
  },
  {
   "cell_type": "code",
   "execution_count": null,
   "id": "c2423b81",
   "metadata": {},
   "outputs": [],
   "source": [
    "def hyp(s1,s2):\n",
    "    hyp=math.sqrt(s1**2+s2**2)\n",
    "    return hyp\n",
    "import math\n",
    "s1=eval(input(\"enter the 1st side:\"))\n",
    "s2=eval(input(\"enter the 2nd side:\"))\n",
    "hyp=hyp(s1,s2)\n",
    "print(f\"the hypotenuse={hyp}\")"
   ]
  },
  {
   "cell_type": "markdown",
   "id": "4c4b747b",
   "metadata": {},
   "source": [
    "82:Taxi Fare  ***insufficient***\n",
    "In a particular jurisdiction, taxi fares consist of a base fare of $4.00, plus $0.25\n",
    "for every 140 meters traveled. Write a function that takes the distance traveled (in\n",
    "kilometers) as its only parameter and returns the total fare as its only result. Write a\n",
    "main program that demonstrates the function."
   ]
  },
  {
   "cell_type": "code",
   "execution_count": null,
   "id": "f6824e10",
   "metadata": {},
   "outputs": [],
   "source": [
    "def fare(d):\n",
    "    b=4.00\n",
    "    total=b+\n",
    "    "
   ]
  },
  {
   "cell_type": "markdown",
   "id": "ac1cea10",
   "metadata": {},
   "source": [
    "83: Shipping Calculator\n",
    "    An online retailer provides express shipping for many of its items at a rate of $10.95\n",
    "for the rst item, and $2.95 for each subsequent item. Write a function that takes the\n",
    "number of items in the order as its only parameter. Return the shipping charge for\n",
    "the order as the function’s result. Include a main program that reads the number of\n",
    "items purchased from the user and displays the shipping charge."
   ]
  },
  {
   "cell_type": "code",
   "execution_count": null,
   "id": "245ffaf9",
   "metadata": {},
   "outputs": [],
   "source": [
    "def item(n):\n",
    "    if n==1:\n",
    "        total=10.95\n",
    "    else:\n",
    "        total=10.95+(n-1)*2.95\n",
    "    return total\n",
    "n=int(input(\"enter the no. of items:\"))\n",
    "total=item(n)\n",
    "print(f\"the total shipping  charge is:{total}\")\n"
   ]
  },
  {
   "cell_type": "markdown",
   "id": "e4755eb5",
   "metadata": {},
   "source": [
    "84: Median of Three Values\n",
    "Write a function that takes three numbers as parameters, and returns the median value\n",
    "of those parameters as its result. Include a main program that reads three values from\n",
    "the user and displays their median."
   ]
  },
  {
   "cell_type": "code",
   "execution_count": null,
   "id": "3fd78357",
   "metadata": {},
   "outputs": [],
   "source": [
    "def med(a,b,c):\n",
    "    medi=a+b+c-max(a,b,c)-min(a,b,c)\n",
    "    return medi\n",
    "a=eval(input(\"enter the 1st no.:\"))\n",
    "b=eval(input(\"enter the 2nd no.:\"))\n",
    "c=eval(input(\"enter the 3rd no.:\"))\n",
    "medi=med(a,b,c)\n",
    "print(f\"the median of the 3 numbers is {medi}\")"
   ]
  },
  {
   "cell_type": "markdown",
   "id": "20348494",
   "metadata": {},
   "source": [
    "85: Convert an Integer to its Ordinal Number\n",
    "Words like rst, second and third are referred to as ordinal numbers. In this exercise,\n",
    "you will write a function that takes an integer as its only parameter and returns a\n",
    "string containing the appropriate English ordinal number as its only result. Your\n",
    "function must handle the integers between 1 and 12 (inclusive). It should return an\n",
    "empty string if a value outside of this range is provided as a parameter. Include a\n",
    "main program that demonstrates your function by displaying each integer from 1 to\n",
    "12 and its ordinal number. Your main program should only run when your le has\n",
    "not been imported into another program."
   ]
  },
  {
   "cell_type": "code",
   "execution_count": null,
   "id": "e6f7d8f4",
   "metadata": {},
   "outputs": [],
   "source": [
    "def ord(a):\n",
    "    if a<1 or a>12:\n",
    "        return\"\"\n",
    "    elif a==1:\n",
    "        return\"first\"\n",
    "    elif a==2:\n",
    "        return\"second\"\n",
    "    elif a==3:\n",
    "        return\"third\"\n",
    "    elif a==4:\n",
    "        return\"forth\"\n",
    "    elif a==5:\n",
    "        return\"fifth\"\n",
    "    elif a==6:\n",
    "        return\"sixth\"\n",
    "    elif a==7:\n",
    "        return\"seventh\"\n",
    "    elif a==8:\n",
    "        return\"eighth\"\n",
    "    elif a==9:\n",
    "        return\"nineth\"\n",
    "    elif a==10:\n",
    "        return\"tenth\"\n",
    "    elif a==11:\n",
    "        return\"eleventh\"\n",
    "    elif a==12:\n",
    "        return\"twelveth\"\n",
    "###if __name__=='__main__':\n",
    "for i in range(1,13):\n",
    "    print(i,ord(i))\n",
    "\n",
    "\n",
    "    \n",
    "    \n"
   ]
  },
  {
   "cell_type": "markdown",
   "id": "b724b50a",
   "metadata": {},
   "source": [
    "86:The Twelve Days of Christmas\n",
    "The Twelve Days of Christmas is a repetitive song that describes an increasingly\n",
    "long list of gifts sent to one’s true love on each of 12 days. A single gift is sent on\n",
    "the rst day. A new gift is added to the collection on each additional day, and then\n",
    "the complete collection is sent. The rst three verses of the song are shown below.\n",
    "The complete lyrics are available on the internet.\n",
    "On the rst day of Christmas\n",
    "my true love sent to me:\n",
    "A partridge in a pear tree.\n",
    "On the second day of Christmas\n",
    "my true love sent to me:\n",
    "Two turtle doves,\n",
    "And a partridge in a pear tree.\n",
    "On the third day of Christmas\n",
    "my true love sent to me:\n",
    "Three French hens,\n",
    "Two turtle doves,\n",
    "And a partridge in a pear tree.\n",
    "Your task is to write a program that displays the complete lyrics for The Twelve\n",
    "Days of Christmas. Write a function that takes the verse number as its only parameter\n",
    "and displays the specied verse of the song. Then call that function 12 times with\n",
    "integers that increase from 1 to 12.\n",
    "Each item that is sent to the recipient in the song should only appear once in your\n",
    "program, with the possible exception of the partridge. It may appear twice if that\n",
    "helps you handle the difference between “A partridge in a pear tree” in the rst verse\n",
    "and “And a partridge in a pear tree” in the subsequent verses. Import your solution\n",
    "to Exercise 85 to help you complete this exercise."
   ]
  },
  {
   "cell_type": "code",
   "execution_count": null,
   "id": "85b951b5",
   "metadata": {},
   "outputs": [],
   "source": [
    "def ord(a):\n",
    "    if a<1 or a>12:\n",
    "        return\"\"\n",
    "    elif a==1:\n",
    "        return\"On the first day of Christmas, my true love sent to me\\nA partridge in a pear tree\"\n",
    "    elif a==2:\n",
    "        return\"On the second day of Christmas, my true love sent to me\\nTwo turtle doves, and\\nA partridge in a pear tree\"\n",
    "    elif a==3:\n",
    "        return\"On the third day of Christmas, my true love sent to me\\nThree french hens\\nTwo turtle doves, and\\nA partridge in a pear tree\"\n",
    "    elif a==4:\n",
    "        return\"On the fourth day of Christmas, my true love sent to me\\nFour calling birds\\nThree french hens\\nTwo turtle doves, and\\nA partridge in a pear tree\"\n",
    "    elif a==5:\n",
    "        return\"On the fifth day of Christmas, my true love sent to me\\nFive golden rings\\nFour calling birds\\nThree french hens\\nTwo turtle doves, and\\nA partridge in a pear tree\"\n",
    "    elif a==6:\n",
    "        return\"sixth\"\n",
    "    elif a==7:\n",
    "        return\"seventh\"\n",
    "    elif a==8:\n",
    "        return\"eighth\"\n",
    "    elif a==9:\n",
    "        return\"nineth\"\n",
    "    elif a==10:\n",
    "        return\"tenth\"\n",
    "    elif a==11:\n",
    "        return\"eleventh\"\n",
    "    elif a==12:\n",
    "        return\"twelveth\"\n",
    "if __name__=='__main__':\n",
    "    for i in range(1,13):\n",
    "        print(i,ord(i))\n"
   ]
  },
  {
   "cell_type": "markdown",
   "id": "c5869439",
   "metadata": {},
   "source": [
    "20.20: Ideal Gas Law\n",
    "The ideal gas law is a mathematical approximation of the behavior of gasses as\n",
    "pressure, volume and temperature change. It is usually stated as:\n",
    "PV = nRT\n",
    "where P is the pressure in Pascals, V is the volume in liters, n is the amount of\n",
    "substance in moles, R is the ideal gas constant, equal to 8.314 J\n",
    "mol K , and T is the\n",
    "temperature in degrees Kelvin.\n",
    "Write a program that computes the amount of gas in moles when the user supplies\n",
    "the pressure, volume and temperature. Test your program by determining the number\n",
    "of moles of gas in a SCUBA tank. A typical SCUBA tank holds 12 liters of gas at\n",
    "a pressure of 20,000,000 Pascals (approximately 3,000 PSI). Room temperature is\n",
    "approximately 20 degrees Celsius or 68 degrees Fahrenheit."
   ]
  },
  {
   "cell_type": "code",
   "execution_count": null,
   "id": "6b1fbfcd",
   "metadata": {},
   "outputs": [],
   "source": []
  },
  {
   "cell_type": "markdown",
   "id": "613550dc",
   "metadata": {},
   "source": [
    "21:Area of a Triangle\n",
    "The area of a triangle can be computed using the following formula, where b is the\n",
    "length of the base of the triangle, and h is its height:\n",
    "area =\n",
    "b × h\n",
    "2\n",
    "Write a program that allows the user to enter values for b and h. The program\n",
    "should then compute and display the area of a triangle with base length b and height h."
   ]
  },
  {
   "cell_type": "code",
   "execution_count": null,
   "id": "f5d436a5",
   "metadata": {},
   "outputs": [],
   "source": [
    "h=eval(input(\"enter the height of the triangle:\"))\n",
    "b=eval(input(\"enter the base of the triangle:\"))\n",
    "area=b*h/2\n",
    "print(f\"the area of the triangle with {b} base and {h} height is:{area}\")"
   ]
  },
  {
   "cell_type": "markdown",
   "id": "dfdc428c",
   "metadata": {},
   "source": [
    "22:Area of a Triangle (Again)\n",
    "    In the previous exercise you created a program that computed the area of a triangle\n",
    "when the length of its base and its height were known. It is also possible to compute\n",
    "the area of a triangle when the lengths of all three sides are known. Let s1, s2 and s3\n",
    "be the lengths of the sides. Let s = (s1 + s2 + s3)/2. Then the area of the triangle\n",
    "can be calculated using the following formula:\n",
    "area = √s × (s − s1) × (s − s2) × (s − s3)\n",
    "Develop a program that reads the lengths of the sides of a triangle from the user and\n",
    "displays its area."
   ]
  },
  {
   "cell_type": "code",
   "execution_count": null,
   "id": "c0df8fc9",
   "metadata": {},
   "outputs": [],
   "source": [
    "import math\n",
    "s1=eval(input(\"enter first of the triangle:\"))\n",
    "s2=eval(input(\"enter second of the triangle:\"))\n",
    "s3=eval(input(\"enter third of the triangle:\"))\n",
    "s=(s1+s2+s3)/2\n",
    "area=math.sqrt(s*(s-s1)*(s-s2)*(s-s3))\n",
    "print(f\"the area of the triangle is:{area}\")"
   ]
  },
  {
   "cell_type": "markdown",
   "id": "7151ed31",
   "metadata": {},
   "source": [
    "23:Area of a Regular Polygon\n",
    "A polygon is regular if its sides are all the same length and the angles between all of\n",
    "the adjacent sides are equal. The area of a regular polygon can be computed using\n",
    "the following formula, where s is the length of a side and n is the number of sides:\n",
    "area =\n",
    "n × s2\n",
    "4 × tan (π\n",
    "n )\n",
    "Write a program that reads s and n from the user and then displays the area of a\n",
    "regular polygon constructed from these values."
   ]
  },
  {
   "cell_type": "code",
   "execution_count": null,
   "id": "56e32d8b",
   "metadata": {},
   "outputs": [],
   "source": [
    "import math\n",
    "s=eval(input(\"enter the length of a side:\"))\n",
    "n=int(input(\"enter the no. of sides:\"))\n",
    "area=(n*s**2)/(4*math.tan(3.14/n))\n",
    "print(\"the area of the polygon is\",area)"
   ]
  },
  {
   "cell_type": "markdown",
   "id": "9b4c7b92",
   "metadata": {},
   "source": [
    "24: Units of Time\n",
    "Create a program that reads a duration from the user as a number of days, hours,\n",
    "minutes, and seconds. Compute and display the total number of seconds represented\n",
    "by this duration."
   ]
  },
  {
   "cell_type": "code",
   "execution_count": null,
   "id": "6e653bc7",
   "metadata": {},
   "outputs": [],
   "source": [
    "day=eval(input(\"enter the no. of days:\"))\n",
    "hour=eval(input(\"enter the no. of hours:\"))\n",
    "minute=eval(input(\"enter the no. of minutes:\"))\n",
    "second=eval(input(\"enter the no. of seconds:\"))\n",
    "\n",
    "total=day*24*60*60+hour*60*60+minute*60+second\n",
    "print(\"the total no. of seconds:\",total)"
   ]
  },
  {
   "cell_type": "markdown",
   "id": "8a7a25c6",
   "metadata": {},
   "source": [
    "25: Units of Time (Again)\n",
    "In this exercise you will reverse the process described in the previous exercise.\n",
    "Develop a program that begins by reading a number of seconds from the user.\n",
    "Then your program should display the equivalent amount of time in the form\n",
    "D:HH:MM:SS, where D, HH, MM, and SS represent days, hours, minutes and seconds\n",
    "respectively. The hours, minutes and seconds should all be formatted so that\n",
    "they occupy exactly two digits, with a leading 0 displayed if necessary."
   ]
  },
  {
   "cell_type": "code",
   "execution_count": null,
   "id": "d2ddbd29",
   "metadata": {},
   "outputs": [],
   "source": [
    "total=eval(input(\"enter the total no. of seconds:\"))\n",
    "day=total//86400\n",
    "hour=(total-day*86400)//3600\n",
    "minute=(total-day*86400-hour*3600)//60\n",
    "second=(total-day*86400-hour*3600-minute*60)\n",
    "print(f\"{day}:{hour}:{minute}:{second}\")"
   ]
  },
  {
   "cell_type": "markdown",
   "id": "91fbee24",
   "metadata": {},
   "source": [
    "26: Current Time\n",
    "Python includes a library of functions for working with time, including a function\n",
    "called asctime in the time module. It reads the current time from the computer’s\n",
    "internal clock and returns it in a human-readable format. Write a program\n",
    "that displays the current time and date. Your program will not require any input from\n",
    "the user."
   ]
  },
  {
   "cell_type": "code",
   "execution_count": null,
   "id": "7221cdc6",
   "metadata": {},
   "outputs": [],
   "source": [
    "import time\n",
    "cur=time.asctime()\n",
    "print(\"the time:\",cur)"
   ]
  },
  {
   "cell_type": "markdown",
   "id": "aac6a8de",
   "metadata": {},
   "source": [
    "27: Body Mass Index\n",
    "Write a program that computes the body mass index (BMI) of an individual. Your\n",
    "program should begin by reading a height and weight from the user. Then it should use one of the following two formulas to compute the BMI before displaying it. If\n",
    "you read the height in inches and the weight in pounds then body mass index is\n",
    "computed using the following formula:\n",
    "BMI =\n",
    "weight\n",
    "height × height\n",
    "× 703.\n",
    "If you read the height in meters and the weight in kilograms then body mass index\n",
    "is computed using this slightly simpler formula:\n",
    "BMI =\n",
    "weight\n",
    "height × height"
   ]
  },
  {
   "cell_type": "code",
   "execution_count": null,
   "id": "6a400840",
   "metadata": {},
   "outputs": [],
   "source": [
    "height=eval(input(\"enter your height(in inches):\"))\n",
    "weight=eval(input(\"enter your weight(in pounds):\"))\n",
    "bmi=weight*703/(height*weight)\n",
    "print(\"your BMI is:\",bmi)\n",
    "\n",
    "\n"
   ]
  },
  {
   "cell_type": "markdown",
   "id": "f6a57bd3",
   "metadata": {},
   "source": [
    "65: Compute the Perimeter of a Polygon\n",
    "Write a program that computes the perimeter of a polygon. Begin by reading the x\n",
    "and y values for the rst point on the perimeter of the polygon from the user. Then\n",
    "continue reading pairs of x and y values until the user enters a blank line for the x-coordinate. Each time you read an additional coordinate you should compute the\n",
    "distance to the previous point and add it to the perimeter. When a blank line is entered\n",
    "for the x-coordinate your program should add the distance from the last point back\n",
    "to the rst point to the perimeter. Then it should display the total perimeter. Sample\n",
    "input and output is shown below, with user input shown in bold:\n",
    "Enter the x part of the coordinate: 0\n",
    "Enter the y part of the coordinate: 0\n",
    "Enter the x part of the coordinate: (blank to quit): 1\n",
    "Enter the y part of the coordinate: 0\n",
    "Enter the x part of the coordinate: (blank to quit): 0\n",
    "Enter the y part of the coordinate: 1\n",
    "Enter the x part of the coordinate: (blank to quit):\n",
    "The perimeter of that polygon is 3.414213562373095"
   ]
  },
  {
   "cell_type": "code",
   "execution_count": null,
   "id": "6d495192",
   "metadata": {},
   "outputs": [],
   "source": [
    "def peri(list_x,list_y):\n",
    "    for ele in range(num_of_coor):\n",
    "        x1=list_x[0]\n",
    "        y1=list_y[0]\n",
    "        x2=list_x[1]\n",
    "        y2=list_y[1]\n",
    "        distance=math.sqrt((x2-x1)**2+(y2-y1)**2)\n",
    "        dist.append(distance)\n",
    "        last_ele_x=list_x.pop(0)\n",
    "        last_ele_y=list_y.pop(0)\n",
    "        list_x.append(last_ele_x)\n",
    "        list_y.append(last_ele_y)\n",
    "    return sum(dist)\n",
    "    \n",
    "import math\n",
    "num_of_coor=int(input(\"enter the o. of coordinates\"))\n",
    "list_x=[]\n",
    "list_y=[]\n",
    "dist=[]\n",
    "for i in range(0,num_of_coor):\n",
    "    x=eval(input(\"enter the x-coordinate\"))\n",
    "    y=eval(input(\"enter the y-coordinate\"))\n",
    "    list_x.append(x)\n",
    "    list_y.append(y)\n",
    "peri(list_x,list_y)\n"
   ]
  },
  {
   "cell_type": "markdown",
   "id": "da508d9e",
   "metadata": {},
   "source": [
    "66: Compute a Grade Point Average\n",
    "    Exercise 51 included a table that shows the conversion from letter grades to grade\n",
    "points at a particular academic institution. In this exercise you will compute the\n",
    "grade point average of an arbitrary number of letter grades entered by the user. The\n",
    "user will enter a blank line to indicate that all of the grades have been provided. For\n",
    "example, if the user enters A, followed by C+, followed by B, followed by a blank\n",
    "line then your program should report a grade point average of 3.1.\n",
    "You may nd your solution to Exercise 51 helpful when completing this exercise.\n",
    "Your program does not need to do any error checking. It can assume that each value\n",
    "entered by the user will always be a valid letter grade or a blank line.\n"
   ]
  },
  {
   "cell_type": "code",
   "execution_count": null,
   "id": "dbb4a48f",
   "metadata": {},
   "outputs": [],
   "source": [
    "dict1={\"A+\":4.0,\n",
    "      \"A\":4.0,\n",
    "      \"A-\":3.7,\n",
    "      \"B+\":3.3,\n",
    "      \"B\":3.0,\n",
    "      \"B-\":2.7,\n",
    "      \"C+\":2.3}\n"
   ]
  },
  {
   "cell_type": "code",
   "execution_count": null,
   "id": "de9b8f0b",
   "metadata": {},
   "outputs": [],
   "source": [
    "def grade(list_str):\n",
    "    for ele in range(len(list_str)):\n",
    "        x1=list_str[ele]\n",
    "        print(x1)\n",
    "        mark=dict1[x1]\n",
    "        marks.append(mark)\n",
    "        \n",
    "    return sum(marks)/len(list_str)\n",
    "\n",
    "\n",
    "list_str =[]\n",
    "marks=[]\n",
    "while True:\n",
    "    price_str = input(\"enter the grade (blank to quit): \")\n",
    "    if price_str == \"\":\n",
    "        break\n",
    "    else:\n",
    "        list_str.append(price_str)\n",
    "grade(list_str)"
   ]
  },
  {
   "cell_type": "markdown",
   "id": "0a7b9149",
   "metadata": {},
   "source": [
    "28:Wind Chill\n",
    "When the wind blows in cold weather, the air feels even colder than it actually is\n",
    "because the movement of the air increases the rate of cooling for warm objects, like\n",
    "people. This effect is known as wind chill.\n",
    "In 2001, Canada, the United Kingdom and the United States adopted the following\n",
    "formula for computing the wind chill index. Within the formula Ta is the\n",
    "air temperature in degrees Celsius and V is the wind speed in kilometers per hour.\n",
    "A similar formula with different constant values can be used with temperatures in\n",
    "degrees Fahrenheit and wind speeds in miles per hour.\n",
    "WCI = 13.12 + 0.6215Ta − 11.37V0.16 + 0.3965TaV0.16\n",
    "Write a program that begins by reading the air temperature and wind speed from the\n",
    "user. Once these values have been read your program should display the wind chill\n",
    "index rounded to the closest integer."
   ]
  },
  {
   "cell_type": "code",
   "execution_count": null,
   "id": "323c0876",
   "metadata": {},
   "outputs": [],
   "source": [
    "ta=eval(input(\"enter the temperature of air:\"))\n",
    "v=eval(input(\"enter the wind speed:\"))\n",
    "wcl=13.12+0.6215*ta-11.37*v**0.16+0.3965*ta*v**0.16\n",
    "print(\"the wind chill index is:\",int(wcl))"
   ]
  },
  {
   "cell_type": "markdown",
   "id": "91c570c2",
   "metadata": {},
   "source": [
    "31:Sum of the Digits in an Integer\n",
    "Develop a program that reads a four-digit integer from the user and displays the sum\n",
    "of the digits in the number. For example, if the user enters 3141 then your program\n",
    "should display 3+1+4+1=9."
   ]
  },
  {
   "cell_type": "code",
   "execution_count": null,
   "id": "6371dda6",
   "metadata": {},
   "outputs": [],
   "source": [
    "n=input(\"enter the 4 digit no.:\")\n",
    "total=0\n",
    "for i in n:\n",
    "    total+=int(i)\n",
    "print(\"the sum of digits is:\",total)"
   ]
  },
  {
   "cell_type": "markdown",
   "id": "60521605",
   "metadata": {},
   "source": [
    "87: Center a String in the Terminal\n",
    "Write a function that takes a string of characters as its rst parameter, and the width of\n",
    "the terminal in characters as its second parameter. Your function should return a new\n",
    "string that consists of the original string and the correct number of leading spaces\n",
    "so that the original string will appear centered within the provided width when it is\n",
    "printed. Do not add any characters to the end of the string. Include a main program\n",
    "that demonstrates your function."
   ]
  },
  {
   "cell_type": "code",
   "execution_count": null,
   "id": "30185f93",
   "metadata": {},
   "outputs": [],
   "source": [
    "def center(word,width):\n",
    "    if len(word)>=int(width):\n",
    "        return word\n",
    "    space=int(width)-len(word)\n",
    "    left_space=space//2\n",
    "    right_space=space-left_space\n",
    "    return \"\"*left_space+word+\"\"*right_space\n",
    "\n",
    "word=input(\"enter the word:\")\n",
    "width=input(\"enter the width:\")\n",
    "centered=center(word,width)\n",
    "print(centered)\n",
    "           "
   ]
  },
  {
   "cell_type": "markdown",
   "id": "a896b9dd",
   "metadata": {},
   "source": [
    "88: Is it a Valid Triangle?\n",
    "If you have 3 straws, possibly of differing lengths, it may or may not be possible\n",
    "to lay them down so that they form a triangle when their ends are touching. For\n",
    "example, if all of the straws have a length of 6 inches. then one can easily construct\n",
    "an equilateral triangle using them. However, if one straw is 6 inches. long, while the\n",
    "other two are each only 2 inches. long, then a triangle cannot be formed. In general,\n",
    "if any one length is greater than or equal to the sum of the other two then the lengths\n",
    "cannot be used to form a triangle. Otherwise they can form a triangle.\n",
    "Write a function that determines whether or not three lengths can form a triangle.\n",
    "The function will take 3 parameters and return a Boolean result. In addition, write a\n",
    "program that reads 3 lengths from the user and demonstrates the behaviour of this\n",
    "function."
   ]
  },
  {
   "cell_type": "code",
   "execution_count": null,
   "id": "286bbacb",
   "metadata": {},
   "outputs": [],
   "source": [
    "def triangle(a,b,c):\n",
    "    if a+b<c or a+c<b or b+c<a:\n",
    "        return \"cannot form a triangle\"\n",
    "    else:\n",
    "        return \"a traingle can be formed\"\n",
    "a=int(input(\"enter the length of 1st side:\"))\n",
    "b=int(input(\"enter the length of 2nd side:\"))\n",
    "c=int(input(\"enter the length of 3rd side:\"))\n",
    "tri=triangle(a,b,c)\n",
    "print(tri)"
   ]
  },
  {
   "cell_type": "markdown",
   "id": "dc7d36d2",
   "metadata": {},
   "source": [
    "89: Capitalize It\n",
    "Many people do not use capital letters correctly, especially when typing on small\n",
    "devices like smart phones. In this exercise, you will write a function that capitalizes\n",
    "the appropriate characters in a string. A lowercase “i” should be replaced with an\n",
    "uppercase “I” if it is both preceded and followed by a space. The rst character in\n",
    "the string should also be capitalized, as well as the rst non-space character after a\n",
    "“.”, “!” or “?”. For example, if the function is provided with the string “what time\n",
    "do i have to be there? what’s the address?” then it should return the string “What\n",
    "time do I have to be there? What’s the address?”. Include a main program that reads\n",
    "a string from the user, capitalizes it using your function, and displays the result."
   ]
  },
  {
   "cell_type": "code",
   "execution_count": null,
   "id": "4ef8c239",
   "metadata": {},
   "outputs": [],
   "source": []
  },
  {
   "cell_type": "markdown",
   "id": "91b4fd5e",
   "metadata": {},
   "source": [
    "104: Sorted Order\n",
    "Write a program that reads integers from the user and stores them in a list. Your\n",
    "program should continue reading values until the user enters 0. Then it should display\n",
    "all of the values entered by the user (except for the 0) in order from smallest to largest,\n",
    "with one value appearing on each line. Use either the sort method or the sorted\n",
    "function to sort the list."
   ]
  },
  {
   "cell_type": "code",
   "execution_count": null,
   "id": "7a934d3e",
   "metadata": {},
   "outputs": [],
   "source": [
    "number=[]\n",
    "while True:\n",
    "    n=int(input(\"enter the no.:\"))\n",
    "    if n==0:\n",
    "        break\n",
    "    else:\n",
    "        number.append(n)\n",
    "number.sort()\n",
    "for i in number:\n",
    "    print(i)\n",
    "\n"
   ]
  },
  {
   "cell_type": "markdown",
   "id": "12e9a1da",
   "metadata": {},
   "source": [
    "105: Reverse Order\n",
    "Write a program that reads integers from the user and stores them in a list. Use 0 as\n",
    "a sentinel value to mark the end of the input. Once all of the values have been read\n",
    "your program should display them (except for the 0) in reverse order, with one value\n",
    "appearing on each line."
   ]
  },
  {
   "cell_type": "code",
   "execution_count": null,
   "id": "5592082c",
   "metadata": {},
   "outputs": [],
   "source": [
    "number=[]\n",
    "while True:\n",
    "    n=int(input(\"enter the no.:\"))\n",
    "    if n==0:\n",
    "        break\n",
    "    else:\n",
    "        number.append(n)\n",
    "number.sort(reverse=True)\n",
    "for i in number:\n",
    "    print(i)\n"
   ]
  },
  {
   "cell_type": "markdown",
   "id": "9845765a",
   "metadata": {},
   "source": [
    "106:Remove Outliers\n",
    "When analysing data collected as part of a science experiment it may be desirable\n",
    "to remove the most extreme values before performing other calculations. Write a\n",
    "function that takes a list of values and an non-negative integer, n, as its parameters.\n",
    "The function should create a new copy of the list with the n largest elements and the\n",
    "n smallest elements removed. Then it should return the new copy of the list as the\n",
    "function’s only result. The order of the elements in the returned list does not have to\n",
    "match the order of the elements in the original list.\n",
    "Write a main program that demonstrates your function. Your function should read\n",
    "a list of numbers from the user and remove the two largest and two smallest values\n",
    "from it. Display the list with the outliers removed, followed by the original list. Your\n",
    "program should generate an appropriate error message if the user enters less than 4\n",
    "values."
   ]
  },
  {
   "cell_type": "code",
   "execution_count": null,
   "id": "63097a09",
   "metadata": {},
   "outputs": [],
   "source": []
  },
  {
   "cell_type": "markdown",
   "id": "f797b053",
   "metadata": {},
   "source": [
    "107:Avoiding Duplicates\n",
    "In this exercise, you will create a program that reads words from the user until the\n",
    "user enters a blank line. After the user enters a blank line your program should display\n",
    "each word entered by the user exactly once. The words should be displayed in\n",
    "the same order that they were entered. For example, if the user enters:\n",
    "first\n",
    "second\n",
    "first\n",
    "third\n",
    "second\n",
    "then your program should display:\n",
    "first\n",
    "second\n",
    "third"
   ]
  },
  {
   "cell_type": "code",
   "execution_count": null,
   "id": "d66a92ec",
   "metadata": {},
   "outputs": [],
   "source": [
    "def order():\n",
    "    word=[]\n",
    "    while True:\n",
    "        w=input(\"enter the word:\")\n",
    "        if w==\"\":\n",
    "            break\n",
    "        if w not in word:\n",
    "            word.append(w)\n",
    "    return word\n",
    "uniq=order()    \n",
    "for i in uniq:\n",
    "    print(i)"
   ]
  },
  {
   "cell_type": "markdown",
   "id": "cb3a0d04",
   "metadata": {},
   "source": [
    "108: Negatives,Zeros and Positives\n",
    "Create a program that reads integers from the user until a blank line is entered. Once\n",
    "all of the integers have been read your program should display all of the negative\n",
    "numbers, followed by all of the zeros, followed by all of the positive numbers.Within\n",
    "each group the numbers should be displayed in the same order that they were entered by the user. For example, if the user enters the values 3, -4, 1, 0, -1, 0, and -2 then\n",
    "your program should output the values -4, -1, -2, 0, 0, 3, and 1. Your program\n",
    "should display each value on its own line."
   ]
  },
  {
   "cell_type": "code",
   "execution_count": 2,
   "id": "7f05372c",
   "metadata": {},
   "outputs": [
    {
     "name": "stdout",
     "output_type": "stream",
     "text": [
      "enter the no.:-3\n",
      "enter the no.:4\n",
      "enter the no.:0\n",
      "enter the no.:5\n",
      "enter the no.:-6\n",
      "enter the no.:7\n",
      "enter the no.:0\n",
      "enter the no.:\n",
      "-3\n",
      "-6\n",
      "0\n",
      "0\n",
      "4\n",
      "5\n",
      "7\n"
     ]
    }
   ],
   "source": [
    "negative=[]\n",
    "zero=[]\n",
    "positive=[]\n",
    "while True:\n",
    "    number=input(\"enter the no.:\")\n",
    "    if number==\"\":\n",
    "        break\n",
    "    n=int(number)\n",
    "    if n<0:\n",
    "        negative.append(n)\n",
    "    if n==0:\n",
    "        zero.append(n)\n",
    "    if n>0:\n",
    "        positive.append(n)\n",
    "for i in negative:\n",
    "    print(i)\n",
    "for i in zero:\n",
    "    print(i)\n",
    "for i in positive:\n",
    "    print(i)\n",
    "        "
   ]
  },
  {
   "cell_type": "code",
   "execution_count": null,
   "id": "801078a6",
   "metadata": {},
   "outputs": [],
   "source": []
  },
  {
   "cell_type": "code",
   "execution_count": null,
   "id": "c44ba4b2",
   "metadata": {},
   "outputs": [],
   "source": []
  },
  {
   "cell_type": "code",
   "execution_count": null,
   "id": "b43c01ee",
   "metadata": {},
   "outputs": [],
   "source": []
  },
  {
   "cell_type": "code",
   "execution_count": null,
   "id": "4f27f599",
   "metadata": {},
   "outputs": [],
   "source": []
  },
  {
   "cell_type": "code",
   "execution_count": null,
   "id": "20c6ee03",
   "metadata": {},
   "outputs": [],
   "source": []
  },
  {
   "cell_type": "code",
   "execution_count": null,
   "id": "120e2743",
   "metadata": {},
   "outputs": [],
   "source": []
  },
  {
   "cell_type": "code",
   "execution_count": null,
   "id": "8bffed00",
   "metadata": {},
   "outputs": [],
   "source": []
  },
  {
   "cell_type": "code",
   "execution_count": null,
   "id": "c2503a35",
   "metadata": {},
   "outputs": [],
   "source": []
  },
  {
   "cell_type": "code",
   "execution_count": null,
   "id": "2abe1427",
   "metadata": {},
   "outputs": [],
   "source": []
  },
  {
   "cell_type": "code",
   "execution_count": null,
   "id": "b6bdf591",
   "metadata": {},
   "outputs": [],
   "source": []
  },
  {
   "cell_type": "code",
   "execution_count": null,
   "id": "4cfa91ad",
   "metadata": {},
   "outputs": [],
   "source": []
  },
  {
   "cell_type": "code",
   "execution_count": null,
   "id": "3ea84841",
   "metadata": {},
   "outputs": [],
   "source": []
  },
  {
   "cell_type": "code",
   "execution_count": null,
   "id": "e017e88e",
   "metadata": {},
   "outputs": [],
   "source": []
  },
  {
   "cell_type": "code",
   "execution_count": null,
   "id": "871e2cc3",
   "metadata": {},
   "outputs": [],
   "source": []
  },
  {
   "cell_type": "code",
   "execution_count": null,
   "id": "bd29ee76",
   "metadata": {},
   "outputs": [],
   "source": []
  },
  {
   "cell_type": "code",
   "execution_count": null,
   "id": "e4a58722",
   "metadata": {},
   "outputs": [],
   "source": []
  },
  {
   "cell_type": "code",
   "execution_count": null,
   "id": "91227e00",
   "metadata": {},
   "outputs": [],
   "source": []
  },
  {
   "cell_type": "code",
   "execution_count": null,
   "id": "6291f9a3",
   "metadata": {},
   "outputs": [],
   "source": []
  },
  {
   "cell_type": "code",
   "execution_count": null,
   "id": "cf9d3888",
   "metadata": {},
   "outputs": [],
   "source": []
  },
  {
   "cell_type": "code",
   "execution_count": null,
   "id": "7d852349",
   "metadata": {},
   "outputs": [],
   "source": []
  },
  {
   "cell_type": "code",
   "execution_count": null,
   "id": "92391cbc",
   "metadata": {},
   "outputs": [],
   "source": []
  },
  {
   "cell_type": "code",
   "execution_count": null,
   "id": "c3d84827",
   "metadata": {},
   "outputs": [],
   "source": []
  },
  {
   "cell_type": "code",
   "execution_count": null,
   "id": "18b5310c",
   "metadata": {},
   "outputs": [],
   "source": []
  },
  {
   "cell_type": "code",
   "execution_count": null,
   "id": "0bb74d8c",
   "metadata": {},
   "outputs": [],
   "source": []
  },
  {
   "cell_type": "code",
   "execution_count": null,
   "id": "fcd4a818",
   "metadata": {},
   "outputs": [],
   "source": []
  },
  {
   "cell_type": "code",
   "execution_count": null,
   "id": "a2c9fde4",
   "metadata": {},
   "outputs": [],
   "source": []
  },
  {
   "cell_type": "code",
   "execution_count": null,
   "id": "a3caad1e",
   "metadata": {},
   "outputs": [],
   "source": []
  },
  {
   "cell_type": "code",
   "execution_count": null,
   "id": "397b3c50",
   "metadata": {},
   "outputs": [],
   "source": []
  },
  {
   "cell_type": "code",
   "execution_count": null,
   "id": "da625dfa",
   "metadata": {},
   "outputs": [],
   "source": []
  },
  {
   "cell_type": "code",
   "execution_count": null,
   "id": "114af6a9",
   "metadata": {},
   "outputs": [],
   "source": []
  },
  {
   "cell_type": "code",
   "execution_count": null,
   "id": "75c7dc8d",
   "metadata": {},
   "outputs": [],
   "source": []
  },
  {
   "cell_type": "code",
   "execution_count": null,
   "id": "9ce38708",
   "metadata": {},
   "outputs": [],
   "source": []
  },
  {
   "cell_type": "code",
   "execution_count": null,
   "id": "aada7fd1",
   "metadata": {},
   "outputs": [],
   "source": []
  },
  {
   "cell_type": "code",
   "execution_count": null,
   "id": "cf9677b6",
   "metadata": {},
   "outputs": [],
   "source": []
  }
 ],
 "metadata": {
  "kernelspec": {
   "display_name": "Python 3 (ipykernel)",
   "language": "python",
   "name": "python3"
  },
  "language_info": {
   "codemirror_mode": {
    "name": "ipython",
    "version": 3
   },
   "file_extension": ".py",
   "mimetype": "text/x-python",
   "name": "python",
   "nbconvert_exporter": "python",
   "pygments_lexer": "ipython3",
   "version": "3.9.13"
  }
 },
 "nbformat": 4,
 "nbformat_minor": 5
}
