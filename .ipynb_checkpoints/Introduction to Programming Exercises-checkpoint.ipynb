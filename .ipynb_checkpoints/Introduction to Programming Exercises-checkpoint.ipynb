{
 "cells": [
  {
   "cell_type": "markdown",
   "id": "fb461670",
   "metadata": {},
   "source": [
    "1.Mailing Address\n",
    "Create a program that displays your name and complete mailing address formatted in the manner that you would usually see it on the outside of an envolope. Your program does not need to read any input from the user.\n"
   ]
  },
  {
   "cell_type": "code",
   "execution_count": 2,
   "id": "4e14ded7",
   "metadata": {},
   "outputs": [
    {
     "name": "stdout",
     "output_type": "stream",
     "text": [
      "Vishnuvardhan S.\n",
      "29, Sharmila Avenue,\n",
      "Vibeeshnapuram,\n",
      "Chidambaram\n"
     ]
    }
   ],
   "source": [
    "print(\"Vishnuvardhan S.\")\n",
    "print(\"29, Sharmila Avenue,\")\n",
    "print(\"Vibeeshnapuram,\")\n",
    "print(\"Chidambaram\")"
   ]
  },
  {
   "cell_type": "code",
   "execution_count": 3,
   "id": "2f99e2ea",
   "metadata": {},
   "outputs": [
    {
     "name": "stdout",
     "output_type": "stream",
     "text": [
      "Enter your name:vishnu\n",
      "vishnu\n"
     ]
    }
   ],
   "source": [
    "name=input(\"Enter your name:\")\n",
    "print(name)"
   ]
  },
  {
   "cell_type": "markdown",
   "id": "890b12a7",
   "metadata": {},
   "source": [
    "2.Hello\n",
    "Write a program that asks the user to enter his or her name. The program should respond with a message that says hello to the user, usind his or her name."
   ]
  },
  {
   "cell_type": "code",
   "execution_count": 4,
   "id": "99aa73ad",
   "metadata": {},
   "outputs": [
    {
     "name": "stdout",
     "output_type": "stream",
     "text": [
      "Enter your name:Vishnu\n",
      "hello Vishnu\n"
     ]
    }
   ],
   "source": [
    "name=input(\"Enter your name:\")\n",
    "print(\"hello\",name)"
   ]
  },
  {
   "cell_type": "markdown",
   "id": "6538703c",
   "metadata": {},
   "source": [
    "3.Area of a room:\n",
    "Write a program that asks the user to enter the width and length oa a room. once the values have been read, your program should compute and display the area of the room. the length and th width will be entered as floating point nnumbers. Include units in your prompt and output message;either feet or meters, depending on which unit you are more comfortable working with."
   ]
  },
  {
   "cell_type": "code",
   "execution_count": 12,
   "id": "6d262bad",
   "metadata": {},
   "outputs": [
    {
     "name": "stdout",
     "output_type": "stream",
     "text": [
      "Enter the length of the room:20.5\n",
      "Enter the breadth of the room:33.5\n",
      "686.75 meters\n"
     ]
    }
   ],
   "source": [
    "length=float(input(\"Enter the length of the room:\"))\n",
    "breadth=float(input(\"Enter the breadth of the room:\"))\n",
    "area=length*breadth\n",
    "print(area,\"meters\")"
   ]
  },
  {
   "cell_type": "markdown",
   "id": "c5e7102e",
   "metadata": {},
   "source": [
    "4.Area of a Field:\n",
    "Create a program that reads the length and width of a farmer's field from the user in feet. Display the area of the field in acres."
   ]
  },
  {
   "cell_type": "code",
   "execution_count": 24,
   "id": "4b4a3f0f",
   "metadata": {},
   "outputs": [
    {
     "name": "stdout",
     "output_type": "stream",
     "text": [
      "enter the length of the field in feet:10000\n",
      "enter the width of the field in feet:5000\n",
      "1147.84 acres\n"
     ]
    }
   ],
   "source": [
    "length=float(input(\"enter the length of the field in feet:\"))\n",
    "width=float(input(\"enter the width of the field in feet:\"))\n",
    "area=(length*width)/43560\n",
    "print(area,\"acres\")"
   ]
  },
  {
   "cell_type": "markdown",
   "id": "eace8d6d",
   "metadata": {},
   "source": [
    "5.Bottle Deposits:\n",
    "In many jurisdictions a small deposit is added to drink containers to encourage people to recycle them. In one particular jurisdiction, drink containers holding one liter or less have a $0.10 deposit, and drink containers holding more than one liter have a $0.25 deposit. Write a program that reads the number of containers of each size from the user. Your program should continue by computing and displaying the refund that will be recieved for returning those containers. Format the output so that it includes a dollar sign and always displays tro dedcimal places"
   ]
  },
  {
   "cell_type": "code",
   "execution_count": 25,
   "id": "488683af",
   "metadata": {},
   "outputs": [
    {
     "name": "stdout",
     "output_type": "stream",
     "text": [
      "enter the no. of one liter containers:20\n",
      "enter the no. of containers holding more than 1 liter:33\n",
      "the total refund amount:$ 10.25\n"
     ]
    }
   ],
   "source": [
    "one_liter=float(input(\"enter the no. of one liter containers:\"))\n",
    "more_liter=float(input(\"enter the no. of containers holding more than 1 liter:\"))\n",
    "one_dep=one_liter*0.10\n",
    "more_dep=more_liter*0.25\n",
    "total=one_dep+more_dep\n",
    "print(\"the total refund amount:$\",round(total,2))"
   ]
  },
  {
   "cell_type": "markdown",
   "id": "67d394a6",
   "metadata": {},
   "source": [
    "6.Tax and tip:\n",
    "The program that you create for this exercise will begin by reading the cost of a meal ordered at a restaurant from the user. Then your program will compute the tax and tip for the meal. Use your local tax rate when computing the amount of tax owing. Compute the tip as 18 percent of the meal amount(without the tax). The output from your program should include tax amount, the tip amount, and the grand total for the meal including both the tax and the tip. Format the input so that all of the values are displayed using two decimal places."
   ]
  },
  {
   "cell_type": "code",
   "execution_count": 29,
   "id": "31988afb",
   "metadata": {},
   "outputs": [
    {
     "name": "stdout",
     "output_type": "stream",
     "text": [
      "enter the cost of the meal:1234.5678\n",
      "the tax amount: 61.73 \n",
      " the tip amount: 222.22 \n",
      " the total amount: 1518.52\n"
     ]
    }
   ],
   "source": [
    "rate=float(input(\"enter the cost of the meal:\"))\n",
    "tax=5*rate/100\n",
    "tip=18*rate/100\n",
    "total=rate+tax+tip\n",
    "print(\"the tax amount:\",round(tax,2),\"\\n the tip amount:\",round(tip,2),\"\\n the total amount:\",round(total,2))"
   ]
  },
  {
   "cell_type": "markdown",
   "id": "43b64e0e",
   "metadata": {},
   "source": [
    "7.Sum of the first n positive integers:\n",
    "Write a program that reads a positive integer, n, from the user and then displays the sum of all the integers from 1 to n. The sum of the first n positive integers can be computed using the formula:\n",
    "sum=(n)(n+1)/2"
   ]
  },
  {
   "cell_type": "markdown",
   "id": "ba5c855e",
   "metadata": {},
   "source": []
  },
  {
   "cell_type": "code",
   "execution_count": 35,
   "id": "70cbc3fa",
   "metadata": {},
   "outputs": [
    {
     "name": "stdout",
     "output_type": "stream",
     "text": [
      "enter the no. of integers for which the sum must be computed:5\n",
      "the sum of the integers: 15.0\n"
     ]
    }
   ],
   "source": [
    "n=float(input(\"enter the no. of integers for which the sum must be computed:\"))\n",
    "sum=(n)*(n+1)/2\n",
    "print(\"the sum of the integers:\",sum)"
   ]
  },
  {
   "cell_type": "markdown",
   "id": "7196d146",
   "metadata": {},
   "source": [
    "8.Widgets and gizmos:\n",
    "    an onlineretailer sells two products:  widgets and gizmos. Each widget weighs 75 grams. Each gizmos weighs 112 grams. Write a program that reads the no. of widgets and the number of gizmos in order from the user. Then your program should compute and display the total weight of the order."
   ]
  },
  {
   "cell_type": "code",
   "execution_count": 1,
   "id": "b79d4aea",
   "metadata": {},
   "outputs": [
    {
     "name": "stdout",
     "output_type": "stream",
     "text": [
      "enter the no. of widgets:2\n",
      "enter the no. of gizmos5\n",
      "the total weight of the order= 710.0\n"
     ]
    }
   ],
   "source": [
    "widget=float(input(\"enter the no. of widgets:\"))\n",
    "gizmos=float(input(\"enter the no. of gizmos\"))\n",
    "w1=widget*75\n",
    "w2=gizmos*112\n",
    "total=w1+w2\n",
    "print(\"the total weight of the order=\",total)"
   ]
  },
  {
   "cell_type": "markdown",
   "id": "073aa573",
   "metadata": {},
   "source": [
    "9.Compound interest:\n",
    "    pretend that you have just opened a new savings account that earns 4 percent interest per year. The interest that you earn is paid at the end of the year, and is added to the balance of the savings account. Write a program that begins by reading the amount of money deposited into the account from the user. Then your program should compute and display the amount in the savings account after 1,2 and 3 years. Display each amount so that it is rounded to 2 decimal places"
   ]
  },
  {
   "cell_type": "code",
   "execution_count": null,
   "id": "f74a2490",
   "metadata": {},
   "outputs": [],
   "source": []
  },
  {
   "cell_type": "markdown",
   "id": "21a2a269",
   "metadata": {},
   "source": [
    "10.Arithmetic: Create a program that reads two integers, a and b, from the user. Your program should compute and display:\n",
    "i.The sum of a and b\n",
    "ii.The difference when b is subtracted from a\n",
    "iii.The product of a and b\n",
    "iv. The quotient when a is divided by b\n",
    "v.The remainder when a is divided by b\n",
    "vi.The result of log10a\n",
    "vii.the result of a^b"
   ]
  },
  {
   "cell_type": "code",
   "execution_count": 5,
   "id": "cf7bcee1",
   "metadata": {},
   "outputs": [
    {
     "name": "stdout",
     "output_type": "stream",
     "text": [
      "enter that 1st integer, a:10\n",
      "enter that 2nd integer, b:5\n",
      "the sum is: 15.0 \n",
      "the difference is: 5.0 \n",
      "the product is: 50.0 \n",
      "the quotient: 2.0 \n",
      "the remainder: 0.0 \n",
      "log10(a): 1.0 \n",
      "a^b: 100000.0\n"
     ]
    }
   ],
   "source": [
    "import math\n",
    "a=float(input(\"enter that 1st integer, a:\"))\n",
    "b=float(input(\"enter that 2nd integer, b:\"))\n",
    "c=a+b\n",
    "d=a-b\n",
    "e=a*b\n",
    "f=a/b\n",
    "g=a%b\n",
    "h=math.log10(a)\n",
    "i=a**b\n",
    "print(\"the sum is:\",c,\"\\nthe difference is:\",d,\"\\nthe product is:\",e,\"\\nthe quotient:\",f,\"\\nthe remainder:\",g,\"\\nlog10(a):\",h,\"\\na^b:\",i)"
   ]
  },
  {
   "cell_type": "markdown",
   "id": "246b3938",
   "metadata": {},
   "source": [
    "11.Fuel Efficiency:\n",
    "In the US, fuel efficiency for vehicles is normally expressed in miles per gallon(MPG). In Canada, fuel efficiency is expressed in liters per hundred kilometers(L/100km). Use your research skills to determine how to convert from MPG to L/100km. Then create a program thatt reads a value from the user in american units and displays the equivalent fuel efficiency in canadian units.\n",
    "1MPG=235.215L/100km"
   ]
  },
  {
   "cell_type": "code",
   "execution_count": 6,
   "id": "2450363c",
   "metadata": {},
   "outputs": [
    {
     "name": "stdout",
     "output_type": "stream",
     "text": [
      "enter the efficiency in MPG:50\n",
      "the efficiency in canadian unit: 11760.75 L/100km\n"
     ]
    }
   ],
   "source": [
    "us=float(input(\"enter the efficiency in MPG:\"))\n",
    "can=us*235.215\n",
    "print(\"the efficiency in canadian unit:\",can,\"L/100km\")"
   ]
  },
  {
   "cell_type": "markdown",
   "id": "87bf4b40",
   "metadata": {},
   "source": [
    "12.Distance between two points on earth:"
   ]
  },
  {
   "cell_type": "code",
   "execution_count": null,
   "id": "37eb0e5b",
   "metadata": {},
   "outputs": [],
   "source": []
  },
  {
   "cell_type": "code",
   "execution_count": 1,
   "id": "632c55eb",
   "metadata": {},
   "outputs": [
    {
     "name": "stdout",
     "output_type": "stream",
     "text": [
      "Enter the latitude and longitude of the 1st point:22 33\n",
      "Enter the latitude and longitude of the 2nd point:44 55\n"
     ]
    },
    {
     "ename": "TypeError",
     "evalue": "must be real number, not str",
     "output_type": "error",
     "traceback": [
      "\u001b[1;31m---------------------------------------------------------------------------\u001b[0m",
      "\u001b[1;31mTypeError\u001b[0m                                 Traceback (most recent call last)",
      "\u001b[1;32m~\\AppData\\Local\\Temp\\ipykernel_9116\\325336619.py\u001b[0m in \u001b[0;36m<module>\u001b[1;34m\u001b[0m\n\u001b[0;32m      2\u001b[0m \u001b[0mt1\u001b[0m\u001b[1;33m,\u001b[0m \u001b[0mg1\u001b[0m\u001b[1;33m=\u001b[0m\u001b[0minput\u001b[0m\u001b[1;33m(\u001b[0m\u001b[1;34m\"Enter the latitude and longitude of the 1st point:\"\u001b[0m\u001b[1;33m)\u001b[0m\u001b[1;33m.\u001b[0m\u001b[0msplit\u001b[0m\u001b[1;33m(\u001b[0m\u001b[1;33m)\u001b[0m\u001b[1;33m\u001b[0m\u001b[1;33m\u001b[0m\u001b[0m\n\u001b[0;32m      3\u001b[0m \u001b[0mt2\u001b[0m\u001b[1;33m,\u001b[0m \u001b[0mg2\u001b[0m\u001b[1;33m=\u001b[0m\u001b[0minput\u001b[0m\u001b[1;33m(\u001b[0m\u001b[1;34m\"Enter the latitude and longitude of the 2nd point:\"\u001b[0m\u001b[1;33m)\u001b[0m\u001b[1;33m.\u001b[0m\u001b[0msplit\u001b[0m\u001b[1;33m(\u001b[0m\u001b[1;33m)\u001b[0m\u001b[1;33m\u001b[0m\u001b[1;33m\u001b[0m\u001b[0m\n\u001b[1;32m----> 4\u001b[1;33m \u001b[0mdis\u001b[0m\u001b[1;33m=\u001b[0m \u001b[1;36m6371.01\u001b[0m\u001b[1;33m*\u001b[0m\u001b[0mmath\u001b[0m\u001b[1;33m.\u001b[0m\u001b[0mcos\u001b[0m\u001b[1;33m(\u001b[0m\u001b[0mmath\u001b[0m\u001b[1;33m.\u001b[0m\u001b[0msin\u001b[0m\u001b[1;33m(\u001b[0m\u001b[0mt1\u001b[0m\u001b[1;33m)\u001b[0m\u001b[1;33m*\u001b[0m\u001b[0mmath\u001b[0m\u001b[1;33m.\u001b[0m\u001b[0msin\u001b[0m\u001b[1;33m(\u001b[0m\u001b[0mt2\u001b[0m\u001b[1;33m)\u001b[0m\u001b[1;33m+\u001b[0m\u001b[0mmath\u001b[0m\u001b[1;33m.\u001b[0m\u001b[0mcos\u001b[0m\u001b[1;33m(\u001b[0m\u001b[0mt1\u001b[0m\u001b[1;33m)\u001b[0m\u001b[1;33m*\u001b[0m\u001b[0mmath\u001b[0m\u001b[1;33m.\u001b[0m\u001b[0mcos\u001b[0m\u001b[1;33m(\u001b[0m\u001b[0mt2\u001b[0m\u001b[1;33m)\u001b[0m\u001b[1;33m*\u001b[0m\u001b[0mmath\u001b[0m\u001b[1;33m.\u001b[0m\u001b[0mcos\u001b[0m\u001b[1;33m(\u001b[0m\u001b[0mg1\u001b[0m\u001b[1;33m-\u001b[0m\u001b[0mg2\u001b[0m\u001b[1;33m)\u001b[0m\u001b[1;33m)\u001b[0m\u001b[1;33m\u001b[0m\u001b[1;33m\u001b[0m\u001b[0m\n\u001b[0m\u001b[0;32m      5\u001b[0m \u001b[0mprint\u001b[0m\u001b[1;33m(\u001b[0m\u001b[1;34m\"the distance between the two points is:\"\u001b[0m\u001b[1;33m,\u001b[0m\u001b[0mdis\u001b[0m\u001b[1;33m)\u001b[0m\u001b[1;33m\u001b[0m\u001b[1;33m\u001b[0m\u001b[0m\n",
      "\u001b[1;31mTypeError\u001b[0m: must be real number, not str"
     ]
    }
   ],
   "source": [
    "import math\n",
    "t1, g1=input(\"Enter the latitude and longitude of the 1st point:\").split()\n",
    "t2, g2=input(\"Enter the latitude and longitude of the 2nd point:\").split()\n",
    "dis= 6371.01*math.cos(math.sin(t1)*math.sin(t2)+math.cos(t1)*math.cos(t2)*math.cos(g1-g2))\n",
    "print(\"the distance between the two points is:\",dis)"
   ]
  },
  {
   "cell_type": "markdown",
   "id": "a032604a",
   "metadata": {},
   "source": [
    "13.Making change:"
   ]
  },
  {
   "cell_type": "code",
   "execution_count": null,
   "id": "cc3d571a",
   "metadata": {},
   "outputs": [],
   "source": []
  },
  {
   "cell_type": "markdown",
   "id": "2f77e3d9",
   "metadata": {},
   "source": [
    "14.Height units:\n",
    "Many people think about their height in feet and inches, even in some countries that primarily use the metric system. write a program that reads a number of feet from the user, followed by a number of inches. Once these values are read, your program should compute and display the equivalent number of centimeters"
   ]
  },
  {
   "cell_type": "code",
   "execution_count": 7,
   "id": "1dea4ed6",
   "metadata": {},
   "outputs": [
    {
     "name": "stdout",
     "output_type": "stream",
     "text": [
      "enter your height in feet and inches:15.5 16\n",
      "the height in centimeters: 513.08\n"
     ]
    }
   ],
   "source": [
    "feet,inch=input(\"enter your height in feet and inches:\").split( )\n",
    "feet=eval(feet)\n",
    "inch=eval(inch)\n",
    "cen=(feet*12+inch)*2.54\n",
    "print(\"the height in centimeters:\",cen)"
   ]
  },
  {
   "cell_type": "markdown",
   "id": "467cc517",
   "metadata": {},
   "source": [
    "##### 15.Distance units:"
   ]
  },
  {
   "cell_type": "code",
   "execution_count": 2,
   "id": "6839740c",
   "metadata": {},
   "outputs": [
    {
     "name": "stdout",
     "output_type": "stream",
     "text": [
      "enter the distance in feet20\n",
      "the distance in: \n",
      "inches= 240.0 \n",
      "yards= 6.66 \n",
      "miles= 0.0037800000000000004\n"
     ]
    }
   ],
   "source": [
    "feet=float(input(\"enter the distance in feet\"))\n",
    "inch=feet*12\n",
    "yard=feet*0.333\n",
    "mile=feet*0.000189\n",
    "print(\"the distance in: \\ninches=\",inch,\"\\nyards=\",yard,\"\\nmiles=\",mile)"
   ]
  },
  {
   "cell_type": "markdown",
   "id": "9d3a2c5e",
   "metadata": {},
   "source": [
    "16.Area and Volume:"
   ]
  },
  {
   "cell_type": "code",
   "execution_count": 5,
   "id": "ea7b2e9e",
   "metadata": {},
   "outputs": [
    {
     "name": "stdout",
     "output_type": "stream",
     "text": [
      "enter the radius:5\n",
      "the area of the circle= 78.53981633974483 \n",
      "the volume of the sphere is: 523.5987755982989\n"
     ]
    }
   ],
   "source": [
    "import math\n",
    "r=float(input(\"enter the radius:\"))\n",
    "area=math.pi*r**2\n",
    "volume=(4*math.pi*r**3)/3\n",
    "print(\"the area of the circle=\",area,\"\\nthe volume of the sphere is:\",volume)"
   ]
  },
  {
   "cell_type": "markdown",
   "id": "6744450f",
   "metadata": {},
   "source": [
    "17.Heat capacity:"
   ]
  },
  {
   "cell_type": "code",
   "execution_count": 13,
   "id": "ab2d55da",
   "metadata": {},
   "outputs": [
    {
     "name": "stdout",
     "output_type": "stream",
     "text": [
      "enter the mass of water:5\n",
      "enter the temperature change:5 10\n"
     ]
    },
    {
     "ename": "NameError",
     "evalue": "name 'difference' is not defined",
     "output_type": "error",
     "traceback": [
      "\u001b[1;31m---------------------------------------------------------------------------\u001b[0m",
      "\u001b[1;31mNameError\u001b[0m                                 Traceback (most recent call last)",
      "\u001b[1;32m~\\AppData\\Local\\Temp\\ipykernel_22332\\2950984607.py\u001b[0m in \u001b[0;36m<module>\u001b[1;34m\u001b[0m\n\u001b[0;32m      1\u001b[0m \u001b[0mm\u001b[0m\u001b[1;33m=\u001b[0m\u001b[0mfloat\u001b[0m\u001b[1;33m(\u001b[0m\u001b[0minput\u001b[0m\u001b[1;33m(\u001b[0m\u001b[1;34m\"enter the mass of water:\"\u001b[0m\u001b[1;33m)\u001b[0m\u001b[1;33m)\u001b[0m\u001b[1;33m\u001b[0m\u001b[1;33m\u001b[0m\u001b[0m\n\u001b[0;32m      2\u001b[0m \u001b[0mt1\u001b[0m\u001b[1;33m,\u001b[0m\u001b[0mt2\u001b[0m\u001b[1;33m=\u001b[0m\u001b[0minput\u001b[0m\u001b[1;33m(\u001b[0m\u001b[1;34m\"enter the temperature change:\"\u001b[0m\u001b[1;33m)\u001b[0m\u001b[1;33m.\u001b[0m\u001b[0msplit\u001b[0m\u001b[1;33m(\u001b[0m\u001b[1;33m)\u001b[0m\u001b[1;33m\u001b[0m\u001b[1;33m\u001b[0m\u001b[0m\n\u001b[1;32m----> 3\u001b[1;33m \u001b[0mdifference\u001b[0m\u001b[1;33m(\u001b[0m\u001b[0mt1\u001b[0m\u001b[1;33m,\u001b[0m\u001b[0mt2\u001b[0m\u001b[1;33m)\u001b[0m\u001b[1;33m\u001b[0m\u001b[1;33m\u001b[0m\u001b[0m\n\u001b[0m",
      "\u001b[1;31mNameError\u001b[0m: name 'difference' is not defined"
     ]
    }
   ],
   "source": [
    "m=float(input(\"enter the mass of water:\"))\n",
    "t1,t2=input(\"enter the temperature change:\").split()\n"
   ]
  },
  {
   "cell_type": "markdown",
   "id": "b8580a30",
   "metadata": {},
   "source": [
    "18.Volume of the cylinder:"
   ]
  },
  {
   "cell_type": "code",
   "execution_count": 14,
   "id": "293028af",
   "metadata": {},
   "outputs": [
    {
     "name": "stdout",
     "output_type": "stream",
     "text": [
      "enter the radius of base:5\n",
      "enter the height of cylinder:10\n",
      "the volume of cylinder= 785.4\n"
     ]
    }
   ],
   "source": [
    "import math\n",
    "r=float(input(\"enter the radius of base:\"))\n",
    "h=float(input(\"enter the height of cylinder:\"))\n",
    "v=math.pi*r**2*h\n",
    "print(\"the volume of cylinder=\",round(v,1))"
   ]
  },
  {
   "cell_type": "markdown",
   "id": "14d98eac",
   "metadata": {},
   "source": [
    "19.Free fall:"
   ]
  },
  {
   "cell_type": "code",
   "execution_count": null,
   "id": "35890421",
   "metadata": {},
   "outputs": [],
   "source": []
  },
  {
   "cell_type": "markdown",
   "id": "e4228215",
   "metadata": {},
   "source": [
    "34.Even or odd:"
   ]
  },
  {
   "cell_type": "code",
   "execution_count": 20,
   "id": "f4b649ea",
   "metadata": {},
   "outputs": [
    {
     "name": "stdout",
     "output_type": "stream",
     "text": [
      "enter the no.:7\n",
      "7 is odd\n"
     ]
    }
   ],
   "source": [
    "a=int(input(\"enter the no.:\"))\n",
    "if a%2==0:\n",
    "    print(a,\"is even\")\n",
    "else:\n",
    "    print(a,\"is odd\")"
   ]
  },
  {
   "cell_type": "raw",
   "id": "d7b0cd29",
   "metadata": {},
   "source": [
    "35.Dog years:"
   ]
  },
  {
   "cell_type": "code",
   "execution_count": null,
   "id": "36bc32c1",
   "metadata": {},
   "outputs": [],
   "source": []
  },
  {
   "cell_type": "markdown",
   "id": "5e934263",
   "metadata": {},
   "source": [
    "36.Vowel or consonant:"
   ]
  },
  {
   "cell_type": "code",
   "execution_count": 8,
   "id": "10dde65f",
   "metadata": {},
   "outputs": [
    {
     "name": "stdout",
     "output_type": "stream",
     "text": [
      "enter a letter:e\n",
      "e is a vowel\n"
     ]
    }
   ],
   "source": [
    "letter=input(\"enter a letter:\")\n",
    "if letter==\"a\" or letter==\"e\" or letter==\"i\" or letter==\"o\" or letter==\"u\":\n",
    "    print(letter,\"is a vowel\")\n",
    "elif letter==\"y\":\n",
    "    print(letter,\"is a vowel sometimes and is a consonant sometimes\")\n",
    "else:\n",
    "    print(letter,\"is a consonant\")"
   ]
  },
  {
   "cell_type": "code",
   "execution_count": null,
   "id": "6715d82d",
   "metadata": {},
   "outputs": [],
   "source": []
  },
  {
   "cell_type": "markdown",
   "id": "43b0733d",
   "metadata": {},
   "source": [
    "37.name that shape"
   ]
  },
  {
   "cell_type": "code",
   "execution_count": null,
   "id": "88cd1ae0",
   "metadata": {},
   "outputs": [],
   "source": []
  }
 ],
 "metadata": {
  "kernelspec": {
   "display_name": "Python 3 (ipykernel)",
   "language": "python",
   "name": "python3"
  },
  "language_info": {
   "codemirror_mode": {
    "name": "ipython",
    "version": 3
   },
   "file_extension": ".py",
   "mimetype": "text/x-python",
   "name": "python",
   "nbconvert_exporter": "python",
   "pygments_lexer": "ipython3",
   "version": "3.9.13"
  }
 },
 "nbformat": 4,
 "nbformat_minor": 5
}
