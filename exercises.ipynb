{
 "cells": [
  {
   "cell_type": "markdown",
   "id": "f3ba4971",
   "metadata": {},
   "source": [
    "61.Average:\n",
    "you will create a prog that computes the average of a collection of values entered by the user. The user will enter 0 as a sentinel value to indicate that no further values will be provided. your prog should display an appropriate error message if the first value entered by the user is 0."
   ]
  },
  {
   "cell_type": "code",
   "execution_count": null,
   "id": "90328640",
   "metadata": {},
   "outputs": [],
   "source": [
    "a=eval(input())\n"
   ]
  }
 ],
 "metadata": {
  "kernelspec": {
   "display_name": "Python 3 (ipykernel)",
   "language": "python",
   "name": "python3"
  },
  "language_info": {
   "codemirror_mode": {
    "name": "ipython",
    "version": 3
   },
   "file_extension": ".py",
   "mimetype": "text/x-python",
   "name": "python",
   "nbconvert_exporter": "python",
   "pygments_lexer": "ipython3",
   "version": "3.9.13"
  }
 },
 "nbformat": 4,
 "nbformat_minor": 5
}
