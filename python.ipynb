{
 "cells": [
  {
   "cell_type": "code",
   "execution_count": null,
   "id": "c8803a88",
   "metadata": {},
   "outputs": [],
   "source": [
    "print(\"hello\")"
   ]
  },
  {
   "cell_type": "code",
   "execution_count": null,
   "id": "b55a5ea1",
   "metadata": {},
   "outputs": [],
   "source": [
    "print(\"vishnu\")"
   ]
  },
  {
   "cell_type": "code",
   "execution_count": null,
   "id": "ae6df283",
   "metadata": {},
   "outputs": [],
   "source": [
    "a=10\n",
    "A=15\n",
    "a_1=20"
   ]
  },
  {
   "cell_type": "code",
   "execution_count": null,
   "id": "b743b2b2",
   "metadata": {},
   "outputs": [],
   "source": [
    "type(a)"
   ]
  },
  {
   "cell_type": "code",
   "execution_count": null,
   "id": "d4141900",
   "metadata": {},
   "outputs": [],
   "source": [
    "strg=\"vishnu\"\n",
    "flt=2.5"
   ]
  },
  {
   "cell_type": "code",
   "execution_count": null,
   "id": "d130208a",
   "metadata": {},
   "outputs": [],
   "source": [
    "strg[2]"
   ]
  },
  {
   "cell_type": "code",
   "execution_count": null,
   "id": "163b75d3",
   "metadata": {},
   "outputs": [],
   "source": [
    "strg[2,5]"
   ]
  },
  {
   "cell_type": "code",
   "execution_count": null,
   "id": "84209262",
   "metadata": {},
   "outputs": [],
   "source": [
    "strg[2,3]"
   ]
  },
  {
   "cell_type": "code",
   "execution_count": null,
   "id": "e9eaca91",
   "metadata": {},
   "outputs": [],
   "source": [
    "strg[::2]"
   ]
  },
  {
   "cell_type": "code",
   "execution_count": null,
   "id": "7f956dda",
   "metadata": {},
   "outputs": [],
   "source": [
    "strg[2:4]"
   ]
  },
  {
   "cell_type": "code",
   "execution_count": null,
   "id": "6dd3c59c",
   "metadata": {},
   "outputs": [],
   "source": [
    "strg[2][4]"
   ]
  },
  {
   "cell_type": "code",
   "execution_count": null,
   "id": "59ff8862",
   "metadata": {},
   "outputs": [],
   "source": [
    "strg_1=\"widgets \"\n",
    "strg_2=\"distance\""
   ]
  },
  {
   "cell_type": "code",
   "execution_count": null,
   "id": "74682c36",
   "metadata": {},
   "outputs": [],
   "source": [
    "strg_3=strg_1+strg_2"
   ]
  },
  {
   "cell_type": "code",
   "execution_count": null,
   "id": "e44c6da5",
   "metadata": {},
   "outputs": [],
   "source": []
  },
  {
   "cell_type": "code",
   "execution_count": null,
   "id": "34cd99a3",
   "metadata": {},
   "outputs": [],
   "source": [
    "strg_3\n"
   ]
  },
  {
   "cell_type": "code",
   "execution_count": null,
   "id": "ff4eb467",
   "metadata": {},
   "outputs": [],
   "source": [
    "print(strg_3)"
   ]
  },
  {
   "cell_type": "code",
   "execution_count": null,
   "id": "322d7feb",
   "metadata": {},
   "outputs": [],
   "source": [
    "strg_4=strg_3.upper()"
   ]
  },
  {
   "cell_type": "code",
   "execution_count": null,
   "id": "5819e616",
   "metadata": {},
   "outputs": [],
   "source": [
    "strg_5=strg_4.lower()"
   ]
  },
  {
   "cell_type": "code",
   "execution_count": null,
   "id": "389aacc4",
   "metadata": {},
   "outputs": [],
   "source": [
    "strg_5.title()"
   ]
  },
  {
   "cell_type": "code",
   "execution_count": null,
   "id": "f1554b0f",
   "metadata": {},
   "outputs": [],
   "source": [
    "strg_5[0] ="
   ]
  },
  {
   "cell_type": "code",
   "execution_count": 2,
   "id": "3e1c5755",
   "metadata": {},
   "outputs": [],
   "source": [
    "strn_1=\" height \"\n"
   ]
  },
  {
   "cell_type": "code",
   "execution_count": 3,
   "id": "abf95b16",
   "metadata": {},
   "outputs": [
    {
     "data": {
      "text/plain": [
       "'height'"
      ]
     },
     "execution_count": 3,
     "metadata": {},
     "output_type": "execute_result"
    }
   ],
   "source": [
    "strn_1.strip()"
   ]
  },
  {
   "cell_type": "code",
   "execution_count": null,
   "id": "9a2e9743",
   "metadata": {},
   "outputs": [],
   "source": [
    "strn_1.replace(\"i\",\"j\")"
   ]
  },
  {
   "cell_type": "code",
   "execution_count": null,
   "id": "6790ed2e",
   "metadata": {},
   "outputs": [],
   "source": [
    "a=10+15"
   ]
  },
  {
   "cell_type": "code",
   "execution_count": null,
   "id": "e7948c62",
   "metadata": {},
   "outputs": [],
   "source": [
    "a"
   ]
  },
  {
   "cell_type": "code",
   "execution_count": null,
   "id": "b983f3af",
   "metadata": {},
   "outputs": [],
   "source": [
    "b=15\n",
    "c=a+b"
   ]
  },
  {
   "cell_type": "code",
   "execution_count": null,
   "id": "07f7a584",
   "metadata": {},
   "outputs": [],
   "source": [
    "c"
   ]
  },
  {
   "cell_type": "code",
   "execution_count": null,
   "id": "26d0842b",
   "metadata": {},
   "outputs": [],
   "source": [
    "a=2**4"
   ]
  },
  {
   "cell_type": "code",
   "execution_count": null,
   "id": "24e8acbe",
   "metadata": {},
   "outputs": [],
   "source": [
    "a"
   ]
  },
  {
   "cell_type": "code",
   "execution_count": null,
   "id": "3657ddae",
   "metadata": {},
   "outputs": [],
   "source": [
    "a=10/3"
   ]
  },
  {
   "cell_type": "code",
   "execution_count": null,
   "id": "092d338d",
   "metadata": {},
   "outputs": [],
   "source": [
    "a"
   ]
  },
  {
   "cell_type": "code",
   "execution_count": null,
   "id": "96027756",
   "metadata": {},
   "outputs": [],
   "source": [
    "a=10%3"
   ]
  },
  {
   "cell_type": "code",
   "execution_count": null,
   "id": "4fca96e0",
   "metadata": {},
   "outputs": [],
   "source": [
    "a"
   ]
  },
  {
   "cell_type": "code",
   "execution_count": null,
   "id": "a87bb623",
   "metadata": {},
   "outputs": [],
   "source": [
    "help(1)"
   ]
  },
  {
   "cell_type": "code",
   "execution_count": null,
   "id": "431d0b40",
   "metadata": {},
   "outputs": [],
   "source": [
    "dir(1)"
   ]
  },
  {
   "cell_type": "code",
   "execution_count": null,
   "id": "20d83f15",
   "metadata": {},
   "outputs": [],
   "source": [
    "age=20\n",
    "text=\"my age is\""
   ]
  },
  {
   "cell_type": "code",
   "execution_count": null,
   "id": "bc2993dd",
   "metadata": {},
   "outputs": [],
   "source": [
    "sent=str(age)+text"
   ]
  },
  {
   "cell_type": "code",
   "execution_count": null,
   "id": "2fbcbafd",
   "metadata": {},
   "outputs": [],
   "source": []
  },
  {
   "cell_type": "code",
   "execution_count": null,
   "id": "4c9d8267",
   "metadata": {},
   "outputs": [],
   "source": [
    "sent"
   ]
  },
  {
   "cell_type": "code",
   "execution_count": null,
   "id": "8ae89920",
   "metadata": {},
   "outputs": [],
   "source": [
    "type(sent)"
   ]
  },
  {
   "cell_type": "code",
   "execution_count": null,
   "id": "56dae3dc",
   "metadata": {},
   "outputs": [],
   "source": [
    "float(20)"
   ]
  },
  {
   "cell_type": "code",
   "execution_count": null,
   "id": "440afa6c",
   "metadata": {},
   "outputs": [],
   "source": [
    "sent=f\"my age is {age}\""
   ]
  },
  {
   "cell_type": "code",
   "execution_count": null,
   "id": "9e17ed74",
   "metadata": {},
   "outputs": [],
   "source": [
    "sent\n"
   ]
  },
  {
   "cell_type": "code",
   "execution_count": null,
   "id": "a9146097",
   "metadata": {},
   "outputs": [],
   "source": [
    "a=10\n",
    "b=20"
   ]
  },
  {
   "cell_type": "code",
   "execution_count": null,
   "id": "79105322",
   "metadata": {},
   "outputs": [],
   "source": [
    "a==b"
   ]
  },
  {
   "cell_type": "code",
   "execution_count": null,
   "id": "2647e538",
   "metadata": {},
   "outputs": [],
   "source": [
    "a<=b"
   ]
  },
  {
   "cell_type": "code",
   "execution_count": null,
   "id": "9b11adf3",
   "metadata": {},
   "outputs": [],
   "source": [
    "a>=b"
   ]
  },
  {
   "cell_type": "code",
   "execution_count": null,
   "id": "8cb446ed",
   "metadata": {},
   "outputs": [],
   "source": [
    "a++b"
   ]
  },
  {
   "cell_type": "code",
   "execution_count": null,
   "id": "1737b4c1",
   "metadata": {},
   "outputs": [],
   "source": [
    "a--b"
   ]
  },
  {
   "cell_type": "code",
   "execution_count": null,
   "id": "493f5123",
   "metadata": {},
   "outputs": [],
   "source": []
  },
  {
   "cell_type": "code",
   "execution_count": null,
   "id": "73d5068c",
   "metadata": {},
   "outputs": [],
   "source": [
    "a=-12"
   ]
  },
  {
   "cell_type": "code",
   "execution_count": null,
   "id": "3fc85945",
   "metadata": {},
   "outputs": [],
   "source": [
    "abs(a)"
   ]
  },
  {
   "cell_type": "code",
   "execution_count": null,
   "id": "7a0917da",
   "metadata": {},
   "outputs": [],
   "source": [
    "round(3.16,1)"
   ]
  },
  {
   "cell_type": "code",
   "execution_count": null,
   "id": "b6eec978",
   "metadata": {},
   "outputs": [],
   "source": [
    "strg=\"he's\""
   ]
  },
  {
   "cell_type": "code",
   "execution_count": null,
   "id": "8191a4fb",
   "metadata": {},
   "outputs": [],
   "source": [
    "a=3\n",
    "if a<2:\n",
    "    print(\"a is less than 2\")\n",
    "els:\n",
    "    print(\"a is greater than 2\")"
   ]
  },
  {
   "cell_type": "code",
   "execution_count": null,
   "id": "e5d094df",
   "metadata": {},
   "outputs": [],
   "source": [
    "a=10\n",
    "if a==15:\n",
    "    print(f\"the condition is false {a}\")\n",
    "elif a==10:\n",
    "    print(f\"the condition is true {a}\")\n",
    "\n"
   ]
  },
  {
   "cell_type": "code",
   "execution_count": null,
   "id": "15b49d87",
   "metadata": {},
   "outputs": [],
   "source": [
    "a=10\n",
    "if a==10:\n",
    "    if a<15:\n",
    "        print(a)"
   ]
  },
  {
   "cell_type": "code",
   "execution_count": null,
   "id": "251d1477",
   "metadata": {},
   "outputs": [],
   "source": [
    "a=15\n"
   ]
  },
  {
   "cell_type": "markdown",
   "id": "f0c25722",
   "metadata": {},
   "source": []
  },
  {
   "cell_type": "code",
   "execution_count": null,
   "id": "4de89335",
   "metadata": {},
   "outputs": [],
   "source": [
    "#for(a=0;a<3;a++)\n",
    "a=[1,2,3]\n",
    "for i in a:\n",
    "    print(i)"
   ]
  },
  {
   "cell_type": "markdown",
   "id": "533fdd9a",
   "metadata": {},
   "source": [
    "letter=input(\"enter a letter:\")\n",
    "if letter==\"a\" or letter==\"e\" or letter==\"i\" or letter==\"o\" or letter==\"u\":\n",
    "    print(letter,\"is a vowel\")\n",
    "elif letter==\"y\":\n",
    "    print(letter,\"is a vowel sometimes and is a consonant sometimes\")\n",
    "else:\n",
    "    print(letter,\"is a consonant\")"
   ]
  },
  {
   "cell_type": "code",
   "execution_count": null,
   "id": "389bbb9b",
   "metadata": {},
   "outputs": [],
   "source": [
    "ele1=input()\n",
    "lst=[\"a\",\"e\",\"i\",\"o\",\"u\"]\n",
    "for ele in lst:\n",
    "    if ele==ele1:\n",
    "        print(ele1,\"is a vowel\")\n",
    "        break\n",
    "    if ele1==\"y\":\n",
    "        print(ele1,\"is a vowel sometimes and is a consonant sometimes\")\n",
    "        break\n",
    "    else:\n",
    "        print(ele1,\"is a consonant\")\n",
    "        break"
   ]
  },
  {
   "cell_type": "code",
   "execution_count": null,
   "id": "182e72a0",
   "metadata": {},
   "outputs": [],
   "source": [
    "ele1=input()\n",
    "lst=[\"a\",\"e\",\"i\",\"o\",\"u\"]\n",
    "for ele in lst:\n",
    "    if ele==ele1:\n",
    "        print(ele1,\"is a vowel\")\n",
    "        break\n",
    "else:\n",
    "    print(ele1,\"is a consonant\")\n"
   ]
  },
  {
   "cell_type": "code",
   "execution_count": null,
   "id": "3d47890d",
   "metadata": {},
   "outputs": [],
   "source": [
    "n=int(input())\n",
    "for ele in range(1,n+1):\n",
    "    print(f\"is a{ele} vowel\") "
   ]
  },
  {
   "cell_type": "code",
   "execution_count": null,
   "id": "18dbbf9b",
   "metadata": {},
   "outputs": [],
   "source": [
    "a=eval(input())\n",
    "while a==10 and a<=15:\n",
    "    print(f\"{a}=10\")\n",
    "    break\n",
    "else:\n",
    "    print(\"check the cond.\")\n",
    "    "
   ]
  },
  {
   "cell_type": "code",
   "execution_count": null,
   "id": "3748c304",
   "metadata": {},
   "outputs": [],
   "source": [
    "n=int(input())\n",
    "for ele in range(1,n+1):\n",
    "    if ele==1:\n",
    "        print(f\"is a{ele} vowel\") \n",
    "        pass\n",
    "    else:\n",
    "        print(ele)\n",
    "    "
   ]
  },
  {
   "cell_type": "code",
   "execution_count": null,
   "id": "4d718afb",
   "metadata": {},
   "outputs": [],
   "source": [
    "def ace(a1,b1):\n",
    "    a=a1+b1\n",
    "    print(a)"
   ]
  },
  {
   "cell_type": "code",
   "execution_count": null,
   "id": "05b4b967",
   "metadata": {},
   "outputs": [],
   "source": [
    "ace(2,3)"
   ]
  },
  {
   "cell_type": "code",
   "execution_count": null,
   "id": "4febfe76",
   "metadata": {},
   "outputs": [],
   "source": [
    "def ace(a1,b1):\n",
    "    a=a1+b1\n",
    "    print(a)"
   ]
  },
  {
   "cell_type": "code",
   "execution_count": null,
   "id": "09065f6e",
   "metadata": {},
   "outputs": [],
   "source": [
    "ace(b1=20,a1=10)"
   ]
  },
  {
   "cell_type": "code",
   "execution_count": null,
   "id": "c2f6d59d",
   "metadata": {},
   "outputs": [],
   "source": [
    "def mark(actual_mark,grace_mark=5):\n",
    "    total_mark=actual_mark+grace_mark\n",
    "    print(total_mark)"
   ]
  },
  {
   "cell_type": "code",
   "execution_count": null,
   "id": "b18b47dd",
   "metadata": {},
   "outputs": [],
   "source": [
    "mark(80)"
   ]
  },
  {
   "cell_type": "code",
   "execution_count": null,
   "id": "6805eb86",
   "metadata": {},
   "outputs": [],
   "source": [
    "def mark(*actual_mark):\n",
    "    total_mark=actual_mark\n",
    "    print(total_mark)"
   ]
  },
  {
   "cell_type": "code",
   "execution_count": null,
   "id": "a14d0472",
   "metadata": {},
   "outputs": [],
   "source": [
    "mark(30,40,50,60)"
   ]
  },
  {
   "cell_type": "code",
   "execution_count": null,
   "id": "e4875248",
   "metadata": {},
   "outputs": [],
   "source": [
    "def calc(feet):\n",
    "    inch=feet*12\n",
    "    yard=feet*0.333\n",
    "    mile=feet*0.000189\n",
    "    print(\"the distance in: \\ninches=\",inch,\"\\nyards=\",yard,\"\\nmiles=\",mile)"
   ]
  },
  {
   "cell_type": "code",
   "execution_count": null,
   "id": "d562e2f6",
   "metadata": {},
   "outputs": [],
   "source": [
    "feet=eval(input())\n",
    "calc(feet)"
   ]
  },
  {
   "cell_type": "code",
   "execution_count": null,
   "id": "10ae8cdc",
   "metadata": {},
   "outputs": [],
   "source": [
    "def addt(a,b):\n",
    "    return a+b"
   ]
  },
  {
   "cell_type": "code",
   "execution_count": null,
   "id": "24695673",
   "metadata": {},
   "outputs": [],
   "source": [
    "def subt(a,b):\n",
    "    return a-b"
   ]
  },
  {
   "cell_type": "code",
   "execution_count": null,
   "id": "e54b60cc",
   "metadata": {},
   "outputs": [],
   "source": [
    "def mult(a,b):\n",
    "    return a*b"
   ]
  },
  {
   "cell_type": "code",
   "execution_count": null,
   "id": "5bf1996b",
   "metadata": {},
   "outputs": [],
   "source": [
    "def div(a,b):\n",
    "    return a/b"
   ]
  },
  {
   "cell_type": "code",
   "execution_count": null,
   "id": "7133d970",
   "metadata": {},
   "outputs": [],
   "source": [
    "\n",
    "print(\"choose the no.\\n1.addition\\n2.subtraction\\n3.mulitplication\\n4.division\")\n",
    "choice=int(input())\n",
    "a=eval(input(\"enter the value of a:\"))\n",
    "b=eval(input(\"enter the value of b:\"))\n",
    "if choice==1:\n",
    "    addt=addt(a,b)\n",
    "    print(addt)\n",
    "elif choice==2:\n",
    "    subt=subt(a,b)\n",
    "    print(subt)\n",
    "elif choice==3:\n",
    "    mult=mult(a,b)\n",
    "    print(mult)\n",
    "elif choice==4:\n",
    "    div=div(a,b)\n",
    "    print(div)\n",
    "else:\n",
    "    print(\"something went wrong\")\n"
   ]
  },
  {
   "cell_type": "code",
   "execution_count": null,
   "id": "3e75bd7b",
   "metadata": {},
   "outputs": [],
   "source": [
    "lst=[\"a\",2,3.5]\n",
    "print(lst)"
   ]
  },
  {
   "cell_type": "code",
   "execution_count": null,
   "id": "92a65747",
   "metadata": {},
   "outputs": [],
   "source": [
    "print(lst[1])"
   ]
  },
  {
   "cell_type": "code",
   "execution_count": 5,
   "id": "74daca54",
   "metadata": {},
   "outputs": [],
   "source": [
    "ls1=list(range(0,10))"
   ]
  },
  {
   "cell_type": "code",
   "execution_count": null,
   "id": "54308824",
   "metadata": {},
   "outputs": [],
   "source": []
  }
 ],
 "metadata": {
  "kernelspec": {
   "display_name": "Python 3 (ipykernel)",
   "language": "python",
   "name": "python3"
  },
  "language_info": {
   "codemirror_mode": {
    "name": "ipython",
    "version": 3
   },
   "file_extension": ".py",
   "mimetype": "text/x-python",
   "name": "python",
   "nbconvert_exporter": "python",
   "pygments_lexer": "ipython3",
   "version": "3.9.13"
  }
 },
 "nbformat": 4,
 "nbformat_minor": 5
}
